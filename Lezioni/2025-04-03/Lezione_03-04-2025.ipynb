{
 "cells": [
  {
   "cell_type": "markdown",
   "metadata": {},
   "source": [
    "# Lezione 3 aprile 2025\n",
    "\n",
    "Valutazione di un regressore lineare"
   ]
  },
  {
   "cell_type": "code",
   "execution_count": 317,
   "metadata": {},
   "outputs": [
    {
     "name": "stderr",
     "output_type": "stream",
     "text": [
      "/Users/vincenzovillanova/miniconda3/envs/ML_def/lib/python3.8/site-packages/sklearn/datasets/_openml.py:1002: FutureWarning: The default value of `parser` will change from `'liac-arff'` to `'auto'` in 1.4. You can set `parser='auto'` to silence this warning. Therefore, an `ImportError` will be raised from 1.4 if the dataset is dense and pandas is not installed. Note that the pandas parser may return different data types. See the Notes Section in fetch_openml's API doc for details.\n",
      "  warn(\n"
     ]
    }
   ],
   "source": [
    "import numpy as np\n",
    "from sklearn.datasets import fetch_openml\n",
    "import torch\n",
    "\n",
    "boston = fetch_openml(name=\"boston\", version=1)\n",
    "\n",
    "X = boston.data.to_numpy().astype(float)\n",
    "Y = boston.target.to_numpy().astype(float)\n",
    "\n",
    "np.random.seed(123)\n",
    "torch.random.manual_seed(123)\n",
    "idx = np.random.permutation(len(X))\n",
    "\n",
    "X = X[idx]\n",
    "Y = Y[idx]\n",
    "\n",
    "X_training = torch.Tensor(X[50:])\n",
    "Y_training = torch.Tensor(Y[50:])\n",
    "\n",
    "X_testing = torch.Tensor(X[:50])\n",
    "Y_testing = torch.Tensor(Y[:50])"
   ]
  },
  {
   "cell_type": "code",
   "execution_count": 318,
   "metadata": {},
   "outputs": [],
   "source": [
    "from torch import nn\n",
    "\n",
    "\n",
    "class LinearRegressor(nn.Module):\n",
    "    def __init__(self, in_size, out_size):\n",
    "        \"\"\"Costruisce un regressore lineare.\n",
    "        Input:\n",
    "            in_size: numero di feature in input (es. 13)\n",
    "            out_size: numero di elementi in output (es. 1)\"\"\"\n",
    "        super(LinearRegressor, self).__init__()\n",
    "\n",
    "        self.linear = nn.Linear(in_size, out_size)\n",
    "\n",
    "    def forward(self, x):\n",
    "        \"\"\"Definisce come processare l'input x\"\"\"\n",
    "        result = self.linear(x)\n",
    "\n",
    "        return result"
   ]
  },
  {
   "cell_type": "code",
   "execution_count": 319,
   "metadata": {},
   "outputs": [],
   "source": [
    "from torch.utils.tensorboard import SummaryWriter\n",
    "\n",
    "lr = 0.01\n",
    "epochs = 300\n",
    "\n",
    "writer = SummaryWriter(\"logs/linear_regressor_1\")\n",
    "\n",
    "# normalizzazione dei dati\n",
    "means = X_training.mean(0)\n",
    "stds = X_training.std(0)\n",
    "\n",
    "X_training_norm = (X_training - means) / stds\n",
    "X_testing_norm = (X_testing - means) / stds\n",
    "\n",
    "reg = LinearRegressor(13, 1)\n",
    "criterion = nn.MSELoss()\n",
    "\n",
    "optimizer = torch.optim.SGD(reg.parameters(), lr=lr)\n",
    "\n",
    "for e in range(epochs):\n",
    "    reg.train()\n",
    "    output = reg(X_training_norm)\n",
    "    l = criterion(output.view(-1), Y_training)\n",
    "\n",
    "    writer.add_scalar(\"loss/train\", l.item(), global_step=e)\n",
    "\n",
    "    l.backward()\n",
    "\n",
    "    optimizer.step()\n",
    "    optimizer.zero_grad()\n",
    "\n",
    "    reg.eval()\n",
    "\n",
    "    with torch.set_grad_enabled(False):\n",
    "        y_test = reg(X_testing_norm)\n",
    "        l = criterion(y_test.view(-1), Y_testing)\n",
    "        writer.add_scalar(\"loss/test\", l.item(), global_step=e)"
   ]
  },
  {
   "cell_type": "code",
   "execution_count": 320,
   "metadata": {},
   "outputs": [],
   "source": [
    "# Per prevenire le etichette sia per il training sia per il testset facciamo :\n",
    "\n",
    "preds_training = reg(X_training_norm)\n",
    "preds_testing = reg(X_testing_norm)"
   ]
  },
  {
   "cell_type": "code",
   "execution_count": 321,
   "metadata": {},
   "outputs": [
    {
     "name": "stdout",
     "output_type": "stream",
     "text": [
      "Mean Squared Errore (MSE) di training 20.52\n",
      "Mean Squared Errore (MSE) di training 44.04\n"
     ]
    }
   ],
   "source": [
    "# Un modo per valutare il modello consiste nel calcolare MSE. Definiamo una funzione e usiamola per calcolare l'errore di test:\n",
    "\n",
    "\n",
    "def MSE(predictions, gt):\n",
    "    assert predictions.shape == gt.shape\n",
    "    return ((predictions - gt) ** 2).mean()\n",
    "\n",
    "\n",
    "# Quando chiamiamo MSE, facciamo reshape delle predizioni in modo tale da passare da [N x 1] a dimensione  di shape [1]\n",
    "print(\n",
    "    \"Mean Squared Errore (MSE) di training {:0.2f}\".format(\n",
    "        MSE(preds_training.view(-1), Y_training)\n",
    "    )\n",
    ")\n",
    "print(\n",
    "    \"Mean Squared Errore (MSE) di training {:0.2f}\".format(\n",
    "        MSE(preds_testing.view(-1), Y_testing)\n",
    "    )\n",
    ")"
   ]
  },
  {
   "cell_type": "code",
   "execution_count": 322,
   "metadata": {},
   "outputs": [
    {
     "name": "stdout",
     "output_type": "stream",
     "text": [
      "Root Mean Squared Errore (RMSE) di training 4.53\n",
      "Root Mean Squared Errore (RMSE) di training 6.64\n"
     ]
    }
   ],
   "source": [
    "# Per eliminare gli errori al quadrato dell'MSE usiamo RMSE\n",
    "\n",
    "\n",
    "def RMSE(predictions, gt):\n",
    "    assert predictions.shape == gt.shape\n",
    "    return ((predictions - gt) ** 2).mean() ** (0.5)\n",
    "\n",
    "\n",
    "# Quando chiamiamo MSE, facciamo reshape delle predizioni in modo tale da passare da [N x 1] a dimensione  di shape [1]\n",
    "print(\n",
    "    \"Root Mean Squared Errore (RMSE) di training {:0.2f}\".format(\n",
    "        RMSE(preds_training.view(-1), Y_training)\n",
    "    )\n",
    ")\n",
    "print(\n",
    "    \"Root Mean Squared Errore (RMSE) di training {:0.2f}\".format(\n",
    "        RMSE(preds_testing.view(-1), Y_testing)\n",
    "    )\n",
    ")"
   ]
  },
  {
   "cell_type": "code",
   "execution_count": 323,
   "metadata": {},
   "outputs": [
    {
     "name": "stdout",
     "output_type": "stream",
     "text": [
      "Mean Absolute Error (MAE) di training 3.08\n",
      "Mean Absolute Error (MAE) di training 4.31\n"
     ]
    }
   ],
   "source": [
    "# Un'altra misura di errore utilizzata è la Mean Absolute Error (MAE)\n",
    "# che consiste nel calcolare le medie dei valori assoluti delle differenze tra valori predetti e valori di ground truth\n",
    "\n",
    "\n",
    "def MAE(predictions, gt):\n",
    "    assert predictions.shape == gt.shape\n",
    "    return ((predictions - gt).abs()).mean()\n",
    "\n",
    "\n",
    "# Quando chiamiamo MSE, facciamo reshape delle predizioni in modo tale da passare da [N x 1] a dimensione  di shape [1]\n",
    "print(\n",
    "    \"Mean Absolute Error (MAE) di training {:0.2f}\".format(\n",
    "        MAE(preds_training.view(-1), Y_training)\n",
    "    )\n",
    ")\n",
    "print(\n",
    "    \"Mean Absolute Error (MAE) di training {:0.2f}\".format(\n",
    "        MAE(preds_testing.view(-1), Y_testing)\n",
    "    )\n",
    ")"
   ]
  },
  {
   "cell_type": "code",
   "execution_count": 324,
   "metadata": {},
   "outputs": [],
   "source": [
    "# REC Regression Error Curve\n",
    "\n",
    "# Asse x: serie di solgie di tolleranza\n",
    "# Asse y: percentuale degli elementi di test che presentano un errore inferiore o uguale all'errore corrispndente\n",
    "# Area Over the Curve offre una misura dell'errore del metodo\n",
    "\n",
    "import matplotlib.pyplot as plt\n",
    "\n",
    "\n",
    "def REC_curve(predictions, gt):\n",
    "    assert predictions.shape == gt.shape\n",
    "    # Usiamo la Mean Absolute Error (MAE)\n",
    "    errors = np.abs((predictions.detach().cpu().numpy()) - gt.cpu().numpy())\n",
    "    # prendiamo i valori unici degli errori ed ordiniamoli\n",
    "    tollerances = sorted(np.unique(errors))\n",
    "    correct = []\n",
    "\n",
    "    for t in tollerances:\n",
    "        correct.append(\n",
    "            (errors <= t).mean()\n",
    "        )  # Frazione degli elementi correttamente regressi\n",
    "\n",
    "    AUC = np.trapz(\n",
    "        correct, tollerances\n",
    "    )  # Area sotto la curva calcolata con il metodo dei trapezi\n",
    "    tot_area = np.max(tollerances) * 1  # Area totale\n",
    "    AOC = tot_area - AUC\n",
    "\n",
    "    return tollerances, correct, AOC"
   ]
  },
  {
   "cell_type": "markdown",
   "metadata": {},
   "source": [
    "# Spiegazione del codice\n",
    "\n",
    "# 📈 REC Regression Error Curve – Spiegazione del Codice\n",
    "\n",
    "```python\n",
    "def REC_curve(predictions, gt):\n",
    "```\n",
    "\n",
    "Definisce una funzione che costruisce una **Regression Error Curve (REC)**, utile per valutare le prestazioni di un modello di **regressione**.\n",
    "\n",
    "---\n",
    "\n",
    "## 🔍 Cosa fa il codice?\n",
    "\n",
    "### 1. **Controllo della forma**\n",
    "```python\n",
    "assert predictions.shape == gt.shape\n",
    "```\n",
    "Verifica che `predictions` e `gt` (ground truth) abbiano la stessa forma.\n",
    "\n",
    "---\n",
    "\n",
    "### 2. **Calcolo degli errori assoluti**\n",
    "```python\n",
    "errors = np.abs((predictions.detach().cpu().numpy()) - gt.cpu().numpy()) \n",
    "```\n",
    "- Converte i tensori PyTorch in array NumPy.\n",
    "- Calcola l’**errore assoluto** elemento per elemento.\n",
    "\n",
    "| Funzione | Significato | Scopo |\n",
    "|----------|-------------|-------|\n",
    "| `detach()` | Stacca il tensore dal grafo dei gradienti | Serve per evitare il tracciamento dei gradienti |\n",
    "| `cpu()` | Porta il tensore sulla CPU | Necessario prima di usare `.numpy()` |\n",
    "| `numpy()` | Converte il tensore in array NumPy | Utile per usare le funzioni di NumPy |\n",
    "| `-` | Differenza tra predizione e valore reale | Calcola l’errore (può essere negativo) |\n",
    "| `np.abs(...)` | Valore assoluto dell’errore | Ottiene l’**errore assoluto** per ogni elemento |\n",
    "\n",
    "---\n",
    "\n",
    "### 3. **Tolleranze uniche ordinate**\n",
    "```python\n",
    "tollerances = sorted(np.unique(errors))\n",
    "```\n",
    "- Estrae i valori **unici** degli errori.\n",
    "- Li ordina per usarli come soglie crescenti nella curva REC.\n",
    "\n",
    "---\n",
    "\n",
    "### 4. **Calcolo della frazione di errori sotto la soglia**\n",
    "```python\n",
    "correct = []\n",
    "\n",
    "for t in tollerances:\n",
    "    correct.append((errors <= t).mean())\n",
    "```\n",
    "- Per ogni soglia `t`, calcola la **percentuale** di predizioni che hanno errore ≤ `t`.\n",
    "\n",
    "---\n",
    "\n",
    "### 5. **Calcolo dell’area sotto e sopra la curva**\n",
    "```python\n",
    "AUC = np.trapezoid(correct, tollerances)\n",
    "tot_area = np.max(tollerances) * 1\n",
    "AOC = tot_area - AUC\n",
    "```\n",
    "- `AUC`: area sotto la curva, misura della **precisione del modello**.\n",
    "- `AOC`: area sopra la curva, misura dell’**errore del modello**. Più è piccola, meglio è.\n",
    "\n",
    "---\n",
    "\n",
    "## ✅ Output della funzione\n",
    "\n",
    "```python\n",
    "return tollerances, correct, AOC\n",
    "```\n",
    "\n",
    "Restituisce:\n",
    "- `tollerances`: soglie di tolleranza usate nell’analisi.\n",
    "- `correct`: percentuali di predizioni corrette per ciascuna soglia.\n",
    "- `AOC`: **Area Over the Curve**, misura complessiva dell’errore.\n",
    "\n",
    "---\n",
    "\n",
    "## 📊 Interpretazione della REC Curve\n",
    "\n",
    "- **Asse x**: soglie di tolleranza (errore massimo accettabile).\n",
    "- **Asse y**: percentuale di predizioni con errore ≤ soglia.\n",
    "- Una curva che cresce più rapidamente indica un modello più accurato.\n",
    "- Una **AOC più bassa** indica migliori prestazioni."
   ]
  },
  {
   "cell_type": "code",
   "execution_count": 325,
   "metadata": {},
   "outputs": [
    {
     "data": {
      "image/png": "[encoded data removed]",
      "text/plain": [
       "<Figure size 640x480 with 1 Axes>"
      ]
     },
     "metadata": {},
     "output_type": "display_data"
    }
   ],
   "source": [
    "boston_linear_regression_rec = REC_curve(preds_testing.view(-1), Y_testing)\n",
    "plt.plot(boston_linear_regression_rec[0], boston_linear_regression_rec[1])\n",
    "plt.legend([\"Boston Linear Regressor. AOC: %0.2f\" % boston_linear_regression_rec[2]])\n",
    "plt.grid()\n",
    "plt.show()"
   ]
  },
  {
   "cell_type": "code",
   "execution_count": 326,
   "metadata": {},
   "outputs": [
    {
     "data": {
      "image/png": "[encoded data removed]",
      "text/plain": [
       "<Figure size 640x480 with 1 Axes>"
      ]
     },
     "metadata": {},
     "output_type": "display_data"
    }
   ],
   "source": [
    "boston_linear_regression_training_rec = REC_curve(preds_training.view(-1), Y_training)\n",
    "boston_linear_regression_testing_rec = REC_curve(preds_testing.view(-1), Y_testing)\n",
    "\n",
    "plt.plot(\n",
    "    boston_linear_regression_training_rec[0], boston_linear_regression_training_rec[1]\n",
    ")\n",
    "plt.plot(\n",
    "    boston_linear_regression_testing_rec[0], boston_linear_regression_testing_rec[1]\n",
    ")\n",
    "plt.legend(\n",
    "    [\n",
    "        \"Boston [train]. AOC: %0.2f\" % boston_linear_regression_training_rec[2],\n",
    "        \"Boston [test]. AOC: %0.2f\" % boston_linear_regression_testing_rec[2],\n",
    "    ]\n",
    ")\n",
    "plt.grid()\n",
    "plt.show()"
   ]
  },
  {
   "cell_type": "markdown",
   "metadata": {},
   "source": [
    "# Regressione Logistica in PyTorch"
   ]
  },
  {
   "cell_type": "code",
   "execution_count": 327,
   "metadata": {},
   "outputs": [
    {
     "name": "stdout",
     "output_type": "stream",
     "text": [
      "(569, 30)\n",
      "(569,)\n",
      "[0 0 0 0 0 0 0 0 0 0 0 0 0 0 0 0 0 0 0 1 1 1 0 0 0 0 0 0 0 0 0 0 0 0 0 0 0\n",
      " 1 0 0 0 0 0 0 0 0 1 0 1 1 1 1 1 0 0 1 0 0 1 1 1 1 0 1 0 0 1 1 1 1 0 1 0 0\n",
      " 1 0 1 0 0 1 1 1 0 0 1 0 0 0 1 1 1 0 1 1 0 0 1 1 1 0]\n",
      ".. _breast_cancer_dataset:\n",
      "\n",
      "Breast cancer wisconsin (diagnostic) dataset\n",
      "--------------------------------------------\n",
      "\n",
      "**Data Set Characteristics:**\n",
      "\n",
      "    :Number of Instances: 569\n",
      "\n",
      "    :Number of Attributes: 30 numeric, predictive attributes and the class\n",
      "\n",
      "    :Attribute Information:\n",
      "        - radius (mean of distances from center to points on the perimeter)\n",
      "        - texture (standard deviation of gray-scale values)\n",
      "        - perimeter\n",
      "        - area\n",
      "        - smoothness (local variation in radius lengths)\n",
      "        - compactness (perimeter^2 / area - 1.0)\n",
      "        - concavity (severity of concave portions of the contour)\n",
      "        - concave points (number of concave portions of the contour)\n",
      "        - symmetry\n",
      "        - fractal dimension (\"coastline approximation\" - 1)\n",
      "\n",
      "        The mean, standard error, and \"worst\" or largest (mean of the three\n",
      "        worst/largest values) of these features were computed for each image,\n",
      "        resulting in 30 features.  For instance, field 0 is Mean Radius, field\n",
      "        10 is Radius SE, field 20 is Worst Radius.\n",
      "\n",
      "        - class:\n",
      "                - WDBC-Malignant\n",
      "                - WDBC-Benign\n",
      "\n",
      "    :Summary Statistics:\n",
      "\n",
      "    ===================================== ====== ======\n",
      "                                           Min    Max\n",
      "    ===================================== ====== ======\n",
      "    radius (mean):                        6.981  28.11\n",
      "    texture (mean):                       9.71   39.28\n",
      "    perimeter (mean):                     43.79  188.5\n",
      "    area (mean):                          143.5  2501.0\n",
      "    smoothness (mean):                    0.053  0.163\n",
      "    compactness (mean):                   0.019  0.345\n",
      "    concavity (mean):                     0.0    0.427\n",
      "    concave points (mean):                0.0    0.201\n",
      "    symmetry (mean):                      0.106  0.304\n",
      "    fractal dimension (mean):             0.05   0.097\n",
      "    radius (standard error):              0.112  2.873\n",
      "    texture (standard error):             0.36   4.885\n",
      "    perimeter (standard error):           0.757  21.98\n",
      "    area (standard error):                6.802  542.2\n",
      "    smoothness (standard error):          0.002  0.031\n",
      "    compactness (standard error):         0.002  0.135\n",
      "    concavity (standard error):           0.0    0.396\n",
      "    concave points (standard error):      0.0    0.053\n",
      "    symmetry (standard error):            0.008  0.079\n",
      "    fractal dimension (standard error):   0.001  0.03\n",
      "    radius (worst):                       7.93   36.04\n",
      "    texture (worst):                      12.02  49.54\n",
      "    perimeter (worst):                    50.41  251.2\n",
      "    area (worst):                         185.2  4254.0\n",
      "    smoothness (worst):                   0.071  0.223\n",
      "    compactness (worst):                  0.027  1.058\n",
      "    concavity (worst):                    0.0    1.252\n",
      "    concave points (worst):               0.0    0.291\n",
      "    symmetry (worst):                     0.156  0.664\n",
      "    fractal dimension (worst):            0.055  0.208\n",
      "    ===================================== ====== ======\n",
      "\n",
      "    :Missing Attribute Values: None\n",
      "\n",
      "    :Class Distribution: 212 - Malignant, 357 - Benign\n",
      "\n",
      "    :Creator:  Dr. William H. Wolberg, W. Nick Street, Olvi L. Mangasarian\n",
      "\n",
      "    :Donor: Nick Street\n",
      "\n",
      "    :Date: November, 1995\n",
      "\n",
      "This is a copy of UCI ML Breast Cancer Wisconsin (Diagnostic) datasets.\n",
      "https://goo.gl/U2Uwz2\n",
      "\n",
      "Features are computed from a digitized image of a fine needle\n",
      "aspirate (FNA) of a breast mass.  They describe\n",
      "characteristics of the cell nuclei present in the image.\n",
      "\n",
      "Separating plane described above was obtained using\n",
      "Multisurface Method-Tree (MSM-T) [K. P. Bennett, \"Decision Tree\n",
      "Construction Via Linear Programming.\" Proceedings of the 4th\n",
      "Midwest Artificial Intelligence and Cognitive Science Society,\n",
      "pp. 97-101, 1992], a classification method which uses linear\n",
      "programming to construct a decision tree.  Relevant features\n",
      "were selected using an exhaustive search in the space of 1-4\n",
      "features and 1-3 separating planes.\n",
      "\n",
      "The actual linear program used to obtain the separating plane\n",
      "in the 3-dimensional space is that described in:\n",
      "[K. P. Bennett and O. L. Mangasarian: \"Robust Linear\n",
      "Programming Discrimination of Two Linearly Inseparable Sets\",\n",
      "Optimization Methods and Software 1, 1992, 23-34].\n",
      "\n",
      "This database is also available through the UW CS ftp server:\n",
      "\n",
      "ftp ftp.cs.wisc.edu\n",
      "cd math-prog/cpo-dataset/machine-learn/WDBC/\n",
      "\n",
      ".. topic:: References\n",
      "\n",
      "   - W.N. Street, W.H. Wolberg and O.L. Mangasarian. Nuclear feature extraction \n",
      "     for breast tumor diagnosis. IS&T/SPIE 1993 International Symposium on \n",
      "     Electronic Imaging: Science and Technology, volume 1905, pages 861-870,\n",
      "     San Jose, CA, 1993.\n",
      "   - O.L. Mangasarian, W.N. Street and W.H. Wolberg. Breast cancer diagnosis and \n",
      "     prognosis via linear programming. Operations Research, 43(4), pages 570-577, \n",
      "     July-August 1995.\n",
      "   - W.H. Wolberg, W.N. Street, and O.L. Mangasarian. Machine learning techniques\n",
      "     to diagnose breast cancer from fine-needle aspirates. Cancer Letters 77 (1994) \n",
      "     163-171.\n"
     ]
    }
   ],
   "source": [
    "from sklearn.datasets import load_breast_cancer\n",
    "\n",
    "dataset = load_breast_cancer()\n",
    "X = dataset.data\n",
    "Y = dataset.target\n",
    "\n",
    "print(X.shape)\n",
    "print(Y.shape)\n",
    "print(Y[:100])\n",
    "print(dataset.DESCR)"
   ]
  },
  {
   "cell_type": "markdown",
   "metadata": {},
   "source": [
    "## 📊 Contesto\n",
    "Hai un dataset che contiene 569 esempi. Ogni esempio rappresenta una misurazione di un tessuto mammario con 30 caratteristiche (attributi) numerici che descrivono le proprietà del nucleo delle cellule. Ogni esempio è etichettato come:\n",
    "- 1 → Il tumore è maligno (cancro presente)\n",
    "- 0 → Il tumore è benigno (cancro assente)\n",
    "\n",
    "### Obiettivo\n",
    "Addestrare un modello che, dato un nuovo esempio, possa prevedere la probabilità che il tumore sia maligno → cioè la probabilità che l'etichetta sia 1.\n",
    "\n",
    "---\n",
    "\n",
    "## ⚠️ Problema con la regressione lineare\n",
    "\n",
    "In una regressione lineare, si calcola un output così:\n",
    "\n",
    "$$\n",
    "z = \\theta_0 + \\theta_1 x_1 + \\theta_2 x_2 + \\dots + \\theta_n x_n\n",
    "$$\n",
    "\n",
    "dove:\n",
    "- $ x_1, x_2, ..., x_n $ sono le caratteristiche dell’esempio\n",
    "- $ \\theta_0, ..., \\theta_n $ sono i parametri (pesi) che il modello impara\n",
    "\n",
    "Ma la regressione lineare produce un valore $ z $ che può essere qualunque numero reale, anche negativo o maggiore di 1. Questo è un problema, perché noi vogliamo stimare una probabilità, cioè un numero compreso tra 0 e 1.\n",
    "\n",
    "---\n",
    "\n",
    "## ✅ Soluzione: Regressione Logistica\n",
    "\n",
    "La regressione logistica si basa su due concetti fondamentali:\n",
    "\n",
    "### 1. Funzione logit\n",
    "La funzione logit serve per trasformare una probabilità $ p $ in un numero reale:\n",
    "\n",
    "$$\n",
    "\\text{logit}(p) = \\ln\\left( \\frac{p}{1 - p} \\right)\n",
    "$$\n",
    "\n",
    "> Questa funzione prende un numero tra 0 e 1 e lo trasforma in un numero che può andare da $ -\\infty $ a $ +\\infty $\n",
    "\n",
    "### 2. Modello\n",
    "In regressione logistica, si assume che:\n",
    "\n",
    "$$\n",
    "z = \\theta_0 + \\theta_1 x_1 + \\theta_2 x_2 + \\dots + \\theta_n x_n\n",
    "$$\n",
    "\n",
    "sia uguale alla logit della probabilità:\n",
    "\n",
    "$$\n",
    "z = \\text{logit}(P(y = 1 | x))\n",
    "$$\n",
    "\n",
    "Ma noi vogliamo la probabilità, non la logit. Allora invertiamo la funzione logit → otteniamo la funzione sigmoide (o logistica):\n",
    "\n",
    "---\n",
    "\n",
    "## 🌀 Funzione logistica (sigmoide)\n",
    "\n",
    "La funzione sigmoide è la funzione inversa del logit:\n",
    "\n",
    "$$\n",
    "\\sigma(z) = \\frac{1}{1 + e^{-z}}\n",
    "$$\n",
    "\n",
    "Questa funzione ha 3 proprietà fondamentali:\n",
    "- Trasforma un numero reale in un numero tra 0 e 1\n",
    "- Se $ z $ è molto positivo, $ \\sigma(z) \\approx 1 $\n",
    "- Se $ z $ è molto negativo, $ \\sigma(z) \\approx 0 $\n",
    "\n",
    "### Quindi:\n",
    "$$\n",
    "P(y = 1 | x) = \\sigma(z) = \\frac{1}{1 + e^{-(\\theta_0 + \\theta_1 x_1 + \\dots + \\theta_n x_n)}}\n",
    "$$\n",
    "\n",
    "---\n",
    "\n",
    "## 🧠 Interpretazione del modello\n",
    "\n",
    "Il modello dice: “dato un input $ x $, calcolo uno score $ z $, e poi lo trasformo in una probabilità che $ y = 1 $ usando la sigmoide”.\n",
    "\n",
    "---\n",
    "\n",
    "## ❌ Funzione di Loss (errore)\n",
    "\n",
    "Per addestrare il modello, abbiamo bisogno di sapere quanto sbaglia.\n",
    "\n",
    "Usiamo la log loss (o binary cross-entropy) come funzione di errore.\n",
    "\n",
    "Per un singolo esempio:\n",
    "\n",
    "$$\n",
    "\\mathcal{L}(z, y) = -y \\log(\\sigma(z)) - (1 - y) \\log(1 - \\sigma(z))\n",
    "$$\n",
    "\n",
    "> Dove:\n",
    "- $ y \\in \\{0, 1\\} $ è la vera etichetta\n",
    "- $ \\sigma(z) $ è la probabilità predetta\n",
    "\n",
    "### Spiegazione:\n",
    "- Se $ y = 1 $, la loss diventa $ -\\log(\\sigma(z)) $ → punisce fortemente se la probabilità predetta è bassa.\n",
    "- Se $ y = 0 $, la loss diventa $ -\\log(1 - \\sigma(z)) $ → punisce fortemente se la probabilità predetta è alta.\n",
    "\n",
    "---\n",
    "\n",
    "## 🧮 Loss totale (su tutto il dataset)\n",
    "\n",
    "Per tutti gli $ N $ esempi del dataset, la loss media è:\n",
    "\n",
    "$$\n",
    "\\mathcal{L}_N(\\theta) = \\frac{1}{N} \\sum_{i=1}^N \\left[ -y_i \\log(\\sigma(z_i)) - (1 - y_i) \\log(1 - \\sigma(z_i)) \\right]\n",
    "$$\n",
    "\n",
    "---\n",
    "\n",
    "## 🔁 Addestramento del modello\n",
    "\n",
    "L’addestramento consiste nel trovare i valori ottimali di $ \\theta_0, \\theta_1, ..., \\theta_n $ che minimizzano la loss totale. Questo si fa con algoritmi come la discesa del gradiente.\n",
    "\n",
    "---\n",
    "\n",
    "## 📌 Riassunto finale\n",
    "\n",
    "\n",
    "| Passaggio | Spiegazione |\n",
    "|----------|-------------|\n",
    "| 1. Input | Un vettore $ x $ con 30 caratteristiche |\n",
    "| 2. Score | Calcolo $ z = \\theta_0 + \\theta_1 x_1 + ... + \\theta_n x_n $ |\n",
    "| 3. Probabilità | Calcolo $ \\sigma(z) = \\frac{1}{1 + e^{-z}} $ |\n",
    "| 4. Predizione | Se $ \\sigma(z) > 0.5 $, prevedo 1; altrimenti 0 |\n",
    "| 5. Errore | Uso la log-loss per calcolare quanto sbaglio |\n",
    "| 6. Allenamento | Modifico $ \\theta $ per minimizzare la loss |\n",
    "\n",
    "---"
   ]
  },
  {
   "cell_type": "code",
   "execution_count": 328,
   "metadata": {},
   "outputs": [
    {
     "data": {
      "text/plain": [
       "<torch._C.Generator at 0x108ec6870>"
      ]
     },
     "execution_count": 328,
     "metadata": {},
     "output_type": "execute_result"
    }
   ],
   "source": [
    "np.random.seed(1234)\n",
    "torch.random.manual_seed(1234)"
   ]
  },
  {
   "cell_type": "code",
   "execution_count": 329,
   "metadata": {},
   "outputs": [],
   "source": [
    "idx = np.random.permutation(len(X))\n",
    "\n",
    "X = X[idx]\n",
    "Y = Y[idx]"
   ]
  },
  {
   "cell_type": "code",
   "execution_count": 330,
   "metadata": {},
   "outputs": [],
   "source": [
    "# Suddividiamo il dataset in training e testing\n",
    "X_training = torch.Tensor(X[100:])\n",
    "Y_training = torch.Tensor(Y[100:])\n",
    "\n",
    "X_testing = torch.Tensor(X[:100])\n",
    "Y_testing = torch.Tensor(Y[:100])"
   ]
  },
  {
   "cell_type": "code",
   "execution_count": 331,
   "metadata": {},
   "outputs": [],
   "source": [
    "# Normalizziamo i dati\n",
    "\n",
    "X_mean = X_training.mean(0)\n",
    "X_std = X_training.std(0)\n",
    "\n",
    "X_training_norm = (X_training - X_mean) / X_std\n",
    "X_testing_norm = (X_testing - X_mean) / X_std"
   ]
  },
  {
   "cell_type": "code",
   "execution_count": 332,
   "metadata": {},
   "outputs": [],
   "source": [
    "linear_regressor = nn.Linear(30, 1)"
   ]
  },
  {
   "cell_type": "code",
   "execution_count": 333,
   "metadata": {},
   "outputs": [
    {
     "name": "stdout",
     "output_type": "stream",
     "text": [
      "tensor([[-0.1096],\n",
      "        [ 0.0380],\n",
      "        [ 0.2178],\n",
      "        [ 0.3410],\n",
      "        [ 0.1903],\n",
      "        [ 0.4142],\n",
      "        [-0.0980],\n",
      "        [-0.0238],\n",
      "        [ 0.1587],\n",
      "        [ 0.1500]], grad_fn=<SliceBackward0>)\n"
     ]
    }
   ],
   "source": [
    "z = linear_regressor(X_training_norm)\n",
    "print(z[:10])"
   ]
  },
  {
   "cell_type": "code",
   "execution_count": 334,
   "metadata": {},
   "outputs": [
    {
     "name": "stdout",
     "output_type": "stream",
     "text": [
      "tensor(-0.9687, grad_fn=<MinBackward1>)\n",
      "tensor(1.2384, grad_fn=<MaxBackward1>)\n"
     ]
    }
   ],
   "source": [
    "print(z.min())\n",
    "print(z.max())"
   ]
  },
  {
   "cell_type": "code",
   "execution_count": 335,
   "metadata": {},
   "outputs": [],
   "source": [
    "def logistic(z):\n",
    "    return 1.0 / (1 + torch.exp(-z))"
   ]
  },
  {
   "cell_type": "code",
   "execution_count": 336,
   "metadata": {},
   "outputs": [
    {
     "name": "stdout",
     "output_type": "stream",
     "text": [
      "tensor([[0.4726],\n",
      "        [0.5095],\n",
      "        [0.5542],\n",
      "        [0.5844],\n",
      "        [0.5474],\n",
      "        [0.6021],\n",
      "        [0.4755],\n",
      "        [0.4941],\n",
      "        [0.5396],\n",
      "        [0.5374]], grad_fn=<SliceBackward0>)\n"
     ]
    }
   ],
   "source": [
    "p = logistic(z)\n",
    "print(p[:10])"
   ]
  },
  {
   "cell_type": "code",
   "execution_count": 337,
   "metadata": {},
   "outputs": [
    {
     "name": "stdout",
     "output_type": "stream",
     "text": [
      "tensor(0.2751, grad_fn=<MinBackward1>)\n",
      "tensor(0.7753, grad_fn=<MaxBackward1>)\n"
     ]
    }
   ],
   "source": [
    "print(p.min())\n",
    "print(p.max())"
   ]
  },
  {
   "cell_type": "code",
   "execution_count": 338,
   "metadata": {},
   "outputs": [],
   "source": [
    "# Modo alternativo offerto da Torch, si comporta allo stesso modo della funzione logistica implementata da noi\n",
    "\n",
    "sigmoid = nn.Sigmoid()"
   ]
  },
  {
   "cell_type": "code",
   "execution_count": 339,
   "metadata": {},
   "outputs": [
    {
     "name": "stdout",
     "output_type": "stream",
     "text": [
      "tensor(0.2751, grad_fn=<MinBackward1>)\n",
      "tensor(0.7753, grad_fn=<MaxBackward1>)\n"
     ]
    }
   ],
   "source": [
    "p2 = sigmoid(z)\n",
    "print(p2.min())\n",
    "print(p2.max())"
   ]
  },
  {
   "cell_type": "code",
   "execution_count": 340,
   "metadata": {},
   "outputs": [],
   "source": [
    "def loss(p, y):\n",
    "    return (-y * torch.log(p) - (1 - y) * torch.log(1 - p)).mean()"
   ]
  },
  {
   "cell_type": "code",
   "execution_count": 341,
   "metadata": {},
   "outputs": [
    {
     "name": "stdout",
     "output_type": "stream",
     "text": [
      "tensor(0.6579, grad_fn=<MeanBackward0>)\n"
     ]
    }
   ],
   "source": [
    "print(loss(p, Y_training.view(-1, 1)))"
   ]
  },
  {
   "cell_type": "code",
   "execution_count": 342,
   "metadata": {},
   "outputs": [],
   "source": [
    "# Alternativa alla funzione di loss che abbiamo creato noi\n",
    "loss = nn.BCELoss()"
   ]
  },
  {
   "cell_type": "code",
   "execution_count": 343,
   "metadata": {},
   "outputs": [
    {
     "name": "stdout",
     "output_type": "stream",
     "text": [
      "tensor(0.6579, grad_fn=<BinaryCrossEntropyBackward0>)\n"
     ]
    }
   ],
   "source": [
    "print(loss(p, Y_training.view(-1, 1)))"
   ]
  },
  {
   "cell_type": "markdown",
   "metadata": {},
   "source": [
    "Adesso abbiamo tutti gli ingredienti che ci servono per allenare il regressore logistico. Effettuiamo il training utilizzando lo schema visto nel caso della regressione lineare:\n",
    "\n",
    "1. Normalizzare i dati in ingresso $x$;\n",
    "2. Inizializzare i parametri $\\theta$ in maniera opportuna;\n",
    "3. Calcolare i logit $\\hat{z} = \\sum_i (\\theta_i x_i) + \\theta_0$;\n",
    "4. Calcolare le probabilità $p = \\frac{1}{1 + e^{-\\hat{z}}}$;\n",
    "5. Calcolare il valore della loss $\\mathcal{L}_\\theta(p, y)$;\n",
    "6. Calcolare il gradiente rispetto ai parametri $\\theta$ della funzione di loss $\\nabla_\\theta \\mathcal{L}_\\theta(p, y)$;\n",
    "7. Aggiornare i pesi $\\theta$ secondo la regola: $\\theta = \\theta - \\eta \\nabla_\\theta \\mathcal{L}_\\theta(p, y)$, dove $\\eta$ è il learning rate;\n",
    "8. Ripetere i passi 3–7 fino a convergenza.\n",
    "\n",
    "\n",
    "# Domanda 1 \n",
    "\n",
    "Quali sono le differenze tra questa procedura di training e quella vista nel caso della regressione lineare?\n",
    "\n",
    "## Differenze tra regressione logistica e regressione lineare\n",
    "\n",
    "### ✅ Somiglianze\n",
    "1. **Preprocessing**:\n",
    "   - Entrambe normalizzano i dati in ingresso $ x $.\n",
    "2. **Parametri**:\n",
    "   - Entrambe usano parametri $ \\theta $ da apprendere e li inizializzano.\n",
    "3. **Struttura del modello**:\n",
    "   - Entrambe calcolano una combinazione lineare dei dati di input:  \n",
    "     $ \\hat{z} = \\sum_i \\theta_i x_i + \\theta_0 $.\n",
    "4. **Ottimizzazione**:\n",
    "   - Entrambe usano **discesa del gradiente** per aggiornare i parametri.\n",
    "5. **Loop di apprendimento**:\n",
    "   - Entrambe ripetono il calcolo della loss e l’aggiornamento dei parametri fino a convergenza.\n",
    "\n",
    "---\n",
    "\n",
    "### ❌ Differenze principali\n",
    "\n",
    "| Aspetto                | Regressione Lineare                                       | Regressione Logistica                                               |\n",
    "|------------------------|-----------------------------------------------------------|----------------------------------------------------------------------|\n",
    "| **Obiettivo**          | Prevedere un valore continuo $ \\hat{y} \\in \\mathbb{R} $ | Prevedere una probabilità $ p \\in [0, 1] $                         |\n",
    "| **Funzione di output** | Nessuna (output = $ \\hat{z} $)                          | Funzione sigmoide: $ p = \\frac{1}{1 + e^{-\\hat{z}}} $              |\n",
    "| **Loss Function**      | **MSE**: $ \\mathcal{L} = \\frac{1}{2}(y - \\hat{y})^2 $   | **Cross-Entropy**: $ \\mathcal{L} = -[y \\log p + (1 - y) \\log(1 - p)] $ |\n",
    "| **Tipo di problema**   | Regressione (output continuo)                             | Classificazione binaria (output discreto/probabilità)               |\n",
    "| **Interpretazione**    | Output numerico diretto                                   | Output come probabilità della classe 1                               |\n",
    "\n",
    "---\n",
    "\n",
    "### 🔍 In sintesi\n",
    "\n",
    "La **regressione lineare** si usa per stimare valori numerici, mentre la **regressione logistica** per stimare **probabilità di classi binarie**. Anche se la struttura dell’algoritmo è simile, cambiano:\n",
    "\n",
    "- l’attivazione finale (sigmoide vs. identità),\n",
    "- la funzione di loss (cross-entropy vs. MSE),\n",
    "- e l’interpretazione dell’output (probabilità vs. valore continuo).\n"
   ]
  },
  {
   "cell_type": "code",
   "execution_count": 344,
   "metadata": {},
   "outputs": [],
   "source": [
    "class LogisticRegressor(nn.Module):\n",
    "    def __init__(self, in_features):\n",
    "        \"\"\"\n",
    "        Costruttore del modello di regressione logistica.\n",
    "\n",
    "        Args:\n",
    "            in_features (int): Numero di feature in input (dimensione del vettore x).\n",
    "        \"\"\"\n",
    "        # Richiamo al costruttore della classe base nn.Module\n",
    "        # Questo è fondamentale per abilitare tutti i meccanismi interni di PyTorch,\n",
    "        # come il tracciamento dei parametri e la costruzione del grafo computazionale.\n",
    "        super(LogisticRegressor, self).__init__()\n",
    "\n",
    "        # Definizione del layer lineare:\n",
    "        # Si tratta di una trasformazione affine: y = xW^T + b\n",
    "        # Output di dimensione 1, perché la regressione logistica restituisce una sola probabilità.\n",
    "        self.linear = nn.Linear(in_features, 1)\n",
    "\n",
    "        # Funzione di attivazione sigmoide, che trasforma i logit in probabilità [0,1]\n",
    "        self.logistic = nn.Sigmoid()\n",
    "\n",
    "    def forward(self, x):\n",
    "        \"\"\"\n",
    "        Passaggio in avanti (forward pass) del modello.\n",
    "\n",
    "        Args:\n",
    "            x (Tensor): Batch di input (batch_size x in_features)\n",
    "\n",
    "        Returns:\n",
    "            Tensor: Batch di probabilità (batch_size x 1)\n",
    "        \"\"\"\n",
    "        # Calcolo dei logit (valori grezzi prima della sigmoide)\n",
    "        logits = self.linear(x)\n",
    "\n",
    "        # Applicazione della funzione sigmoide ai logit per ottenere le probabilità\n",
    "        return self.logistic(logits)"
   ]
  },
  {
   "cell_type": "code",
   "execution_count": 345,
   "metadata": {},
   "outputs": [],
   "source": [
    "from torch.utils.tensorboard import SummaryWriter\n",
    "\n",
    "# Inizializza un oggetto SummaryWriter per registrare i log per TensorBoard\n",
    "writer = SummaryWriter(\"logs/logistic_regressor\")\n",
    "\n",
    "# Imposta il learning rate e il numero di epoche di training\n",
    "lr = 0.01\n",
    "epochs = 500\n",
    "\n",
    "# -----------------------------\n",
    "# Passo 1: normalizzazione dei dati\n",
    "# -----------------------------\n",
    "\n",
    "# Calcoliamo media e deviazione standard delle feature sul training set\n",
    "means = X_training.mean(0)\n",
    "stds = X_training.std(0)\n",
    "\n",
    "# Applichiamo la normalizzazione z-score (standardizzazione)\n",
    "X_training_norm = (X_training - means) / stds\n",
    "X_testing_norm = (X_testing - means) / stds\n",
    "# ⚠️ Importante: usiamo media e std del training anche sul test per coerenza\n",
    "\n",
    "# -----------------------------\n",
    "# Passo 2: inizializzazione del modello\n",
    "# -----------------------------\n",
    "\n",
    "# Creiamo un'istanza del nostro regressore logistico\n",
    "# Supponiamo che il dataset abbia 30 feature in input\n",
    "regressor = LogisticRegressor(30)\n",
    "\n",
    "# Definiamo la funzione di loss: Binary Cross Entropy (per classificazione binaria)\n",
    "loss = nn.BCELoss()\n",
    "\n",
    "# Definiamo l’ottimizzatore: Stochastic Gradient Descent\n",
    "sgd = torch.optim.SGD(regressor.parameters(), lr)\n",
    "\n",
    "# -----------------------------\n",
    "# Training loop\n",
    "# -----------------------------\n",
    "for e in range(epochs):\n",
    "    regressor.train()  # Imposta il modello in modalità training (abilita dropout, batchnorm, ecc.)\n",
    "\n",
    "    # Passo 3 & 4: calcoliamo i logit + probabilità tramite il modello\n",
    "    p = regressor(X_training_norm)\n",
    "\n",
    "    # Passo 5: calcoliamo il valore della loss rispetto ai target (ground truth)\n",
    "    l = loss(p, Y_training.view(-1, 1))  # View serve a rendere Y compatibile con le dimensioni di output\n",
    "\n",
    "    # Passo 6: calcolo del gradiente della loss rispetto a tutti i parametri\n",
    "    l.backward()\n",
    "\n",
    "    # Log del valore della loss per TensorBoard (training loss)\n",
    "    writer.add_scalar('loss/train', l.item(), global_step=e)\n",
    "\n",
    "    # Passo 7: aggiornamento dei pesi tramite SGD\n",
    "    sgd.step()\n",
    "\n",
    "    # Azzeriamo i gradienti per evitare l'accumulo nel prossimo step\n",
    "    sgd.zero_grad()\n",
    "\n",
    "    # -----------------------------\n",
    "    # Valutazione su test set\n",
    "    # -----------------------------\n",
    "    regressor.eval()  # Imposta il modello in modalità evaluation (disabilita dropout, batchnorm, ecc.)\n",
    "    with torch.set_grad_enabled(False):  # Disabilita il tracciamento dei gradienti (più efficiente)\n",
    "        p = regressor(X_testing_norm)\n",
    "        l = loss(p, Y_testing.view(-1, 1))  # Calcoliamo la loss anche sul test set\n",
    "        writer.add_scalar('loss/test', l.item(), global_step=e)  # Log della test loss\n"
   ]
  },
  {
   "cell_type": "markdown",
   "metadata": {},
   "source": [
    "# Domanda 2\n",
    "\n",
    "Si evidenzino le differenze tra il codice mostrato e quello viato nel caso del regressore lineare\n",
    "\n",
    "| **Aspetto**                  | **Regressione Logistica**                                                                | **Regressione Lineare**                                                         |\n",
    "| ---------------------------- | ---------------------------------------------------------------------------------------- | ------------------------------------------------------------------------------- |\n",
    "| **Architettura del modello** | Usa `Sigmoid` per trasformare l’output in probabilità:<br>`self.logistic = nn.Sigmoid()` | Nessuna funzione di attivazione finale (output è continuo, non una probabilità) |\n",
    "| **Funzione di loss**         | `nn.BCELoss()` (Binary Cross Entropy), adatta alla classificazione binaria               | `nn.MSELoss()` (Mean Squared Error), adatta alla regressione continua           |\n",
    "| **Interpretazione output**   | `p = regressor(x)` dà **probabilità** di appartenere alla classe 1                       | `y_pred = regressor(x)` dà **valori numerici continui**                         |\n",
    "| **Target (Y)**               | I target devono essere **binari** (es. 0 o 1)                                            | I target sono **numeri reali** (es. valori continui)                            |\n",
    "| **Shape del target**         | `Y.view(-1,1)` per allineare con output sigmoide `[batch_size, 1]`                       | Spesso non serve reshape, oppure si fa `Y.view(-1, 1)` per coerenza             |\n",
    "| **Uso del modello**          | Classificazione: soglia a 0.5 su output per decidere la classe (`p > 0.5 → classe 1`)    | Regressione: si interpreta direttamente il valore come stima del target         |\n",
    "| **Valutazione del modello**  | Può includere **accuracy, precision, recall**, oltre alla loss                           | Si valutano **errori continui** (es. MSE, RMSE, MAE)                            |\n"
   ]
  },
  {
   "cell_type": "code",
   "execution_count": 346,
   "metadata": {},
   "outputs": [
    {
     "name": "stdout",
     "output_type": "stream",
     "text": [
      "tensor(0.1860, grad_fn=<BinaryCrossEntropyBackward0>)\n"
     ]
    }
   ],
   "source": [
    "# Iniziamo calcolando le predizioni del modelo dati i pesi allenati\n",
    "\n",
    "p_test = regressor(X_testing_norm)\n",
    "# Calcoliamo il valore della loss\n",
    "print(loss(p_test, Y_testing.view(-1,1)))"
   ]
  },
  {
   "cell_type": "code",
   "execution_count": 347,
   "metadata": {},
   "outputs": [
    {
     "name": "stdout",
     "output_type": "stream",
     "text": [
      "tensor([[ True],\n",
      "        [ True],\n",
      "        [ True],\n",
      "        [ True],\n",
      "        [ True],\n",
      "        [ True],\n",
      "        [ True],\n",
      "        [ True],\n",
      "        [False],\n",
      "        [False]])\n"
     ]
    }
   ],
   "source": [
    "prob_training = regressor(X_training_norm)\n",
    "prob_testing = regressor(X_testing_norm)\n",
    "\n",
    "pred_training = prob_training>=0.5\n",
    "pred_testing = prob_testing>=0.5\n",
    "\n",
    "print(pred_testing[:10])"
   ]
  },
  {
   "cell_type": "code",
   "execution_count": 348,
   "metadata": {},
   "outputs": [],
   "source": [
    "def accuracy(pred, gt):\n",
    "    \"\"\"\n",
    "    Calcola l'accuracy date e predizioni pred e le etichette di ground truth gt\n",
    "    \"\"\"\n",
    "    correct = pred.view(-1)==gt.view(-1)\n",
    "    \n",
    "    return float(correct.sum())/len(correct) # Conta il numero di predizioni corrette e divide per il numero totale di predizioni"
   ]
  },
  {
   "cell_type": "code",
   "execution_count": 349,
   "metadata": {},
   "outputs": [
    {
     "name": "stdout",
     "output_type": "stream",
     "text": [
      "Accuracy di training: 0.97\n",
      "Accuracy di test: 0.93\n"
     ]
    }
   ],
   "source": [
    "print(\"Accuracy di training: {:0.2f}\".format(accuracy(pred_training, Y_training)))\n",
    "print(\"Accuracy di test: {:0.2f}\".format(accuracy(pred_testing, Y_testing)))\n"
   ]
  },
  {
   "cell_type": "markdown",
   "metadata": {},
   "source": [
    "# Domanda 4\n",
    "\n",
    "Perché il classificatore funziona meglio sul training set che su test set?\n",
    "\n",
    "Ottima domanda!\n",
    "\n",
    "Il motivo per cui il **classificatore funziona meglio sul training set che sul test set** è legato a un fenomeno molto comune nel machine learning chiamato **overfitting**.\n",
    "\n",
    "---\n",
    "\n",
    "### 🎯 **Spiegazione**\n",
    "\n",
    "Durante il training, il modello:\n",
    "\n",
    "* vede **ripetutamente** gli stessi dati,\n",
    "* e **ottimizza i suoi parametri** per minimizzare la loss **specificamente** su quei dati.\n",
    "\n",
    "Questo significa che:\n",
    "\n",
    "* Impara a **modellare molto bene (anche troppo)** le caratteristiche del training set,\n",
    "* Ma potrebbe non generalizzare altrettanto bene ai **dati mai visti prima** (come quelli del test set).\n",
    "\n",
    "---\n",
    "\n",
    "### 🔍 **Cause comuni**\n",
    "\n",
    "1. **Modello troppo complesso** rispetto alla quantità di dati → riesce a \"memorizzare\" anziché imparare.\n",
    "2. **Rumore** nei dati di training → il modello impara anche pattern non utili.\n",
    "3. **Pochi dati** → il modello non ha abbastanza varietà per imparare a generalizzare.\n",
    "4. **Differenze di distribuzione** tra training e test set (dataset shift).\n",
    "\n",
    "---\n",
    "\n",
    "### 📊 **Effetti visibili**\n",
    "\n",
    "* **Loss di training bassa**, ma **loss di test più alta**.\n",
    "* **Accuracy di training alta**, ma **accuracy di test più bassa**.\n",
    "\n",
    "---\n",
    "\n",
    "### ✅ **Conclusione**\n",
    "\n",
    "Il modello si adatta meglio ai dati su cui è stato addestrato, ma può fallire nel **generalizzare**. È per questo che funziona meglio sul training set.\n",
    "\n",
    "Vuoi qualche strategia per ridurre l’overfitting?\n",
    "\n"
   ]
  },
  {
   "cell_type": "markdown",
   "metadata": {},
   "source": [
    "# Domanda 5\n",
    "\n",
    "Un classificatore ottiene una sola varia a 0.91 su un dataset di 189 elementi. Quanti elementi sono stati classificati correttamente? Quanti elementi non sono stati classificati correttamente?\n",
    "\n",
    "Per rispondere alla domanda, usiamo il fatto che la **accuratezza (accuracy)** è la frazione di esempi classificati correttamente:\n",
    "\n",
    "$$\n",
    "\\text{Accuracy} = \\frac{\\text{Elementi corretti}}{\\text{Totale elementi}}\n",
    "$$\n",
    "\n",
    "### ✅ Dati:\n",
    "\n",
    "* Accuracy = 0.91\n",
    "* Totale elementi = 189\n",
    "\n",
    "---\n",
    "\n",
    "### 🔢 Calcolo:\n",
    "\n",
    "**Elementi classificati correttamente:**\n",
    "\n",
    "$$\n",
    "189 \\times 0.91 = 171.99 \\approx 172\n",
    "$$\n",
    "\n",
    "**Elementi classificati **non** correttamente:**\n",
    "\n",
    "$$\n",
    "189 - 172 = 17\n",
    "$$\n",
    "\n",
    "---\n",
    "\n",
    "### 📌 Risposta:\n",
    "\n",
    "* ✅ **172 elementi** sono stati classificati correttamente.\n",
    "* ❌ **17 elementi** non sono stati classificati correttamente."
   ]
  },
  {
   "cell_type": "code",
   "execution_count": 350,
   "metadata": {},
   "outputs": [],
   "source": [
    "from torch.utils.tensorboard import SummaryWriter\n",
    "\n",
    "# Inizializza un oggetto SummaryWriter per registrare i log per TensorBoard\n",
    "writer = SummaryWriter(\"logs/logistic_regressor_2\")\n",
    "\n",
    "# Imposta il learning rate e il numero di epoche di training\n",
    "lr = 0.01\n",
    "epochs = 500\n",
    "\n",
    "# -----------------------------\n",
    "# Passo 1: normalizzazione dei dati\n",
    "# -----------------------------\n",
    "\n",
    "# Calcoliamo media e deviazione standard delle feature sul training set\n",
    "means = X_training.mean(0)\n",
    "stds = X_training.std(0)\n",
    "\n",
    "# Applichiamo la normalizzazione z-score (standardizzazione)\n",
    "X_training_norm = (X_training - means) / stds\n",
    "X_testing_norm = (X_testing - means) / stds\n",
    "# ⚠️ Importante: usiamo media e std del training anche sul test per coerenza\n",
    "\n",
    "# -----------------------------\n",
    "# Passo 2: inizializzazione del modello\n",
    "# -----------------------------\n",
    "\n",
    "# Creiamo un'istanza del nostro regressore logistico\n",
    "# Supponiamo che il dataset abbia 30 feature in input\n",
    "regressor = LogisticRegressor(30)\n",
    "\n",
    "# Definiamo la funzione di loss: Binary Cross Entropy (per classificazione binaria)\n",
    "loss = nn.BCELoss()\n",
    "\n",
    "# Definiamo l’ottimizzatore: Stochastic Gradient Descent\n",
    "sgd = torch.optim.SGD(regressor.parameters(), lr)\n",
    "\n",
    "# -----------------------------\n",
    "# Training loop\n",
    "# -----------------------------\n",
    "for e in range(epochs):\n",
    "    regressor.train()  # Imposta il modello in modalità training (abilita dropout, batchnorm, ecc.)\n",
    "\n",
    "    # Passo 3 & 4: calcoliamo i logit + probabilità tramite il modello\n",
    "    p = regressor(X_training_norm)\n",
    "\n",
    "    # Passo 5: calcoliamo il valore della loss rispetto ai target (ground truth)\n",
    "    l = loss(p, Y_training.view(-1, 1))  # View serve a rendere Y compatibile con le dimensioni di output\n",
    "\n",
    "    # Passo 6: calcolo del gradiente della loss rispetto a tutti i parametri\n",
    "    l.backward()\n",
    "\n",
    "    # Log del valore della loss per TensorBoard (training loss)\n",
    "    writer.add_scalar('loss/train', l.item(), global_step=e)\n",
    "\n",
    "    # Passo 7: aggiornamento dei pesi tramite SGD\n",
    "    sgd.step()\n",
    "\n",
    "    # Azzeriamo i gradienti per evitare l'accumulo nel prossimo step\n",
    "    sgd.zero_grad()\n",
    "\n",
    "    writer.add_scalar('accuracy/train', accuracy(p>=0.5,Y_training),global_step=e)\n",
    "    # -----------------------------\n",
    "    # Valutazione su test set\n",
    "    # -----------------------------\n",
    "    regressor.eval()  # Imposta il modello in modalità evaluation (disabilita dropout, batchnorm, ecc.)\n",
    "    with torch.set_grad_enabled(False):  # Disabilita il tracciamento dei gradienti (più efficiente)\n",
    "        p = regressor(X_testing_norm)\n",
    "        l = loss(p, Y_testing.view(-1, 1))  # Calcoliamo la loss anche sul test set\n",
    "        writer.add_scalar('loss/test', l.item(), global_step=e)  # Log della test loss\n",
    "        writer.add_scalar('accuracy/test', accuracy(p>=0.5,Y_testing),global_step=e)"
   ]
  },
  {
   "cell_type": "markdown",
   "metadata": {},
   "source": [
    "# 2.1 Stabilità Numerica\n",
    "\n",
    "Finora abbiamo utilizzato la loss:\n",
    "\n",
    "$$\n",
    "\\mathcal{L}_\\theta(z, y) = \\frac{1}{N} \\sum_i -y_i \\log(p_i) - (1 - y_i) \\log(1 - p_i) \\tag{11}\n",
    "$$\n",
    "\n",
    "dove:\n",
    "\n",
    "$$\n",
    "p_i = \\frac{1}{1 + e^{-z_i}} \\tag{12}\n",
    "$$\n",
    "\n",
    "Questa loss può essere numericamente instabile in quanto, per valori di $z_i$ molto bassi, $e^{-z_i}$ sarà un numero molto alto e di conseguenza $p_i$ sarà molto piccolo. Se il valore di $p_i$ scende al di sotto della precisione della macchina (cioè va in underflow), esso verrà arrotondato a zero. A questo punto, all'interno della funzione di loss $\\mathcal{L}$, il valore $y_i \\log(p_i)$ restituirà un nan se $y_i = 1$.\n",
    "\n",
    "Per evitare questi problemi, in genere si utilizza la loss definita a partire dai logit:\n",
    "\n",
    "$$\n",
    "\\mathcal{L}_\\theta(z, y) = \\frac{1}{N} \\sum_i y_i \\log(1 + e^{-z_i}) + (1 - y_i) \\log(1 + e^{z_i}) \\tag{13}\n",
    "$$\n",
    "\n",
    "Notiamo che questa loss non soffre dei problemi discussi sopra. Per valori molto bassi di $z_i$, infatti $e^{-z_i}$ non comparirà, mentre il termine $1 + e^{-z_i}$ sarà almeno pari a 1 (per cui potremo sempre calcolarne il logaritmo). Possiamo dunque effettuare la procedura di training evitando di calcolare esplicitamente le probabilità $p_i$ e applicando la seconda loss direttamente ai logit $z_i$. Definiamo la loss:"
   ]
  },
  {
   "cell_type": "markdown",
   "metadata": {},
   "source": [
    "### La cross-entropy per un singolo esempio è:\n",
    "\n",
    "$$\n",
    "\\mathcal{L}(p, y) = -[y \\log(p) + (1 - y) \\log(1 - p)]\n",
    "$$\n",
    "\n",
    "* Il termine $\\log(p)$ è negativo se $p < 1$\n",
    "* Il termine $\\log(1 - p)$ è negativo se $p > 0$\n",
    "\n",
    "### Senza il segno meno:\n",
    "\n",
    "La loss potrebbe risultare negativa, e noi vogliamo invece minimizzarla, non massimizzare qualcosa di negativo.\n",
    "\n",
    "> Il segno meno trasforma quindi la log-probabilità in una quantità da minimizzare, mantenendo il concetto: più il modello è certo e corretto, più bassa sarà la loss.\n",
    "\n",
    "In pratica:\n",
    "\n",
    "* Se la predizione è perfetta ($p = y$), la loss sarà vicina a 0\n",
    "* Se la predizione è completamente sbagliata ($p \\ll 1$ quando $y = 1$), la loss sarà grande\n",
    "\n",
    "Ti interessa anche vedere un esempio numerico per chiarire il concetto?"
   ]
  },
  {
   "cell_type": "code",
   "execution_count": 351,
   "metadata": {},
   "outputs": [],
   "source": [
    "def loss2(z,y):\n",
    "    return (y*torch.log(1+torch.exp(-z))+(1-y)*torch.log(1+torch.exp(z))).mean()"
   ]
  },
  {
   "cell_type": "code",
   "execution_count": 352,
   "metadata": {},
   "outputs": [],
   "source": [
    "class LogisticRegressor(nn.Module):\n",
    "    def __init__(self, in_features):\n",
    "        super(LogisticRegressor, self).__init__()\n",
    "        self.linear = nn.Linear(in_features, 1)\n",
    "        self.logistic = nn.Sigmoid()\n",
    "\n",
    "    def forward(self, x):\n",
    "        logits = self.linear(x)\n",
    "        return logits"
   ]
  },
  {
   "cell_type": "code",
   "execution_count": 353,
   "metadata": {},
   "outputs": [
    {
     "name": "stdout",
     "output_type": "stream",
     "text": [
      "tensor(-2.5596, grad_fn=<MinBackward1>) tensor(1.4102, grad_fn=<MaxBackward1>)\n",
      "tensor(0.0718, grad_fn=<MinBackward1>) tensor(0.8038, grad_fn=<MaxBackward1>)\n"
     ]
    }
   ],
   "source": [
    "regressor =LogisticRegressor(30)\n",
    "logistic = nn.Sigmoid()\n",
    "\n",
    "#logits\n",
    "z = regressor(X_training_norm)\n",
    "print(z.min(),z.max())\n",
    "\n",
    "#probabilità\n",
    "p = logistic(z)\n",
    "print(p.min(),p.max())"
   ]
  },
  {
   "cell_type": "code",
   "execution_count": 354,
   "metadata": {},
   "outputs": [
    {
     "name": "stdout",
     "output_type": "stream",
     "text": [
      "tensor(0.8208, grad_fn=<BinaryCrossEntropyWithLogitsBackward0>)\n",
      "tensor(0.8208, grad_fn=<MeanBackward0>)\n"
     ]
    }
   ],
   "source": [
    "loss_stable = nn.BCEWithLogitsLoss()\n",
    "l_1 = loss_stable(z,Y_training.view(-1,1))\n",
    "l_2 = loss2(z,Y_training.view(-1,1))\n",
    "print(l_1)\n",
    "print(l_2)"
   ]
  },
  {
   "cell_type": "markdown",
   "metadata": {},
   "source": [
    "La procedura di training diventa dunque la seguente:\n",
    "\n",
    "1. Normalizzare i dati in ingresso x;\n",
    "2. Inizializzare i parametri $\\theta$ in maniera opportuna;\n",
    "3. Calcolare i logit $\\hat{z} = \\sum_i (\\theta_i x_i) + \\theta_0$;\n",
    "4. Calcolare il valore della loss $\\mathcal{L}_\\theta(z, y)$;\n",
    "5. Calcolare il gradiente rispetto ai parametri $\\theta$ della funzione di loss $\\nabla_\\theta \\mathcal{L}_\\theta(z, y)$;\n",
    "6. Aggiornare i pesi $\\theta$ secondo la regola: $\\theta = \\theta - \\eta \\nabla_\\theta \\mathcal{L}_\\theta(z, y)$, dove $\\eta$ è il learning rate;\n",
    "7. Ripetere i passi 3–6 fino a convergenza.\n",
    "\n",
    "Modifichiamo il codice precedente per effettuare il training utilizzando la nuova loss:"
   ]
  },
  {
   "cell_type": "code",
   "execution_count": 355,
   "metadata": {},
   "outputs": [],
   "source": [
    "from torch.utils.tensorboard import SummaryWriter\n",
    "\n",
    "# Inizializza un oggetto SummaryWriter per registrare i log per TensorBoard\n",
    "writer = SummaryWriter(\"logs/logistic_regressor_3\")\n",
    "\n",
    "# Imposta il learning rate e il numero di epoche di training\n",
    "lr = 0.01\n",
    "epochs = 500\n",
    "\n",
    "# -----------------------------\n",
    "# Passo 1: normalizzazione dei dati\n",
    "# -----------------------------\n",
    "\n",
    "# Calcoliamo media e deviazione standard delle feature sul training set\n",
    "means = X_training.mean(0)\n",
    "stds = X_training.std(0)\n",
    "\n",
    "# Applichiamo la normalizzazione z-score (standardizzazione)\n",
    "X_training_norm = (X_training - means) / stds\n",
    "X_testing_norm = (X_testing - means) / stds\n",
    "# ⚠️ Importante: usiamo media e std del training anche sul test per coerenza\n",
    "\n",
    "# -----------------------------\n",
    "# Passo 2: inizializzazione del modello\n",
    "# -----------------------------\n",
    "\n",
    "# Creiamo un'istanza del nostro regressore logistico\n",
    "# Supponiamo che il dataset abbia 30 feature in input\n",
    "regressor = LogisticRegressor(30)\n",
    "\n",
    "# Definiamo la funzione di loss: Binary Cross Entropy (per classificazione binaria)\n",
    "loss = nn.BCEWithLogitsLoss()\n",
    "\n",
    "# Definiamo l’ottimizzatore: Stochastic Gradient Descent\n",
    "sgd = torch.optim.SGD(regressor.parameters(), lr)\n",
    "\n",
    "# -----------------------------\n",
    "# Training loop\n",
    "# -----------------------------\n",
    "for e in range(epochs):\n",
    "    regressor.train()  # Imposta il modello in modalità training (abilita dropout, batchnorm, ecc.)\n",
    "\n",
    "    # Passo 3 & 4: calcoliamo i logit + probabilità tramite il modello\n",
    "    z = regressor(X_training_norm)\n",
    "\n",
    "    # Passo 5: calcoliamo il valore della loss rispetto ai target (ground truth)\n",
    "    l = loss(z, Y_training.view(-1, 1))  # View serve a rendere Y compatibile con le dimensioni di output\n",
    "\n",
    "    # Passo 6: calcolo del gradiente della loss rispetto a tutti i parametri\n",
    "    l.backward()\n",
    "\n",
    "    # Log del valore della loss per TensorBoard (training loss)\n",
    "    writer.add_scalar('loss/train', l.item(), global_step=e)\n",
    "\n",
    "    # Passo 7: aggiornamento dei pesi tramite SGD\n",
    "    sgd.step()\n",
    "\n",
    "    # Azzeriamo i gradienti per evitare l'accumulo nel prossimo step\n",
    "    sgd.zero_grad()\n",
    "\n",
    "    p=logistic(z)\n",
    "    writer.add_scalar('accuracy/train', accuracy(p>=0.5,Y_training),global_step=e)\n",
    "    # -----------------------------\n",
    "    # Valutazione su test set\n",
    "    # -----------------------------\n",
    "    regressor.eval()  # Imposta il modello in modalità evaluation (disabilita dropout, batchnorm, ecc.)\n",
    "    with torch.set_grad_enabled(False):  # Disabilita il tracciamento dei gradienti (più efficiente)\n",
    "        z = regressor(X_testing_norm)\n",
    "        l = loss(z, Y_testing.view(-1, 1))  # Calcoliamo la loss anche sul test set\n",
    "        writer.add_scalar('loss/test', l.item(), global_step=e)  # Log della test loss\n",
    "        p=logistic(z)\n",
    "        writer.add_scalar('accuracy/test', accuracy(p>=0.5,Y_testing),global_step=e)"
   ]
  },
  {
   "cell_type": "code",
   "execution_count": 356,
   "metadata": {},
   "outputs": [
    {
     "name": "stdout",
     "output_type": "stream",
     "text": [
      "Accuracy di training: 0.97\n",
      "Accuracy di test: 0.93\n"
     ]
    }
   ],
   "source": [
    "print(\"Accuracy di training: {:0.2f}\".format(accuracy(logistic(regressor(X_training_norm))>=0.5,Y_training)))\n",
    "print(\"Accuracy di test: {:0.2f}\".format(accuracy(logistic(regressor(X_testing_norm))>=0.5,Y_testing)))"
   ]
  },
  {
   "cell_type": "code",
   "execution_count": null,
   "metadata": {},
   "outputs": [],
   "source": []
  }
 ],
 "metadata": {
  "kernelspec": {
   "display_name": "ML_def",
   "language": "python",
   "name": "python3"
  },
  "language_info": {
   "codemirror_mode": {
    "name": "ipython",
    "version": 3
   },
   "file_extension": ".py",
   "mimetype": "text/x-python",
   "name": "python",
   "nbconvert_exporter": "python",
   "pygments_lexer": "ipython3",
   "version": "3.8.20"
  }
 },
 "nbformat": 4,
 "nbformat_minor": 2
}
