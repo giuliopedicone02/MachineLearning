{
 "cells": [
  {
   "cell_type": "markdown",
   "id": "534256dd",
   "metadata": {},
   "source": [
    "# 1. Classificazione SoftMax\n",
    "\n",
    "Abbiamo visto come sia possibile \"trasformare\" un regressore lineare in un classificatore binario utilizzando la funzione logistica. Abbiamo anche visto che è possibile implementare un classificatore multiclasse mediante il principio \"one-vs-all\". Tuttavia, il principio one-vs-all è poco naturale per risolvere problemi di classificazione multiclasse. Un regressore logistico ci permette di stimare la probabilità:\n",
    "\n",
    "$$\n",
    "p(c \\mid x) \\tag{1}\n",
    "$$\n",
    "\n",
    "dove $c$ è la classe ($c = 0$ nel caso della classe negativa e $c = 1$ nel caso della classe positiva) e $x$ è il campione in ingresso. Sappiamo inoltre che\n",
    "\n",
    "$$\n",
    "p(c = 0 \\mid x) + p(c = 1 \\mid x) = 1 \\tag{2}\n",
    "$$\n",
    "\n",
    "per cui il un regressore logistico ci permette di stimare la distribuzione di probabilità condizionale sulle classi possibili (solo due in questo caso), dato il campione in ingresso $x$.\n",
    "\n",
    "Supponiamo adesso di avere un problema di classificazione su $K$ classi $c = 0, c = 1, \\ldots, c = K - 1$. Il principio \"one-vs-all\" ci permette di classificare gli elementi $x$, ma non di stimare direttamente una distribuzione di probabilità condizionale sulle classi dato il campione in ingresso mostrato di seguito:\n",
    "\n",
    "$$\n",
    "p(c \\mid x) : p(c = 0 \\mid x) + p(c = 1 \\mid x) + \\ldots + p(c = K \\mid x) = 1 \\tag{3}\n",
    "$$\n",
    "\n",
    "---\n",
    "\n",
    "### Domanda 1\n",
    "\n",
    "> A cosa può servire stimare le probabilità a posteriori $p(c \\mid x)$ oltre a inferire la classe più probabile per il campione $x$ ?\n",
    "\n",
    "Stimare le probabilità a posteriori $p(c \\mid x)$ serve non solo a determinare la classe più probabile, ma offre diversi vantaggi pratici e teorici:\n",
    "\n",
    "1. Decisioni più informate: conoscere la probabilità associata a ciascuna classe permette di valutare la confidenza del modello nella sua previsione. Ad esempio, una predizione con $p = 0.99$ è molto più affidabile di una con $p = 0.51$, anche se entrambe indicano la stessa classe più probabile.\n",
    "\n",
    "2. Classificazione con soglie personalizzate: in problemi dove gli errori hanno costi diversi (es. medicina, finanza), le probabilità permettono di definire soglie di decisione più adatte al contesto, anziché classificare sempre in base alla massima probabilità.\n",
    "\n",
    "3. Integrazione in sistemi complessi: le probabilità a posteriori possono essere usate in modelli probabilistici più grandi (es. reti bayesiane, modelli sequenziali) o come input in sistemi decisionali, dove è utile avere una stima di incertezza.\n",
    "\n",
    "4. Valutazione più dettagliata dei modelli: l’uso di probabilità consente metriche più raffinate come log-loss, cross-entropy, curva ROC e AUC, e permette di verificare se il modello è ben calibrato (cioè se le probabilità stimate corrispondono a frequenze reali).\n",
    "\n",
    "5. Combinazione di modelli: in metodi di ensemble learning o model averaging, è utile combinare probabilità (soft voting) piuttosto che semplici decisioni secche (hard voting), ottenendo spesso migliori performance.\n",
    "\n",
    "In sintesi, stimare $p(c \\mid x)$ consente un uso più flessibile, robusto e informato dei modelli di classificazione, andando ben oltre la sola scelta della classe più probabile.\n",
    "\n",
    "---\n",
    "\n",
    "Se volessimo ottenere una distribuzione di probabilità sulle $K$ classi, potremmo pensare di costruire un regressore lineare che, preso in input un dato, restituisce un vettore di $K$ elementi. Ciò può essere ottenuto semplicemente con una trasformazione lineare del tipo $z = Ax + b$, dove $A$ è una matrice $n \\times K$, con $n$ numero di feature in ingresso. Analogamente a quanto visto nel caso del regressore logistico, tuttavia, non vi è alcuna garanzia che il vettore $z$ rappresenti una valida distribuzione di probabilità. Ricordiamo che affinché ciò accada ci serve che:\n",
    "\n",
    "* $z_i \\ge 0, \\ \\forall i \\in \\{1, \\ldots, K\\}$\n",
    "* $\\sum_{i=1}^K z_i = 1$\n",
    "\n",
    "La funzione SoftMax è una generalizzazione della funzione logistica che ci permette di normalizzare un vettore arbitrario di numeri in modo che rispetti le due proprietà appena viste:\n",
    "\n",
    "$$\n",
    "\\sigma(x_j) = \\frac{e^{z_j}}{\\sum_{k=1}^K e^{z_k}} \\tag{4}\n",
    "$$\n",
    "\n",
    "dove $z_j$ rappresenta la $j$-esima componente del vettore $z$ (e dunque $\\sigma(x_j)$ rappresenta la $j$-esima componente del vettore normalizzato mediante SoftMax $\\sigma(x)$).\n",
    "\n",
    "In pratica, la funzione SoftMax esegue due operazioni:\n",
    "\n",
    "* Applica la funzione esponenziale a tutte le componenti del vettore non normalizzato $z$. Questa operazione permette di soddisfare la prima proprietà mappando numeri $x \\in [-\\infty, +\\infty]$ su numeri del range $[0, +\\infty]$. Si noti che la funzione esponenziale è monotona crescente, per cui se $z_i \\le z_j$, allora $e^{z_i} \\le e^{z_j}$.\n",
    "* Normalizza gli elementi del vettore in uscita dividendoli per la somma dei valori positivi $e^{z_i} \\left( \\frac{e^zi}{\\sum{z_k}} \\right)$. Questa normalizzazione ci assicura che la seconda proprietà sia rispettata: $\\sum_{i=1}^K \\sigma(z_i) = 1$.\n",
    "\n",
    "### Domanda 2\n",
    "\n",
    "> Cosa garantisce che i valori restituiti dalla funzione SoftMax siano non negativi? Disegnare la funzione esponenziale per rispondere alla domanda.\n",
    "\n",
    "I valori restituiti dalla funzione SoftMax sono sempre non negativi perché la funzione applica, come primo passo, l’esponenziale a ciascun elemento del vettore $z$. La funzione esponenziale $f(z) = e^z$ ha la proprietà fondamentale di essere sempre positiva per ogni valore reale di $z$, cioè:\n",
    "\n",
    "$$\n",
    "e^z > 0 \\quad \\text{per ogni } z \\in \\mathbb{R}\n",
    "$$\n",
    "\n",
    "Questo significa che, anche se un componente $z_j$ è negativo, $e^{z_j}$ sarà comunque positivo (sebbene molto vicino a zero per valori molto negativi). La SoftMax calcola poi:\n",
    "\n",
    "$$\n",
    "\\sigma(z_j) = \\frac{e^{z_j}}{\\sum_{k=1}^K e^{z_k}}\n",
    "$$\n",
    "\n",
    "dove:\n",
    "\n",
    "* Il numeratore $e^{z_j}$ è positivo;\n",
    "* Il denominatore è una somma di termini $e^{z_k}$, tutti positivi, quindi positivo anch’esso.\n",
    "\n",
    "Essendo quindi il rapporto tra due numeri positivi, ogni componente della SoftMax è strettamente positiva (cioè maggiore di zero), e dunque non negativa. Inoltre, la normalizzazione garantisce che la somma dei valori sia uguale a 1, rendendo il vettore un’autentica distribuzione di probabilità.\n",
    "\n",
    "La forma della funzione esponenziale giustifica questo comportamento:\n",
    "![grafico](/Users/vincenzovillanova/Desktop/ML/grafico.jpg)\n",
    "\n",
    "Come mostra il grafico, la funzione $e^z$ è sempre positiva e monotona crescente, motivo per cui la SoftMax può garantire che tutti i valori siano non negativi e sommati diano 1.\n",
    "\n",
    "---\n",
    "\n",
    "La formulazione del regressore SoftMax è dunque la seguente:\n",
    "\n",
    "$$\n",
    "f(x) = \\sigma(Ax + b) = \\sigma(z) = \\frac{e^{z_j}}{\\sum_{k=1}^{K} e^{z_k}} \\tag{5}\n",
    "$$\n",
    "\n",
    "dove $z = Ax + b$, la funzione $f$ stima la probabilità a posteriori che $x$ appartenga ad una data classe:\n",
    "\n",
    "$$\n",
    "p(c = i \\mid x) = f(x)_i \\tag{6}\n",
    "$$\n",
    "\n",
    "e $f(x)_i$ indica la i-esima componente del vettore di probabilità ottenuto mediante il regressore softmax $f$.\n",
    "\n",
    "Per allenare il regressore softmax, utilizziamo una generalizzazione della loss vista nel caso del regressore logistico: la cross entropy loss.\n",
    "In teoria dell’informazione, la cross entropy tra due distribuzioni di probabilità $p$ e $q$ è definita come:\n",
    "\n",
    "$$\n",
    "H(p, q) = -\\sum_x p(x) \\log q(x) \\tag{7}\n",
    "$$\n",
    "\n",
    "La cross entropy $H(p, q)$ indica il numero medio di bit necessario per identificare eventi $x$ che seguono la probabilità $p$ se li descriviamo con la probabilità stimata $q$.\n",
    "La cross entropy raggiunge il suo minimo quando $p$ e $q$ sono uguali. In tal caso la cross entropy corrisponde all’entropia di $p$:\n",
    "\n",
    "$$\n",
    "H(p) = -\\sum_x p(x) \\log p(x) \\tag{8}\n",
    "$$\n",
    "\n",
    "Nel nostro caso, la probabilità $q$ è data dal regressore softmax, mentre $p$ rappresenta la probabilità “ideale” che il campione $x$ appartenga a una data classe.\n",
    "Dato che conosciamo le classi di appartenenza di ogni campione, la probabilità ideale è data da una rappresentazione di tipo \"one-hot-vector\", in cui $p(x) = \\mathbf{y}$ e y ha una unica componente $y_j = 1$, mentre tutte le altre sono nulle.\n",
    "Ad esempio, se le classi sono tre e il campione appartiene alla seconda classe ($c = 1$), allora $\\mathbf{y} = [0, 1, 0]$.\n",
    "\n",
    "---\n",
    "\n",
    "### Domanda 3\n",
    "\n",
    "> I vettori \"one-hot\" sono delle valide distribuzioni di probabilità?\n",
    "\n",
    "Sì, i vettori one-hot sono valide distribuzioni di probabilità perché soddisfano le due condizioni fondamentali: tutte le componenti sono non negative e la loro somma è pari a 1. Rappresentano una distribuzione deterministica, in cui tutta la probabilità è assegnata a una sola classe.\n",
    "\n",
    "---\n",
    "\n",
    "Possiamo dunque scrivere la loss relativa a un dato campione $x$ di etichetta one-hot $\\mathbf{y}$ come segue:\n",
    "\n",
    "$$\n",
    "L_\\theta(x, \\mathbf{y}) = -\\sum_i y_i \\log f(x)_i \\tag{9}\n",
    "$$\n",
    "\n",
    "\n",
    "Notiamo che $\\mathbf{y}_i$ sarà uguale a zero tranne che per $i = j$, dove $j$ è la classe del campione $\\mathbf{x}$.\n",
    "Pertanto, solo uno dei termini della sommatoria nella formula sopra sarà non nullo.\n",
    "Ciò ci permette di riscrivere la loss come segue:\n",
    "\n",
    "$$\n",
    "L_\\theta(x, j) = -\\log f(x)_j \\tag{10}\n",
    "$$\n",
    "\n",
    "Dove $j$ è la classe di $\\mathbf{x}$. Ricordando che $f(x) = \\sigma(Ax + b) = \\sigma(z) = \\frac{e^{z_j}}{\\sum_{k=1}^K e^{z_k}}$, possiamo riscrivere la loss come:\n",
    "\n",
    "$$\n",
    "L_\\theta(x, j) = -\\log \\left( \\frac{e^{z_j}}{\\sum_{k=1}^K e^{z_k}} \\right) = \\log \\sum_{k=1}^K e^{z_k} - \\log e^{z_j} \\tag{11}\n",
    "$$\n",
    "\n",
    "da cui, ricordando che $\\mathbf{z} = A\\mathbf{x} + \\mathbf{b}$, abbiamo:\n",
    "\n",
    "$$\n",
    "L_\\theta(x, j) = \\log \\sum_{k=1}^K e^{z_k} - z_j \\tag{12}\n",
    "$$\n",
    "\n",
    "# 1.1 Implementazione di un Regressore Softmax"
   ]
  },
  {
   "cell_type": "code",
   "execution_count": 349,
   "id": "d9cdd670",
   "metadata": {},
   "outputs": [
    {
     "name": "stdout",
     "output_type": "stream",
     "text": [
      "(150, 4)\n",
      "(150,)\n",
      "[0 0 0 0 0 0 0 0 0 0 0 0 0 0 0 0 0 0 0 0 0 0 0 0 0 0 0 0 0 0 0 0 0 0 0 0 0\n",
      " 0 0 0 0 0 0 0 0 0 0 0 0 0 1 1 1 1 1 1 1 1 1 1 1 1 1 1 1 1 1 1 1 1 1 1 1 1\n",
      " 1 1 1 1 1 1 1 1 1 1 1 1 1 1 1 1 1 1 1 1 1 1 1 1 1 1 2 2 2 2 2 2 2 2 2 2 2\n",
      " 2 2 2 2 2 2 2 2 2 2 2 2 2 2 2 2 2 2 2 2 2 2 2 2 2 2 2 2 2 2 2 2 2 2 2 2 2\n",
      " 2 2]\n"
     ]
    }
   ],
   "source": [
    "from sklearn.datasets import load_iris\n",
    "\n",
    "iris = load_iris()\n",
    "X = iris.data\n",
    "Y = iris.target\n",
    "\n",
    "# Features\n",
    "print(X.shape)\n",
    "\n",
    "# Classi Target\n",
    "print(Y.shape)\n",
    "\n",
    "print(Y)"
   ]
  },
  {
   "cell_type": "code",
   "execution_count": 350,
   "id": "ea64cb87",
   "metadata": {},
   "outputs": [
    {
     "data": {
      "text/plain": [
       "<torch._C.Generator at 0x13f0a5fd0>"
      ]
     },
     "execution_count": 350,
     "metadata": {},
     "output_type": "execute_result"
    }
   ],
   "source": [
    "# Impostimo un seed per avere risultati ripetibili\n",
    "\n",
    "import torch\n",
    "import numpy as np\n",
    "\n",
    "np.random.seed(1234)\n",
    "torch.random.manual_seed(1234)"
   ]
  },
  {
   "cell_type": "code",
   "execution_count": 351,
   "id": "6803db5e",
   "metadata": {},
   "outputs": [],
   "source": [
    "idx = np.random.permutation(len(X))"
   ]
  },
  {
   "cell_type": "code",
   "execution_count": 352,
   "id": "7cc7bac5",
   "metadata": {},
   "outputs": [],
   "source": [
    "X = X[idx]\n",
    "Y = Y[idx]"
   ]
  },
  {
   "cell_type": "code",
   "execution_count": 353,
   "id": "de8437c1",
   "metadata": {},
   "outputs": [],
   "source": [
    "from torch import Tensor\n",
    "\n",
    "X_training = Tensor(X[30:])\n",
    "Y_training = Tensor(Y[30:])\n",
    "X_testing = Tensor(X[:30])\n",
    "Y_testing = Tensor(Y[:30])"
   ]
  },
  {
   "cell_type": "code",
   "execution_count": 354,
   "id": "97cf6525",
   "metadata": {},
   "outputs": [],
   "source": [
    "X_mean = X_training.mean(0)\n",
    "X_std = X_training.std(0)\n",
    "\n",
    "X_training_norm = (X_training - X_mean) / X_std\n",
    "X_testing_norm = (X_testing - X_mean) / X_std"
   ]
  },
  {
   "cell_type": "code",
   "execution_count": 355,
   "id": "9f97b7bf",
   "metadata": {},
   "outputs": [],
   "source": [
    "from torch import nn\n",
    "\n",
    "\n",
    "class SoftMaxRegressor(nn.Module):\n",
    "    def __init__(self, in_features, out_classes):\n",
    "        super(SoftMaxRegressor, self).__init__()\n",
    "        self.linear = nn.Linear(in_features, out_classes)\n",
    "\n",
    "    def forward(self, x):\n",
    "        scores = self.linear(x)\n",
    "        return scores"
   ]
  },
  {
   "cell_type": "code",
   "execution_count": 356,
   "id": "e14b5a1c",
   "metadata": {},
   "outputs": [
    {
     "data": {
      "text/plain": [
       "tensor([[ 0.9326,  0.6582, -0.2940],\n",
       "        [-0.1301, -0.2885,  0.1746],\n",
       "        [ 1.1440,  1.6170, -1.0236],\n",
       "        [-0.1766, -0.4061,  0.2196],\n",
       "        [-0.4706, -0.5166,  0.2307],\n",
       "        [ 1.2162,  1.5326, -0.9408],\n",
       "        [ 1.6219,  1.6549, -0.9210],\n",
       "        [ 0.8984,  1.2598, -0.8457],\n",
       "        [ 1.4105,  1.9569, -1.2018],\n",
       "        [ 1.0097,  0.5520, -0.2012]], grad_fn=<SliceBackward0>)"
      ]
     },
     "execution_count": 356,
     "metadata": {},
     "output_type": "execute_result"
    }
   ],
   "source": [
    "model = SoftMaxRegressor(4, 3)  # 4 feature in ingresso e 3 classi in uscita\n",
    "model(X_training_norm)[:10]"
   ]
  },
  {
   "cell_type": "code",
   "execution_count": 357,
   "id": "0d35a5c9",
   "metadata": {},
   "outputs": [
    {
     "data": {
      "text/plain": [
       "tensor([[0.4870, 0.3701, 0.1428],\n",
       "        [0.3116, 0.2659, 0.4225],\n",
       "        [0.3678, 0.5902, 0.0421],\n",
       "        [0.3048, 0.2423, 0.4529],\n",
       "        [0.2518, 0.2405, 0.5077],\n",
       "        [0.4020, 0.5516, 0.0465],\n",
       "        [0.4734, 0.4893, 0.0372],\n",
       "        [0.3831, 0.5499, 0.0670],\n",
       "        [0.3571, 0.6167, 0.0262],\n",
       "        [0.5180, 0.3277, 0.1543]], grad_fn=<SliceBackward0>)"
      ]
     },
     "execution_count": 357,
     "metadata": {},
     "output_type": "execute_result"
    }
   ],
   "source": [
    "softmax = nn.Softmax(dim=1)  # 1 perché per righe\n",
    "softmax(model(X_training_norm))[:10]"
   ]
  },
  {
   "cell_type": "code",
   "execution_count": 358,
   "id": "36f60c77",
   "metadata": {},
   "outputs": [
    {
     "data": {
      "text/plain": [
       "tensor([1.0000, 1.0000, 1.0000, 1.0000, 1.0000, 1.0000, 1.0000, 1.0000, 1.0000,\n",
       "        1.0000, 1.0000, 1.0000, 1.0000, 1.0000, 1.0000, 1.0000, 1.0000, 1.0000,\n",
       "        1.0000, 1.0000, 1.0000, 1.0000, 1.0000, 1.0000, 1.0000, 1.0000, 1.0000,\n",
       "        1.0000, 1.0000, 1.0000, 1.0000, 1.0000, 1.0000, 1.0000, 1.0000, 1.0000,\n",
       "        1.0000, 1.0000, 1.0000, 1.0000, 1.0000, 1.0000, 1.0000, 1.0000, 1.0000,\n",
       "        1.0000, 1.0000, 1.0000, 1.0000, 1.0000, 1.0000, 1.0000, 1.0000, 1.0000,\n",
       "        1.0000, 1.0000, 1.0000, 1.0000, 1.0000, 1.0000, 1.0000, 1.0000, 1.0000,\n",
       "        1.0000, 1.0000, 1.0000, 1.0000, 1.0000, 1.0000, 1.0000, 1.0000, 1.0000,\n",
       "        1.0000, 1.0000, 1.0000, 1.0000, 1.0000, 1.0000, 1.0000, 1.0000, 1.0000,\n",
       "        1.0000, 1.0000, 1.0000, 1.0000, 1.0000, 1.0000, 1.0000, 1.0000, 1.0000,\n",
       "        1.0000, 1.0000, 1.0000, 1.0000, 1.0000, 1.0000, 1.0000, 1.0000, 1.0000,\n",
       "        1.0000, 1.0000, 1.0000, 1.0000, 1.0000, 1.0000, 1.0000, 1.0000, 1.0000,\n",
       "        1.0000, 1.0000, 1.0000, 1.0000, 1.0000, 1.0000, 1.0000, 1.0000, 1.0000,\n",
       "        1.0000, 1.0000, 1.0000], grad_fn=<SumBackward1>)"
      ]
     },
     "execution_count": 358,
     "metadata": {},
     "output_type": "execute_result"
    }
   ],
   "source": [
    "softmax(model(X_training_norm)).sum(1)"
   ]
  },
  {
   "cell_type": "markdown",
   "id": "9318512e",
   "metadata": {},
   "source": [
    "# Domanda 4 \n",
    "Perché è stata calcolata la funzione softmax per righe? \n",
    "\n",
    "La funzione softmax è calcolata per righe (`dim=1`) perché ogni riga rappresenta un campione, e la softmax deve restituire una distribuzione di probabilità sulle classi per ciascun campione. In questo modo, i valori di ogni riga vengono normalizzati affinché sommino a 1, interpretandoli come probabilità che il campione appartenga a ciascuna classe.\n"
   ]
  },
  {
   "cell_type": "code",
   "execution_count": 359,
   "id": "3814233c",
   "metadata": {},
   "outputs": [
    {
     "data": {
      "text/plain": [
       "tensor([0, 2, 1, 2, 2, 1, 1, 1, 1, 0, 1, 2, 1, 2, 2, 1, 2, 2, 2, 2, 1, 2, 2, 2,\n",
       "        0, 0, 0, 2, 2, 1, 1, 2, 2, 2, 1, 1, 1, 2, 0, 2, 2, 0, 1, 2, 1, 2, 1, 0,\n",
       "        0, 1, 0, 1, 2, 2, 2, 1, 1, 1, 2, 2, 0, 1, 2, 2, 1, 2, 2, 0, 1, 1, 0, 0,\n",
       "        1, 2, 0, 2, 2, 0, 1, 2, 2, 1, 1, 2, 0, 0, 0, 0, 1, 0, 2, 2, 2, 2, 1, 1,\n",
       "        1, 1, 2, 2, 2, 1, 1, 2, 2, 2, 0, 0, 2, 2, 2, 1, 2, 1, 1, 2, 2, 0, 1, 1])"
      ]
     },
     "execution_count": 359,
     "metadata": {},
     "output_type": "execute_result"
    }
   ],
   "source": [
    "# La funziona max restituisce i valori dei massimi e i loro indici (il risultato della funzione argmax)\n",
    "# per questo includiamo \"[1]\" nell'equazione successiva\n",
    "\n",
    "preds = softmax(model(X_training_norm)).max(1)[1]\n",
    "preds"
   ]
  },
  {
   "cell_type": "code",
   "execution_count": 360,
   "id": "77425eef",
   "metadata": {},
   "outputs": [
    {
     "name": "stdout",
     "output_type": "stream",
     "text": [
      "0.35833333333333334\n"
     ]
    }
   ],
   "source": [
    "from sklearn.metrics import accuracy_score\n",
    "\n",
    "print(accuracy_score(Y_training, preds))"
   ]
  },
  {
   "cell_type": "code",
   "execution_count": 361,
   "id": "413ed787",
   "metadata": {},
   "outputs": [
    {
     "name": "stdout",
     "output_type": "stream",
     "text": [
      "tensor([0, 2, 1, 2, 2, 1, 1, 1, 1, 0, 1, 2, 1, 2, 2, 1, 2, 2, 2, 2, 1, 2, 2, 2,\n",
      "        0, 0, 0, 2, 2, 1, 1, 2, 2, 2, 1, 1, 1, 2, 0, 2, 2, 0, 1, 2, 1, 2, 1, 0,\n",
      "        0, 1, 0, 1, 2, 2, 2, 1, 1, 1, 2, 2, 0, 1, 2, 2, 1, 2, 2, 0, 1, 1, 0, 0,\n",
      "        1, 2, 0, 2, 2, 0, 1, 2, 2, 1, 1, 2, 0, 0, 0, 0, 1, 0, 2, 2, 2, 2, 1, 1,\n",
      "        1, 1, 2, 2, 2, 1, 1, 2, 2, 2, 0, 0, 2, 2, 2, 1, 2, 1, 1, 2, 2, 0, 1, 1])\n",
      "tensor([True, True, True, True, True, True, True, True, True, True, True, True,\n",
      "        True, True, True, True, True, True, True, True, True, True, True, True,\n",
      "        True, True, True, True, True, True, True, True, True, True, True, True,\n",
      "        True, True, True, True, True, True, True, True, True, True, True, True,\n",
      "        True, True, True, True, True, True, True, True, True, True, True, True,\n",
      "        True, True, True, True, True, True, True, True, True, True, True, True,\n",
      "        True, True, True, True, True, True, True, True, True, True, True, True,\n",
      "        True, True, True, True, True, True, True, True, True, True, True, True,\n",
      "        True, True, True, True, True, True, True, True, True, True, True, True,\n",
      "        True, True, True, True, True, True, True, True, True, True, True, True])\n"
     ]
    }
   ],
   "source": [
    "preds_logits = model(X_training_norm).argmax(1)\n",
    "print(preds_logits)\n",
    "print((preds_logits == preds))"
   ]
  },
  {
   "cell_type": "markdown",
   "id": "d758d0bb",
   "metadata": {},
   "source": [
    "In pratica, si preferisce dunque non applicare la funzione softmax per il calcolo delle etichette predette.\n",
    "\n",
    "La procedura di training del regressore logistico sarà la seguente:\n",
    "\n",
    "1. Normalizzare i dati in ingresso x;\n",
    "2. Costruire il modulo che implementa il modello (il costruttore si preoccuperà di inizializzare i parametri);\n",
    "3. Mettere il modello in modalità \"training\";\n",
    "4. Calcolare l'output del modello ŷ;\n",
    "5. Calcolare il valore della loss ℒₜₕₑₜₐ(x, y);\n",
    "6. Calcolare il gradiente della loss rispetto ai parametri del modello;\n",
    "7. Aggiornare i pesi θ utilizzando il gradient descent;\n",
    "8. Ripetere i passi 4–7 fino a convergenza.\n",
    "\n",
    "Implementiamo la procedura includendo il monitoring delle curve mediante tensorboard e il calcolo dell'accuracy ad ogni iterazione."
   ]
  },
  {
   "cell_type": "code",
   "execution_count": 362,
   "id": "a0d50c8e",
   "metadata": {},
   "outputs": [],
   "source": [
    "from torch.utils.tensorboard import SummaryWriter\n",
    "from torch.optim import SGD\n",
    "\n",
    "writer = SummaryWriter(\"logs/softmax_regressor\")\n",
    "\n",
    "lr = 0.01\n",
    "epochs = 500\n",
    "\n",
    "\n",
    "means = X_training.mean(0)\n",
    "stds = X_training.std(0)\n",
    "\n",
    "X_training_norm = (X_training - means) / stds\n",
    "X_testing_norm = (X_testing - means) / stds\n",
    "\n",
    "model = SoftMaxRegressor(4, 3)\n",
    "\n",
    "criterion = nn.CrossEntropyLoss()\n",
    "optimizer = SGD(model.parameters(), lr)\n",
    "\n",
    "for e in range(epochs):\n",
    "    model.train()\n",
    "    out = model(X_training_norm)\n",
    "    l = criterion(out, Y_training.long())\n",
    "    l.backward()\n",
    "    writer.add_scalar(\"loss/train\", l.item(), global_step=e)\n",
    "    optimizer.step()\n",
    "    optimizer.zero_grad()\n",
    "\n",
    "    preds_train = out.max(1)[1]\n",
    "    writer.add_scalar(\n",
    "        \"accuracy/train\", accuracy_score(Y_training, preds_train), global_step=e\n",
    "    )\n",
    "\n",
    "    model.eval()\n",
    "    with torch.set_grad_enabled(False):\n",
    "        out = model(X_testing_norm)\n",
    "        l = criterion(out, Y_testing.long())\n",
    "        writer.add_scalar(\"loss/test\", l.item(), global_step=e)\n",
    "        preds_test = out.max(1)[1]\n",
    "        writer.add_scalar(\n",
    "            \"accuracy/test\", accuracy_score(Y_testing, preds_test), global_step=e\n",
    "        )"
   ]
  },
  {
   "cell_type": "code",
   "execution_count": 363,
   "id": "228c76b6",
   "metadata": {},
   "outputs": [
    {
     "name": "stdout",
     "output_type": "stream",
     "text": [
      "Accurancy di training  0.8666666666666667\n",
      "Accurancy di testing  0.9333333333333333\n"
     ]
    }
   ],
   "source": [
    "preds_train = model(X_training_norm).max(1)[1]\n",
    "preds_test = model(X_testing_norm).max(1)[1]\n",
    "print(\"Accurancy di training \", accuracy_score(Y_training, preds_train))\n",
    "print(\"Accurancy di testing \", accuracy_score(Y_testing, preds_test))"
   ]
  },
  {
   "cell_type": "markdown",
   "id": "0d711ef6",
   "metadata": {},
   "source": [
    "# 2. Datasets, Data Loaders, Stochastic Gradient Descent, Salvataggio e Caricamento dei modelli"
   ]
  },
  {
   "cell_type": "markdown",
   "id": "2fb96745",
   "metadata": {},
   "source": [
    "Inizialmente, il gradiente viene calcolato sull'intero dataset (Batch Gradient Descent), ma questo approccio può diventare impraticabile per dataset molto grandi. Per ovviare al problema, si utilizza lo Stochastic Gradient Descent (SGD), che suddivide i dati in mini-batch e calcola il gradiente su uno alla volta. Come esempio, viene introdotto il dataset MNIST, composto da 70.000 immagini di cifre scritte a mano (28×28 pixel), suddivise in 60.000 per il training e 10.000 per il test."
   ]
  },
  {
   "cell_type": "code",
   "execution_count": 364,
   "id": "dba9afdb",
   "metadata": {},
   "outputs": [],
   "source": [
    "from torchvision.datasets import MNIST\n",
    "\n",
    "mnist_train = MNIST(\n",
    "    root=\"data\", train=True, download=True\n",
    ")  # Train=True indica che vogliamo caricare il training set\n",
    "mnist_test = MNIST(root=\"data\", train=False, download=True)"
   ]
  },
  {
   "cell_type": "code",
   "execution_count": 365,
   "id": "33bf7fa3",
   "metadata": {},
   "outputs": [
    {
     "name": "stdout",
     "output_type": "stream",
     "text": [
      "Numero di campioni di training:  60000\n",
      "Numero di campioni di testing:  10000\n"
     ]
    }
   ],
   "source": [
    "print(\"Numero di campioni di training: \", len(mnist_train))\n",
    "print(\"Numero di campioni di testing: \", len(mnist_test))"
   ]
  },
  {
   "cell_type": "code",
   "execution_count": 366,
   "id": "1c3990c7",
   "metadata": {},
   "outputs": [
    {
     "name": "stdout",
     "output_type": "stream",
     "text": [
      "(<PIL.Image.Image image mode=L size=28x28 at 0x3488C26A0>, 5)\n",
      "(<PIL.Image.Image image mode=L size=28x28 at 0x3488C2730>, 7)\n",
      "<class 'PIL.Image.Image'>\n",
      "<class 'int'>\n"
     ]
    }
   ],
   "source": [
    "print(mnist_train[0])\n",
    "print(mnist_test[0])\n",
    "\n",
    "print(type(mnist_train[0][0]))\n",
    "print(type(mnist_train[0][1]))\n",
    "\n",
    "# Il primo parametro è un immagine il secondo l'etichetta corrispondente"
   ]
  },
  {
   "cell_type": "code",
   "execution_count": 367,
   "id": "c7db2325",
   "metadata": {},
   "outputs": [
    {
     "data": {
      "image/png": "[encoded data removed]",
      "text/plain": [
       "<Figure size 640x480 with 1 Axes>"
      ]
     },
     "metadata": {},
     "output_type": "display_data"
    }
   ],
   "source": [
    "from matplotlib import pyplot as plt\n",
    "\n",
    "plt.imshow(mnist_train[0][0], cmap=\"gray\")\n",
    "plt.title(\"Classe: \" + str(mnist_train[0][1]))\n",
    "plt.show()"
   ]
  },
  {
   "cell_type": "code",
   "execution_count": 368,
   "id": "7461b84f",
   "metadata": {},
   "outputs": [
    {
     "data": {
      "text/plain": [
       "torch.Size([28, 28])"
      ]
     },
     "execution_count": 368,
     "metadata": {},
     "output_type": "execute_result"
    }
   ],
   "source": [
    "im = torch.from_numpy(np.array(mnist_train[0][0]))\n",
    "im.shape"
   ]
  },
  {
   "cell_type": "code",
   "execution_count": 369,
   "id": "d412c74f",
   "metadata": {},
   "outputs": [],
   "source": [
    "from torchvision import transforms\n",
    "\n",
    "mnist_train = MNIST(\n",
    "    root=\"data\", train=True, download=True, transform=transforms.ToTensor()\n",
    ")\n",
    "mnist_test = MNIST(\n",
    "    root=\"data\", train=False, download=True, transform=transforms.ToTensor()\n",
    ")"
   ]
  },
  {
   "cell_type": "code",
   "execution_count": 370,
   "id": "4104cfa2",
   "metadata": {},
   "outputs": [
    {
     "name": "stdout",
     "output_type": "stream",
     "text": [
      "<class 'torch.Tensor'>\n",
      "<class 'int'>\n"
     ]
    }
   ],
   "source": [
    "sample = mnist_train[0]\n",
    "print(type(sample[0]))\n",
    "print(type(sample[1]))"
   ]
  },
  {
   "cell_type": "code",
   "execution_count": 371,
   "id": "f9cd9a23",
   "metadata": {},
   "outputs": [
    {
     "name": "stdout",
     "output_type": "stream",
     "text": [
      "torch.Size([1, 28, 28])\n"
     ]
    }
   ],
   "source": [
    "print(mnist_train[0][0].shape)"
   ]
  },
  {
   "cell_type": "code",
   "execution_count": 372,
   "id": "86e12d18",
   "metadata": {},
   "outputs": [
    {
     "data": {
      "image/png": "[encoded data removed]",
      "text/plain": [
       "<Figure size 1200x550 with 10 Axes>"
      ]
     },
     "metadata": {},
     "output_type": "display_data"
    }
   ],
   "source": [
    "from matplotlib import pyplot as plt\n",
    "\n",
    "plt.figure(figsize=(12, 5.5))\n",
    "\n",
    "for i in range(10):\n",
    "    plt.subplot(2, 5, i + 1)\n",
    "    plt.title(\"Classe %d\" % mnist_train[i][1])\n",
    "    plt.imshow(mnist_train[i][0].squeeze().numpy(), cmap=\"gray\")"
   ]
  },
  {
   "cell_type": "code",
   "execution_count": 373,
   "id": "2c3dc3e2",
   "metadata": {},
   "outputs": [],
   "source": [
    "# Normalizziamo i dati in modo che abbiano media nulla e deviazione standard pari a 1\n",
    "\n",
    "m = 0\n",
    "\n",
    "for sample in mnist_train:\n",
    "    m += sample[0].sum()\n",
    "\n",
    "m = m / (len(mnist_train) * 28 * 28)\n",
    "\n",
    "s = 0\n",
    "\n",
    "for sample in mnist_train:\n",
    "    s += ((sample[0] - m) ** 2).sum()\n",
    "\n",
    "s = np.sqrt(s / (len(mnist_train) * 28 * 28))"
   ]
  },
  {
   "cell_type": "code",
   "execution_count": 374,
   "id": "e058c4a1",
   "metadata": {},
   "outputs": [
    {
     "name": "stdout",
     "output_type": "stream",
     "text": [
      "Mean: 0.1307\n",
      "Std: 0.3081\n"
     ]
    }
   ],
   "source": [
    "print(\"Mean: %0.4f\" % m)\n",
    "print(\"Std: %0.4f\" % s)"
   ]
  },
  {
   "cell_type": "code",
   "execution_count": 375,
   "id": "e4b5a9aa",
   "metadata": {},
   "outputs": [
    {
     "name": "stdout",
     "output_type": "stream",
     "text": [
      "Minimo: tensor(-0.4241)\n",
      "Massimo: tensor(2.8215)\n",
      "Media: tensor(-0.0134)\n",
      "Deviazione Standard: tensor(0.9860)\n"
     ]
    }
   ],
   "source": [
    "sample = (mnist_train[15][0] - m) / s\n",
    "print(\"Minimo:\", sample.min())\n",
    "print(\"Massimo:\", sample.max())\n",
    "print(\"Media:\", sample.mean())\n",
    "print(\"Deviazione Standard:\", sample.std())"
   ]
  },
  {
   "cell_type": "code",
   "execution_count": 376,
   "id": "332a777a",
   "metadata": {},
   "outputs": [],
   "source": [
    "# Possibile non farlo a mano nel seguente modo:\n",
    "transform = transforms.Compose(\n",
    "    [transforms.ToTensor(), transforms.Normalize((m,), (s,))]\n",
    ")\n",
    "mnist_train = MNIST(root=\"data\", train=True, download=True, transform=transform)\n",
    "mnist_test = MNIST(root=\"data\", train=False, download=True, transform=transform)"
   ]
  },
  {
   "cell_type": "code",
   "execution_count": 377,
   "id": "9ca8fb7e",
   "metadata": {},
   "outputs": [
    {
     "name": "stdout",
     "output_type": "stream",
     "text": [
      "Minimo: tensor(-0.4241)\n",
      "Massimo: tensor(2.8215)\n",
      "Media: tensor(-0.0134)\n",
      "Deviazione Standard: tensor(0.9860)\n"
     ]
    }
   ],
   "source": [
    "sample = mnist_train[15][0]\n",
    "print(\"Minimo:\", sample.min())\n",
    "print(\"Massimo:\", sample.max())\n",
    "print(\"Media:\", sample.mean())\n",
    "print(\"Deviazione Standard:\", sample.std())"
   ]
  },
  {
   "cell_type": "code",
   "execution_count": 378,
   "id": "6128fbc8",
   "metadata": {},
   "outputs": [
    {
     "name": "stdout",
     "output_type": "stream",
     "text": [
      "torch.Size([784])\n"
     ]
    }
   ],
   "source": [
    "sample = sample.view(-1)\n",
    "print(sample.shape)"
   ]
  },
  {
   "cell_type": "code",
   "execution_count": 379,
   "id": "c7563c06",
   "metadata": {},
   "outputs": [],
   "source": [
    "# Creiamo una funzione custom\n",
    "\n",
    "\n",
    "def custom_transf(x):\n",
    "    return x.view(-1)\n",
    "\n",
    "\n",
    "transform = transforms.Compose(\n",
    "    [\n",
    "        transforms.ToTensor(),\n",
    "        transforms.Normalize((m,), (s,)),\n",
    "        transforms.Lambda(custom_transf),\n",
    "    ]\n",
    ")\n",
    "mnist_train = MNIST(root=\"data\", train=True, download=True, transform=transform)\n",
    "mnist_test = MNIST(root=\"data\", train=False, download=True, transform=transform)"
   ]
  },
  {
   "cell_type": "code",
   "execution_count": 380,
   "id": "eeb968cd",
   "metadata": {},
   "outputs": [
    {
     "name": "stdout",
     "output_type": "stream",
     "text": [
      "torch.Size([784])\n",
      "5\n"
     ]
    }
   ],
   "source": [
    "print(mnist_train[0][0].shape)\n",
    "print(mnist_train[0][1])"
   ]
  },
  {
   "cell_type": "markdown",
   "id": "fabd4fe7",
   "metadata": {},
   "source": [
    "### 2.2 Data Loader\n",
    "\n",
    "Ogni campione ottenuto mediante l'oggetto dataset MNIST verrà automaticamente normalizzato e trasformato in un vettore. \n",
    "Per effettuare l'ottimizzazione mediante Stochastic Gradient Descent, dobbiamo suddividere i campioni in mini-batch. \n",
    "\n",
    "Inoltre, è importante fornire i campioni in ordine casuale, in quanto fornire consecutivamente elementi con caratteristiche simili \n",
    "(es. stessa classe) favorirebbe l'overfitting.\n",
    "\n",
    "PyTorch ci permette di gestire il \"batching\" in automatico e in maniera multithread mediante l'oggetto DataLoader. \n",
    "\n",
    "Utilizziamo un batch size di 256 immagini e due thread paralleli per velocizzare il caricamento dei dati:"
   ]
  },
  {
   "cell_type": "code",
   "execution_count": null,
   "id": "5ec8bbbd",
   "metadata": {},
   "outputs": [],
   "source": []
  }
 ],
 "metadata": {
  "kernelspec": {
   "display_name": "ML_def",
   "language": "python",
   "name": "python3"
  },
  "language_info": {
   "codemirror_mode": {
    "name": "ipython",
    "version": 3
   },
   "file_extension": ".py",
   "mimetype": "text/x-python",
   "name": "python",
   "nbconvert_exporter": "python",
   "pygments_lexer": "ipython3",
   "version": "3.8.20"
  }
 },
 "nbformat": 4,
 "nbformat_minor": 5
}
