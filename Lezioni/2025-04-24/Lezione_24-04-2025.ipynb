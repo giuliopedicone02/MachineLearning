{
 "cells": [
  {
   "cell_type": "markdown",
   "id": "534256dd",
   "metadata": {},
   "source": [
    "# 1. Classificazione SoftMax\n",
    "\n",
    "Abbiamo visto come sia possibile \"trasformare\" un regressore lineare in un classificatore binario utilizzando la funzione logistica. Abbiamo anche visto che è possibile implementare un classificatore multiclasse mediante il principio \"one-vs-all\". Tuttavia, il principio one-vs-all è poco naturale per risolvere problemi di classificazione multiclasse. Un regressore logistico ci permette di stimare la probabilità:\n",
    "\n",
    "$$\n",
    "p(c \\mid x) \\tag{1}\n",
    "$$\n",
    "\n",
    "dove $c$ è la classe ($c = 0$ nel caso della classe negativa e $c = 1$ nel caso della classe positiva) e $x$ è il campione in ingresso. Sappiamo inoltre che\n",
    "\n",
    "$$\n",
    "p(c = 0 \\mid x) + p(c = 1 \\mid x) = 1 \\tag{2}\n",
    "$$\n",
    "\n",
    "per cui il un regressore logistico ci permette di stimare la distribuzione di probabilità condizionale sulle classi possibili (solo due in questo caso), dato il campione in ingresso $x$.\n",
    "\n",
    "Supponiamo adesso di avere un problema di classificazione su $K$ classi $c = 0, c = 1, \\ldots, c = K - 1$. Il principio \"one-vs-all\" ci permette di classificare gli elementi $x$, ma non di stimare direttamente una distribuzione di probabilità condizionale sulle classi dato il campione in ingresso mostrato di seguito:\n",
    "\n",
    "$$\n",
    "p(c \\mid x) : p(c = 0 \\mid x) + p(c = 1 \\mid x) + \\ldots + p(c = K \\mid x) = 1 \\tag{3}\n",
    "$$\n",
    "\n",
    "---\n",
    "\n",
    "### Domanda 1\n",
    "\n",
    "> A cosa può servire stimare le probabilità a posteriori $p(c \\mid x)$ oltre a inferire la classe più probabile per il campione $x$ ?\n",
    "\n",
    "Stimare le probabilità a posteriori $p(c \\mid x)$ serve non solo a determinare la classe più probabile, ma offre diversi vantaggi pratici e teorici:\n",
    "\n",
    "1. Decisioni più informate: conoscere la probabilità associata a ciascuna classe permette di valutare la confidenza del modello nella sua previsione. Ad esempio, una predizione con $p = 0.99$ è molto più affidabile di una con $p = 0.51$, anche se entrambe indicano la stessa classe più probabile.\n",
    "\n",
    "2. Classificazione con soglie personalizzate: in problemi dove gli errori hanno costi diversi (es. medicina, finanza), le probabilità permettono di definire soglie di decisione più adatte al contesto, anziché classificare sempre in base alla massima probabilità.\n",
    "\n",
    "3. Integrazione in sistemi complessi: le probabilità a posteriori possono essere usate in modelli probabilistici più grandi (es. reti bayesiane, modelli sequenziali) o come input in sistemi decisionali, dove è utile avere una stima di incertezza.\n",
    "\n",
    "4. Valutazione più dettagliata dei modelli: l’uso di probabilità consente metriche più raffinate come log-loss, cross-entropy, curva ROC e AUC, e permette di verificare se il modello è ben calibrato (cioè se le probabilità stimate corrispondono a frequenze reali).\n",
    "\n",
    "5. Combinazione di modelli: in metodi di ensemble learning o model averaging, è utile combinare probabilità (soft voting) piuttosto che semplici decisioni secche (hard voting), ottenendo spesso migliori performance.\n",
    "\n",
    "In sintesi, stimare $p(c \\mid x)$ consente un uso più flessibile, robusto e informato dei modelli di classificazione, andando ben oltre la sola scelta della classe più probabile.\n",
    "\n",
    "---\n",
    "\n",
    "Se volessimo ottenere una distribuzione di probabilità sulle $K$ classi, potremmo pensare di costruire un regressore lineare che, preso in input un dato, restituisce un vettore di $K$ elementi. Ciò può essere ottenuto semplicemente con una trasformazione lineare del tipo $z = Ax + b$, dove $A$ è una matrice $n \\times K$, con $n$ numero di feature in ingresso. Analogamente a quanto visto nel caso del regressore logistico, tuttavia, non vi è alcuna garanzia che il vettore $z$ rappresenti una valida distribuzione di probabilità. Ricordiamo che affinché ciò accada ci serve che:\n",
    "\n",
    "* $z_i \\ge 0, \\ \\forall i \\in \\{1, \\ldots, K\\}$\n",
    "* $\\sum_{i=1}^K z_i = 1$\n",
    "\n",
    "La funzione SoftMax è una generalizzazione della funzione logistica che ci permette di normalizzare un vettore arbitrario di numeri in modo che rispetti le due proprietà appena viste:\n",
    "\n",
    "$$\n",
    "\\sigma(x_j) = \\frac{e^{z_j}}{\\sum_{k=1}^K e^{z_k}} \\tag{4}\n",
    "$$\n",
    "\n",
    "dove $z_j$ rappresenta la $j$-esima componente del vettore $z$ (e dunque $\\sigma(x_j)$ rappresenta la $j$-esima componente del vettore normalizzato mediante SoftMax $\\sigma(x)$).\n",
    "\n",
    "In pratica, la funzione SoftMax esegue due operazioni:\n",
    "\n",
    "* Applica la funzione esponenziale a tutte le componenti del vettore non normalizzato $z$. Questa operazione permette di soddisfare la prima proprietà mappando numeri $x \\in [-\\infty, +\\infty]$ su numeri del range $[0, +\\infty]$. Si noti che la funzione esponenziale è monotona crescente, per cui se $z_i \\le z_j$, allora $e^{z_i} \\le e^{z_j}$.\n",
    "* Normalizza gli elementi del vettore in uscita dividendoli per la somma dei valori positivi $e^{z_i} \\left( \\frac{e^zi}{\\sum{z_k}} \\right)$. Questa normalizzazione ci assicura che la seconda proprietà sia rispettata: $\\sum_{i=1}^K \\sigma(z_i) = 1$.\n",
    "\n",
    "### Domanda 2\n",
    "\n",
    "> Cosa garantisce che i valori restituiti dalla funzione SoftMax siano non negativi? Disegnare la funzione esponenziale per rispondere alla domanda.\n",
    "\n",
    "I valori restituiti dalla funzione SoftMax sono sempre non negativi perché la funzione applica, come primo passo, l’esponenziale a ciascun elemento del vettore $z$. La funzione esponenziale $f(z) = e^z$ ha la proprietà fondamentale di essere sempre positiva per ogni valore reale di $z$, cioè:\n",
    "\n",
    "$$\n",
    "e^z > 0 \\quad \\text{per ogni } z \\in \\mathbb{R}\n",
    "$$\n",
    "\n",
    "Questo significa che, anche se un componente $z_j$ è negativo, $e^{z_j}$ sarà comunque positivo (sebbene molto vicino a zero per valori molto negativi). La SoftMax calcola poi:\n",
    "\n",
    "$$\n",
    "\\sigma(z_j) = \\frac{e^{z_j}}{\\sum_{k=1}^K e^{z_k}}\n",
    "$$\n",
    "\n",
    "dove:\n",
    "\n",
    "* Il numeratore $e^{z_j}$ è positivo;\n",
    "* Il denominatore è una somma di termini $e^{z_k}$, tutti positivi, quindi positivo anch’esso.\n",
    "\n",
    "Essendo quindi il rapporto tra due numeri positivi, ogni componente della SoftMax è strettamente positiva (cioè maggiore di zero), e dunque non negativa. Inoltre, la normalizzazione garantisce che la somma dei valori sia uguale a 1, rendendo il vettore un’autentica distribuzione di probabilità.\n",
    "\n",
    "La forma della funzione esponenziale giustifica questo comportamento:\n",
    "![grafico](/Users/vincenzovillanova/Desktop/ML/grafico.jpg)\n",
    "\n",
    "Come mostra il grafico, la funzione $e^z$ è sempre positiva e monotona crescente, motivo per cui la SoftMax può garantire che tutti i valori siano non negativi e sommati diano 1.\n",
    "\n",
    "---\n",
    "\n",
    "La formulazione del regressore SoftMax è dunque la seguente:\n",
    "\n",
    "$$\n",
    "f(x) = \\sigma(Ax + b) = \\sigma(z) = \\frac{e^{z_j}}{\\sum_{k=1}^{K} e^{z_k}} \\tag{5}\n",
    "$$\n",
    "\n",
    "dove $z = Ax + b$, la funzione $f$ stima la probabilità a posteriori che $x$ appartenga ad una data classe:\n",
    "\n",
    "$$\n",
    "p(c = i \\mid x) = f(x)_i \\tag{6}\n",
    "$$\n",
    "\n",
    "e $f(x)_i$ indica la i-esima componente del vettore di probabilità ottenuto mediante il regressore softmax $f$.\n",
    "\n",
    "Per allenare il regressore softmax, utilizziamo una generalizzazione della loss vista nel caso del regressore logistico: la cross entropy loss.\n",
    "In teoria dell’informazione, la cross entropy tra due distribuzioni di probabilità $p$ e $q$ è definita come:\n",
    "\n",
    "$$\n",
    "H(p, q) = -\\sum_x p(x) \\log q(x) \\tag{7}\n",
    "$$\n",
    "\n",
    "La cross entropy $H(p, q)$ indica il numero medio di bit necessario per identificare eventi $x$ che seguono la probabilità $p$ se li descriviamo con la probabilità stimata $q$.\n",
    "La cross entropy raggiunge il suo minimo quando $p$ e $q$ sono uguali. In tal caso la cross entropy corrisponde all’entropia di $p$:\n",
    "\n",
    "$$\n",
    "H(p) = -\\sum_x p(x) \\log p(x) \\tag{8}\n",
    "$$\n",
    "\n",
    "Nel nostro caso, la probabilità $q$ è data dal regressore softmax, mentre $p$ rappresenta la probabilità “ideale” che il campione $x$ appartenga a una data classe.\n",
    "Dato che conosciamo le classi di appartenenza di ogni campione, la probabilità ideale è data da una rappresentazione di tipo \"one-hot-vector\", in cui $p(x) = \\mathbf{y}$ e y ha una unica componente $y_j = 1$, mentre tutte le altre sono nulle.\n",
    "Ad esempio, se le classi sono tre e il campione appartiene alla seconda classe ($c = 1$), allora $\\mathbf{y} = [0, 1, 0]$.\n",
    "\n",
    "---\n",
    "\n",
    "### Domanda 3\n",
    "\n",
    "> I vettori \"one-hot\" sono delle valide distribuzioni di probabilità?\n",
    "\n",
    "Sì, i vettori one-hot sono valide distribuzioni di probabilità perché soddisfano le due condizioni fondamentali: tutte le componenti sono non negative e la loro somma è pari a 1. Rappresentano una distribuzione deterministica, in cui tutta la probabilità è assegnata a una sola classe.\n",
    "\n",
    "---\n",
    "\n",
    "Possiamo dunque scrivere la loss relativa a un dato campione $x$ di etichetta one-hot $\\mathbf{y}$ come segue:\n",
    "\n",
    "$$\n",
    "L_\\theta(x, \\mathbf{y}) = -\\sum_i y_i \\log f(x)_i \\tag{9}\n",
    "$$\n",
    "\n",
    "\n",
    "Notiamo che $\\mathbf{y}_i$ sarà uguale a zero tranne che per $i = j$, dove $j$ è la classe del campione $\\mathbf{x}$.\n",
    "Pertanto, solo uno dei termini della sommatoria nella formula sopra sarà non nullo.\n",
    "Ciò ci permette di riscrivere la loss come segue:\n",
    "\n",
    "$$\n",
    "L_\\theta(x, j) = -\\log f(x)_j \\tag{10}\n",
    "$$\n",
    "\n",
    "Dove $j$ è la classe di $\\mathbf{x}$. Ricordando che $f(x) = \\sigma(Ax + b) = \\sigma(z) = \\frac{e^{z_j}}{\\sum_{k=1}^K e^{z_k}}$, possiamo riscrivere la loss come:\n",
    "\n",
    "$$\n",
    "L_\\theta(x, j) = -\\log \\left( \\frac{e^{z_j}}{\\sum_{k=1}^K e^{z_k}} \\right) = \\log \\sum_{k=1}^K e^{z_k} - \\log e^{z_j} \\tag{11}\n",
    "$$\n",
    "\n",
    "da cui, ricordando che $\\mathbf{z} = A\\mathbf{x} + \\mathbf{b}$, abbiamo:\n",
    "\n",
    "$$\n",
    "L_\\theta(x, j) = \\log \\sum_{k=1}^K e^{z_k} - z_j \\tag{12}\n",
    "$$\n",
    "\n",
    "# 1.1 Implementazione di un Regressore Softmax"
   ]
  },
  {
   "cell_type": "code",
   "execution_count": 177,
   "id": "d9cdd670",
   "metadata": {},
   "outputs": [
    {
     "name": "stdout",
     "output_type": "stream",
     "text": [
      "(150, 4)\n",
      "(150,)\n",
      "[0 0 0 0 0 0 0 0 0 0 0 0 0 0 0 0 0 0 0 0 0 0 0 0 0 0 0 0 0 0 0 0 0 0 0 0 0\n",
      " 0 0 0 0 0 0 0 0 0 0 0 0 0 1 1 1 1 1 1 1 1 1 1 1 1 1 1 1 1 1 1 1 1 1 1 1 1\n",
      " 1 1 1 1 1 1 1 1 1 1 1 1 1 1 1 1 1 1 1 1 1 1 1 1 1 1 2 2 2 2 2 2 2 2 2 2 2\n",
      " 2 2 2 2 2 2 2 2 2 2 2 2 2 2 2 2 2 2 2 2 2 2 2 2 2 2 2 2 2 2 2 2 2 2 2 2 2\n",
      " 2 2]\n"
     ]
    }
   ],
   "source": [
    "from sklearn.datasets import load_iris\n",
    "\n",
    "iris = load_iris()\n",
    "X = iris.data\n",
    "Y = iris.target\n",
    "\n",
    "# Features\n",
    "print(X.shape)\n",
    "\n",
    "# Classi Target\n",
    "print(Y.shape)\n",
    "\n",
    "print(Y)"
   ]
  },
  {
   "cell_type": "code",
   "execution_count": 178,
   "id": "ea64cb87",
   "metadata": {},
   "outputs": [
    {
     "data": {
      "text/plain": [
       "<torch._C.Generator at 0x12df98fd0>"
      ]
     },
     "execution_count": 178,
     "metadata": {},
     "output_type": "execute_result"
    }
   ],
   "source": [
    "# Impostimo un seed per avere risultati ripetibili\n",
    "\n",
    "import torch\n",
    "import numpy as np\n",
    "\n",
    "np.random.seed(1234)\n",
    "torch.random.manual_seed(1234)"
   ]
  },
  {
   "cell_type": "code",
   "execution_count": 179,
   "id": "6803db5e",
   "metadata": {},
   "outputs": [],
   "source": [
    "idx = np.random.permutation(len(X))"
   ]
  },
  {
   "cell_type": "code",
   "execution_count": 180,
   "id": "7cc7bac5",
   "metadata": {},
   "outputs": [],
   "source": [
    "X = X[idx]\n",
    "Y = Y[idx]"
   ]
  },
  {
   "cell_type": "code",
   "execution_count": 181,
   "id": "de8437c1",
   "metadata": {},
   "outputs": [],
   "source": [
    "from torch import Tensor\n",
    "\n",
    "X_training = Tensor(X[30:])\n",
    "Y_training = Tensor(Y[30:])\n",
    "X_testing = Tensor(X[:30])\n",
    "Y_testing = Tensor(Y[:30])"
   ]
  },
  {
   "cell_type": "code",
   "execution_count": 182,
   "id": "97cf6525",
   "metadata": {},
   "outputs": [],
   "source": [
    "X_mean = X_training.mean(0)\n",
    "X_std = X_training.std(0)\n",
    "\n",
    "X_training_norm = (X_training - X_mean) / X_std\n",
    "X_testing_norm = (X_testing - X_mean) / X_std"
   ]
  },
  {
   "cell_type": "code",
   "execution_count": 183,
   "id": "9f97b7bf",
   "metadata": {},
   "outputs": [],
   "source": [
    "from torch import nn\n",
    "\n",
    "\n",
    "class SoftMaxRegressor(nn.Module):\n",
    "    def __init__(self, in_features, out_classes):\n",
    "        super(SoftMaxRegressor, self).__init__()\n",
    "        self.linear = nn.Linear(in_features, out_classes)\n",
    "\n",
    "    def forward(self, x):\n",
    "        scores = self.linear(x)\n",
    "        return scores"
   ]
  },
  {
   "cell_type": "code",
   "execution_count": 184,
   "id": "e14b5a1c",
   "metadata": {},
   "outputs": [
    {
     "data": {
      "text/plain": [
       "tensor([[ 0.9326,  0.6582, -0.2940],\n",
       "        [-0.1301, -0.2885,  0.1746],\n",
       "        [ 1.1440,  1.6170, -1.0236],\n",
       "        [-0.1766, -0.4061,  0.2196],\n",
       "        [-0.4706, -0.5166,  0.2307],\n",
       "        [ 1.2162,  1.5326, -0.9408],\n",
       "        [ 1.6219,  1.6549, -0.9210],\n",
       "        [ 0.8984,  1.2598, -0.8457],\n",
       "        [ 1.4105,  1.9569, -1.2018],\n",
       "        [ 1.0097,  0.5520, -0.2012]], grad_fn=<SliceBackward0>)"
      ]
     },
     "execution_count": 184,
     "metadata": {},
     "output_type": "execute_result"
    }
   ],
   "source": [
    "model = SoftMaxRegressor(4, 3)  # 4 feature in ingresso e 3 classi in uscita\n",
    "model(X_training_norm)[:10]"
   ]
  },
  {
   "cell_type": "code",
   "execution_count": 185,
   "id": "0d35a5c9",
   "metadata": {},
   "outputs": [
    {
     "data": {
      "text/plain": [
       "tensor([[0.4870, 0.3701, 0.1428],\n",
       "        [0.3116, 0.2659, 0.4225],\n",
       "        [0.3678, 0.5902, 0.0421],\n",
       "        [0.3048, 0.2423, 0.4529],\n",
       "        [0.2518, 0.2405, 0.5077],\n",
       "        [0.4020, 0.5516, 0.0465],\n",
       "        [0.4734, 0.4893, 0.0372],\n",
       "        [0.3831, 0.5499, 0.0670],\n",
       "        [0.3571, 0.6167, 0.0262],\n",
       "        [0.5180, 0.3277, 0.1543]], grad_fn=<SliceBackward0>)"
      ]
     },
     "execution_count": 185,
     "metadata": {},
     "output_type": "execute_result"
    }
   ],
   "source": [
    "softmax = nn.Softmax(dim=1)  # 1 perché per righe\n",
    "softmax(model(X_training_norm))[:10]"
   ]
  },
  {
   "cell_type": "code",
   "execution_count": 186,
   "id": "36f60c77",
   "metadata": {},
   "outputs": [
    {
     "data": {
      "text/plain": [
       "tensor([1.0000, 1.0000, 1.0000, 1.0000, 1.0000, 1.0000, 1.0000, 1.0000, 1.0000,\n",
       "        1.0000, 1.0000, 1.0000, 1.0000, 1.0000, 1.0000, 1.0000, 1.0000, 1.0000,\n",
       "        1.0000, 1.0000, 1.0000, 1.0000, 1.0000, 1.0000, 1.0000, 1.0000, 1.0000,\n",
       "        1.0000, 1.0000, 1.0000, 1.0000, 1.0000, 1.0000, 1.0000, 1.0000, 1.0000,\n",
       "        1.0000, 1.0000, 1.0000, 1.0000, 1.0000, 1.0000, 1.0000, 1.0000, 1.0000,\n",
       "        1.0000, 1.0000, 1.0000, 1.0000, 1.0000, 1.0000, 1.0000, 1.0000, 1.0000,\n",
       "        1.0000, 1.0000, 1.0000, 1.0000, 1.0000, 1.0000, 1.0000, 1.0000, 1.0000,\n",
       "        1.0000, 1.0000, 1.0000, 1.0000, 1.0000, 1.0000, 1.0000, 1.0000, 1.0000,\n",
       "        1.0000, 1.0000, 1.0000, 1.0000, 1.0000, 1.0000, 1.0000, 1.0000, 1.0000,\n",
       "        1.0000, 1.0000, 1.0000, 1.0000, 1.0000, 1.0000, 1.0000, 1.0000, 1.0000,\n",
       "        1.0000, 1.0000, 1.0000, 1.0000, 1.0000, 1.0000, 1.0000, 1.0000, 1.0000,\n",
       "        1.0000, 1.0000, 1.0000, 1.0000, 1.0000, 1.0000, 1.0000, 1.0000, 1.0000,\n",
       "        1.0000, 1.0000, 1.0000, 1.0000, 1.0000, 1.0000, 1.0000, 1.0000, 1.0000,\n",
       "        1.0000, 1.0000, 1.0000], grad_fn=<SumBackward1>)"
      ]
     },
     "execution_count": 186,
     "metadata": {},
     "output_type": "execute_result"
    }
   ],
   "source": [
    "softmax(model(X_training_norm)).sum(1)"
   ]
  },
  {
   "cell_type": "markdown",
   "id": "9318512e",
   "metadata": {},
   "source": [
    "# Domanda 4 \n",
    "Perché è stata calcolata la funzione softmax per righe? \n",
    "\n",
    "La funzione softmax è calcolata per righe (`dim=1`) perché ogni riga rappresenta un campione, e la softmax deve restituire una distribuzione di probabilità sulle classi per ciascun campione. In questo modo, i valori di ogni riga vengono normalizzati affinché sommino a 1, interpretandoli come probabilità che il campione appartenga a ciascuna classe.\n"
   ]
  },
  {
   "cell_type": "code",
   "execution_count": 187,
   "id": "3814233c",
   "metadata": {},
   "outputs": [
    {
     "data": {
      "text/plain": [
       "tensor([0, 2, 1, 2, 2, 1, 1, 1, 1, 0, 1, 2, 1, 2, 2, 1, 2, 2, 2, 2, 1, 2, 2, 2,\n",
       "        0, 0, 0, 2, 2, 1, 1, 2, 2, 2, 1, 1, 1, 2, 0, 2, 2, 0, 1, 2, 1, 2, 1, 0,\n",
       "        0, 1, 0, 1, 2, 2, 2, 1, 1, 1, 2, 2, 0, 1, 2, 2, 1, 2, 2, 0, 1, 1, 0, 0,\n",
       "        1, 2, 0, 2, 2, 0, 1, 2, 2, 1, 1, 2, 0, 0, 0, 0, 1, 0, 2, 2, 2, 2, 1, 1,\n",
       "        1, 1, 2, 2, 2, 1, 1, 2, 2, 2, 0, 0, 2, 2, 2, 1, 2, 1, 1, 2, 2, 0, 1, 1])"
      ]
     },
     "execution_count": 187,
     "metadata": {},
     "output_type": "execute_result"
    }
   ],
   "source": [
    "# La funziona max restituisce i valori dei massimi e i loro indici (il risultato della funzione argmax)\n",
    "# per questo includiamo \"[1]\" nell'equazione successiva\n",
    "\n",
    "preds = softmax(model(X_training_norm)).max(1)[1]\n",
    "preds"
   ]
  },
  {
   "cell_type": "code",
   "execution_count": 188,
   "id": "77425eef",
   "metadata": {},
   "outputs": [
    {
     "name": "stdout",
     "output_type": "stream",
     "text": [
      "0.35833333333333334\n"
     ]
    }
   ],
   "source": [
    "from sklearn.metrics import accuracy_score\n",
    "\n",
    "print(accuracy_score(Y_training, preds))"
   ]
  },
  {
   "cell_type": "code",
   "execution_count": 189,
   "id": "413ed787",
   "metadata": {},
   "outputs": [
    {
     "name": "stdout",
     "output_type": "stream",
     "text": [
      "tensor([0, 2, 1, 2, 2, 1, 1, 1, 1, 0, 1, 2, 1, 2, 2, 1, 2, 2, 2, 2, 1, 2, 2, 2,\n",
      "        0, 0, 0, 2, 2, 1, 1, 2, 2, 2, 1, 1, 1, 2, 0, 2, 2, 0, 1, 2, 1, 2, 1, 0,\n",
      "        0, 1, 0, 1, 2, 2, 2, 1, 1, 1, 2, 2, 0, 1, 2, 2, 1, 2, 2, 0, 1, 1, 0, 0,\n",
      "        1, 2, 0, 2, 2, 0, 1, 2, 2, 1, 1, 2, 0, 0, 0, 0, 1, 0, 2, 2, 2, 2, 1, 1,\n",
      "        1, 1, 2, 2, 2, 1, 1, 2, 2, 2, 0, 0, 2, 2, 2, 1, 2, 1, 1, 2, 2, 0, 1, 1])\n",
      "tensor([True, True, True, True, True, True, True, True, True, True, True, True,\n",
      "        True, True, True, True, True, True, True, True, True, True, True, True,\n",
      "        True, True, True, True, True, True, True, True, True, True, True, True,\n",
      "        True, True, True, True, True, True, True, True, True, True, True, True,\n",
      "        True, True, True, True, True, True, True, True, True, True, True, True,\n",
      "        True, True, True, True, True, True, True, True, True, True, True, True,\n",
      "        True, True, True, True, True, True, True, True, True, True, True, True,\n",
      "        True, True, True, True, True, True, True, True, True, True, True, True,\n",
      "        True, True, True, True, True, True, True, True, True, True, True, True,\n",
      "        True, True, True, True, True, True, True, True, True, True, True, True])\n"
     ]
    }
   ],
   "source": [
    "preds_logits = model(X_training_norm).argmax(1)\n",
    "print(preds_logits)\n",
    "print((preds_logits == preds))"
   ]
  },
  {
   "cell_type": "markdown",
   "id": "d758d0bb",
   "metadata": {},
   "source": [
    "In pratica, si preferisce dunque non applicare la funzione softmax per il calcolo delle etichette predette.\n",
    "\n",
    "La procedura di training del regressore logistico sarà la seguente:\n",
    "\n",
    "1. Normalizzare i dati in ingresso x;\n",
    "2. Costruire il modulo che implementa il modello (il costruttore si preoccuperà di inizializzare i parametri);\n",
    "3. Mettere il modello in modalità \"training\";\n",
    "4. Calcolare l'output del modello ŷ;\n",
    "5. Calcolare il valore della loss ℒₜₕₑₜₐ(x, y);\n",
    "6. Calcolare il gradiente della loss rispetto ai parametri del modello;\n",
    "7. Aggiornare i pesi θ utilizzando il gradient descent;\n",
    "8. Ripetere i passi 4–7 fino a convergenza.\n",
    "\n",
    "Implementiamo la procedura includendo il monitoring delle curve mediante tensorboard e il calcolo dell'accuracy ad ogni iterazione."
   ]
  },
  {
   "cell_type": "code",
   "execution_count": 190,
   "id": "a0d50c8e",
   "metadata": {},
   "outputs": [],
   "source": [
    "from torch.utils.tensorboard import SummaryWriter\n",
    "from torch.optim import SGD\n",
    "\n",
    "writer = SummaryWriter(\"logs/softmax_regressor\")\n",
    "\n",
    "lr = 0.01\n",
    "epochs = 500\n",
    "\n",
    "\n",
    "means = X_training.mean(0)\n",
    "stds = X_training.std(0)\n",
    "\n",
    "X_training_norm = (X_training - means) / stds\n",
    "X_testing_norm = (X_testing - means) / stds\n",
    "\n",
    "model = SoftMaxRegressor(4, 3)\n",
    "\n",
    "criterion = nn.CrossEntropyLoss()\n",
    "optimizer = SGD(model.parameters(), lr)\n",
    "\n",
    "for e in range(epochs):\n",
    "    model.train()\n",
    "    out = model(X_training_norm)\n",
    "    l = criterion(out, Y_training.long())\n",
    "    l.backward()\n",
    "    writer.add_scalar(\"loss/train\", l.item(), global_step=e)\n",
    "    optimizer.step()\n",
    "    optimizer.zero_grad()\n",
    "\n",
    "    preds_train = out.max(1)[1]\n",
    "    writer.add_scalar(\n",
    "        \"accuracy/train\", accuracy_score(Y_training, preds_train), global_step=e\n",
    "    )\n",
    "\n",
    "    model.eval()\n",
    "    with torch.set_grad_enabled(False):\n",
    "        out = model(X_testing_norm)\n",
    "        l = criterion(out, Y_testing.long())\n",
    "        writer.add_scalar(\"loss/test\", l.item(), global_step=e)\n",
    "        preds_test = out.max(1)[1]\n",
    "        writer.add_scalar(\n",
    "            \"accuracy/test\", accuracy_score(Y_testing, preds_test), global_step=e\n",
    "        )"
   ]
  },
  {
   "cell_type": "code",
   "execution_count": 191,
   "id": "228c76b6",
   "metadata": {},
   "outputs": [
    {
     "name": "stdout",
     "output_type": "stream",
     "text": [
      "Accurancy di training  0.8666666666666667\n",
      "Accurancy di testing  0.9333333333333333\n"
     ]
    }
   ],
   "source": [
    "preds_train = model(X_training_norm).max(1)[1]\n",
    "preds_test = model(X_testing_norm).max(1)[1]\n",
    "print(\"Accurancy di training \", accuracy_score(Y_training, preds_train))\n",
    "print(\"Accurancy di testing \", accuracy_score(Y_testing, preds_test))"
   ]
  },
  {
   "cell_type": "markdown",
   "id": "0d711ef6",
   "metadata": {},
   "source": [
    "# 2. Datasets, Data Loaders, Stochastic Gradient Descent, Salvataggio e Caricamento dei modelli"
   ]
  },
  {
   "cell_type": "markdown",
   "id": "2fb96745",
   "metadata": {},
   "source": [
    "Inizialmente, il gradiente viene calcolato sull'intero dataset (Batch Gradient Descent), ma questo approccio può diventare impraticabile per dataset molto grandi. Per ovviare al problema, si utilizza lo Stochastic Gradient Descent (SGD), che suddivide i dati in mini-batch e calcola il gradiente su uno alla volta. Come esempio, viene introdotto il dataset MNIST, composto da 70.000 immagini di cifre scritte a mano (28×28 pixel), suddivise in 60.000 per il training e 10.000 per il test."
   ]
  },
  {
   "cell_type": "code",
   "execution_count": 192,
   "id": "dba9afdb",
   "metadata": {},
   "outputs": [],
   "source": [
    "from torchvision.datasets import MNIST\n",
    "\n",
    "mnist_train = MNIST(\n",
    "    root=\"data\", train=True, download=True\n",
    ")  # Train=True indica che vogliamo caricare il training set\n",
    "mnist_test = MNIST(root=\"data\", train=False, download=True)"
   ]
  },
  {
   "cell_type": "code",
   "execution_count": 193,
   "id": "33bf7fa3",
   "metadata": {},
   "outputs": [
    {
     "name": "stdout",
     "output_type": "stream",
     "text": [
      "Numero di campioni di training:  60000\n",
      "Numero di campioni di testing:  10000\n"
     ]
    }
   ],
   "source": [
    "print(\"Numero di campioni di training: \", len(mnist_train))\n",
    "print(\"Numero di campioni di testing: \", len(mnist_test))"
   ]
  },
  {
   "cell_type": "code",
   "execution_count": 194,
   "id": "1c3990c7",
   "metadata": {},
   "outputs": [
    {
     "name": "stdout",
     "output_type": "stream",
     "text": [
      "(<PIL.Image.Image image mode=L size=28x28 at 0x34D830A30>, 5)\n",
      "(<PIL.Image.Image image mode=L size=28x28 at 0x34D830DC0>, 7)\n",
      "<class 'PIL.Image.Image'>\n",
      "<class 'int'>\n"
     ]
    }
   ],
   "source": [
    "print(mnist_train[0])\n",
    "print(mnist_test[0])\n",
    "\n",
    "print(type(mnist_train[0][0]))\n",
    "print(type(mnist_train[0][1]))\n",
    "\n",
    "# Il primo parametro è un immagine il secondo l'etichetta corrispondente"
   ]
  },
  {
   "cell_type": "code",
   "execution_count": 195,
   "id": "c7db2325",
   "metadata": {},
   "outputs": [
    {
     "data": {
      "image/png": "[encoded data removed]",
      "text/plain": [
       "<Figure size 640x480 with 1 Axes>"
      ]
     },
     "metadata": {},
     "output_type": "display_data"
    }
   ],
   "source": [
    "from matplotlib import pyplot as plt\n",
    "\n",
    "plt.imshow(mnist_train[0][0], cmap=\"gray\")\n",
    "plt.title(\"Classe: \" + str(mnist_train[0][1]))\n",
    "plt.show()"
   ]
  },
  {
   "cell_type": "code",
   "execution_count": 196,
   "id": "7461b84f",
   "metadata": {},
   "outputs": [
    {
     "data": {
      "text/plain": [
       "torch.Size([28, 28])"
      ]
     },
     "execution_count": 196,
     "metadata": {},
     "output_type": "execute_result"
    }
   ],
   "source": [
    "im = torch.from_numpy(np.array(mnist_train[0][0]))\n",
    "im.shape"
   ]
  },
  {
   "cell_type": "code",
   "execution_count": 197,
   "id": "d412c74f",
   "metadata": {},
   "outputs": [],
   "source": [
    "from torchvision import transforms\n",
    "\n",
    "mnist_train = MNIST(\n",
    "    root=\"data\", train=True, download=True, transform=transforms.ToTensor()\n",
    ")\n",
    "mnist_test = MNIST(\n",
    "    root=\"data\", train=False, download=True, transform=transforms.ToTensor()\n",
    ")"
   ]
  },
  {
   "cell_type": "code",
   "execution_count": 198,
   "id": "4104cfa2",
   "metadata": {},
   "outputs": [
    {
     "name": "stdout",
     "output_type": "stream",
     "text": [
      "<class 'torch.Tensor'>\n",
      "<class 'int'>\n"
     ]
    }
   ],
   "source": [
    "sample = mnist_train[0]\n",
    "print(type(sample[0]))\n",
    "print(type(sample[1]))"
   ]
  },
  {
   "cell_type": "code",
   "execution_count": 199,
   "id": "f9cd9a23",
   "metadata": {},
   "outputs": [
    {
     "name": "stdout",
     "output_type": "stream",
     "text": [
      "torch.Size([1, 28, 28])\n"
     ]
    }
   ],
   "source": [
    "print(mnist_train[0][0].shape)"
   ]
  },
  {
   "cell_type": "code",
   "execution_count": 200,
   "id": "86e12d18",
   "metadata": {},
   "outputs": [
    {
     "data": {
      "image/png": "[encoded data removed]",
      "text/plain": [
       "<Figure size 1200x550 with 10 Axes>"
      ]
     },
     "metadata": {},
     "output_type": "display_data"
    }
   ],
   "source": [
    "from matplotlib import pyplot as plt\n",
    "\n",
    "plt.figure(figsize=(12, 5.5))\n",
    "\n",
    "for i in range(10):\n",
    "    plt.subplot(2, 5, i + 1)\n",
    "    plt.title(\"Classe %d\" % mnist_train[i][1])\n",
    "    plt.imshow(mnist_train[i][0].squeeze().numpy(), cmap=\"gray\")"
   ]
  },
  {
   "cell_type": "code",
   "execution_count": 201,
   "id": "2c3dc3e2",
   "metadata": {},
   "outputs": [],
   "source": [
    "# Normalizziamo i dati in modo che abbiano media nulla e deviazione standard pari a 1\n",
    "\n",
    "m = 0\n",
    "\n",
    "for sample in mnist_train:\n",
    "    m += sample[0].sum()\n",
    "\n",
    "m = m / (len(mnist_train) * 28 * 28)\n",
    "\n",
    "s = 0\n",
    "\n",
    "for sample in mnist_train:\n",
    "    s += ((sample[0] - m) ** 2).sum()\n",
    "\n",
    "s = np.sqrt(s / (len(mnist_train) * 28 * 28))"
   ]
  },
  {
   "cell_type": "code",
   "execution_count": 202,
   "id": "e058c4a1",
   "metadata": {},
   "outputs": [
    {
     "name": "stdout",
     "output_type": "stream",
     "text": [
      "Mean: 0.1307\n",
      "Std: 0.3081\n"
     ]
    }
   ],
   "source": [
    "print(\"Mean: %0.4f\" % m)\n",
    "print(\"Std: %0.4f\" % s)"
   ]
  },
  {
   "cell_type": "code",
   "execution_count": 203,
   "id": "e4b5a9aa",
   "metadata": {},
   "outputs": [
    {
     "name": "stdout",
     "output_type": "stream",
     "text": [
      "Minimo: tensor(-0.4241)\n",
      "Massimo: tensor(2.8215)\n",
      "Media: tensor(-0.0134)\n",
      "Deviazione Standard: tensor(0.9860)\n"
     ]
    }
   ],
   "source": [
    "sample = (mnist_train[15][0] - m) / s\n",
    "print(\"Minimo:\", sample.min())\n",
    "print(\"Massimo:\", sample.max())\n",
    "print(\"Media:\", sample.mean())\n",
    "print(\"Deviazione Standard:\", sample.std())"
   ]
  },
  {
   "cell_type": "code",
   "execution_count": 204,
   "id": "332a777a",
   "metadata": {},
   "outputs": [],
   "source": [
    "# Possibile non farlo a mano nel seguente modo:\n",
    "transform = transforms.Compose(\n",
    "    [transforms.ToTensor(), transforms.Normalize((m,), (s,))]\n",
    ")\n",
    "mnist_train = MNIST(root=\"data\", train=True, download=True, transform=transform)\n",
    "mnist_test = MNIST(root=\"data\", train=False, download=True, transform=transform)"
   ]
  },
  {
   "cell_type": "code",
   "execution_count": 205,
   "id": "9ca8fb7e",
   "metadata": {},
   "outputs": [
    {
     "name": "stdout",
     "output_type": "stream",
     "text": [
      "Minimo: tensor(-0.4241)\n",
      "Massimo: tensor(2.8215)\n",
      "Media: tensor(-0.0134)\n",
      "Deviazione Standard: tensor(0.9860)\n"
     ]
    }
   ],
   "source": [
    "sample = mnist_train[15][0]\n",
    "print(\"Minimo:\", sample.min())\n",
    "print(\"Massimo:\", sample.max())\n",
    "print(\"Media:\", sample.mean())\n",
    "print(\"Deviazione Standard:\", sample.std())"
   ]
  },
  {
   "cell_type": "code",
   "execution_count": 206,
   "id": "6128fbc8",
   "metadata": {},
   "outputs": [
    {
     "name": "stdout",
     "output_type": "stream",
     "text": [
      "torch.Size([784])\n"
     ]
    }
   ],
   "source": [
    "sample = sample.view(-1)\n",
    "print(sample.shape)"
   ]
  },
  {
   "cell_type": "code",
   "execution_count": 207,
   "id": "c7563c06",
   "metadata": {},
   "outputs": [],
   "source": [
    "# Creiamo una funzione custom\n",
    "\n",
    "\n",
    "def custom_transf(x):\n",
    "    return x.view(-1)\n",
    "\n",
    "\n",
    "transform = transforms.Compose(\n",
    "    [\n",
    "        transforms.ToTensor(),\n",
    "        transforms.Normalize((m,), (s,)),\n",
    "        transforms.Lambda(custom_transf),\n",
    "    ]\n",
    ")\n",
    "mnist_train = MNIST(root=\"data\", train=True, download=True, transform=transform)\n",
    "mnist_test = MNIST(root=\"data\", train=False, download=True, transform=transform)"
   ]
  },
  {
   "cell_type": "code",
   "execution_count": 208,
   "id": "eeb968cd",
   "metadata": {},
   "outputs": [
    {
     "name": "stdout",
     "output_type": "stream",
     "text": [
      "torch.Size([784])\n",
      "5\n"
     ]
    }
   ],
   "source": [
    "print(mnist_train[0][0].shape)\n",
    "print(mnist_train[0][1])"
   ]
  },
  {
   "cell_type": "markdown",
   "id": "fabd4fe7",
   "metadata": {},
   "source": [
    "### 2.2 Data Loader\n",
    "\n",
    "Ogni campione ottenuto mediante l'oggetto dataset MNIST verrà automaticamente normalizzato e trasformato in un vettore. \n",
    "Per effettuare l'ottimizzazione mediante Stochastic Gradient Descent, dobbiamo suddividere i campioni in mini-batch. \n",
    "\n",
    "Inoltre, è importante fornire i campioni in ordine casuale, in quanto fornire consecutivamente elementi con caratteristiche simili \n",
    "(es. stessa classe) favorirebbe l'overfitting.\n",
    "\n",
    "PyTorch ci permette di gestire il \"batching\" in automatico e in maniera multithread mediante l'oggetto DataLoader. \n",
    "\n",
    "Utilizziamo un batch size di 256 immagini e due thread paralleli per velocizzare il caricamento dei dati:"
   ]
  },
  {
   "cell_type": "code",
   "execution_count": 209,
   "id": "5ec8bbbd",
   "metadata": {},
   "outputs": [],
   "source": [
    "from torch.utils.data import DataLoader\n",
    "mnist_train_loader = DataLoader(mnist_train, batch_size=256, num_workers=2, shuffle=True)\n",
    "# shuffle permette di accedere ai dati in maniera casuale\n",
    "mnist_test_loader = DataLoader(mnist_test,batch_size=256,num_workers=0)"
   ]
  },
  {
   "cell_type": "markdown",
   "id": "85b76ee9",
   "metadata": {},
   "source": [
    "# Domanda 6 \n",
    "Perché non viene eseguito lo \"shuffle\" sui dati di test?\n",
    "\n",
    "Lo *shuffle* non viene eseguito sui dati di test perché questi devono rappresentare fedelmente una distribuzione reale e non manipolata dei dati che il modello incontrerà in fase di produzione. \n",
    "\n",
    "Mescolare i dati di test potrebbe introdurre una distorsione che renderebbe meno affidabile la valutazione finale delle prestazioni del modello. Inoltre, mantenere l’ordine originale dei dati può essere importante in contesti temporali o sequenziali (come nelle serie temporali), dove l’ordine ha significato.\n",
    "\n",
    "In sintesi, **i dati di test devono rimanere inalterati per garantire una valutazione oggettiva, realistica e ripetibile del modello.**\n",
    "\n",
    "\n",
    "\n",
    "\n",
    "\n",
    "\n"
   ]
  },
  {
   "cell_type": "code",
   "execution_count": 210,
   "id": "18050990",
   "metadata": {},
   "outputs": [
    {
     "name": "stdout",
     "output_type": "stream",
     "text": [
      "torch.Size([256, 784])\n",
      "torch.Size([256])\n"
     ]
    }
   ],
   "source": [
    "for batch in mnist_test_loader:\n",
    "    break\n",
    "\n",
    "print(batch[0].shape)\n",
    "print(batch[1].shape)"
   ]
  },
  {
   "cell_type": "code",
   "execution_count": 211,
   "id": "5f8c6067",
   "metadata": {},
   "outputs": [
    {
     "name": "stdout",
     "output_type": "stream",
     "text": [
      "torch.Size([16, 784])\n",
      "torch.Size([16])\n"
     ]
    }
   ],
   "source": [
    "for batch in mnist_test_loader:\n",
    "    pass\n",
    "\n",
    "print(batch[0].shape)\n",
    "print(batch[1].shape)"
   ]
  },
  {
   "cell_type": "markdown",
   "id": "17904f69",
   "metadata": {},
   "source": [
    "# Salvataggio e caricamento dei modelli"
   ]
  },
  {
   "cell_type": "code",
   "execution_count": 212,
   "id": "47eeedae",
   "metadata": {},
   "outputs": [
    {
     "name": "stdout",
     "output_type": "stream",
     "text": [
      "odict_keys(['linear.weight', 'linear.bias'])\n"
     ]
    }
   ],
   "source": [
    "state_dict=model.state_dict()\n",
    "print(state_dict.keys())"
   ]
  },
  {
   "cell_type": "code",
   "execution_count": 213,
   "id": "c1dcf3a5",
   "metadata": {},
   "outputs": [],
   "source": [
    "import os\n",
    "os.makedirs(\"weights\",exist_ok=True)\n",
    "torch.save(model.state_dict(), 'weights/model.pth')"
   ]
  },
  {
   "cell_type": "code",
   "execution_count": 214,
   "id": "fe1218e0",
   "metadata": {},
   "outputs": [
    {
     "name": "stderr",
     "output_type": "stream",
     "text": [
      "/var/folders/63/50zf744n74q80dznlsp0d0x40000gn/T/ipykernel_29809/3385518273.py:2: FutureWarning: You are using `torch.load` with `weights_only=False` (the current default value), which uses the default pickle module implicitly. It is possible to construct malicious pickle data which will execute arbitrary code during unpickling (See https://github.com/pytorch/pytorch/blob/main/SECURITY.md#untrusted-models for more details). In a future release, the default value for `weights_only` will be flipped to `True`. This limits the functions that could be executed during unpickling. Arbitrary objects will no longer be allowed to be loaded via this mode unless they are explicitly allowlisted by the user via `torch.serialization.add_safe_globals`. We recommend you start setting `weights_only=True` for any use case where you don't have full control of the loaded file. Please open an issue on GitHub for any issues related to this experimental feature.\n",
      "  model.load_state_dict(torch.load('weights/model.pth'))\n"
     ]
    },
    {
     "data": {
      "text/plain": [
       "<All keys matched successfully>"
      ]
     },
     "execution_count": 214,
     "metadata": {},
     "output_type": "execute_result"
    }
   ],
   "source": [
    "model = SoftMaxRegressor(4,3)\n",
    "model.load_state_dict(torch.load('weights/model.pth'))"
   ]
  },
  {
   "cell_type": "markdown",
   "id": "4cb7e635",
   "metadata": {},
   "source": [
    "# Allenamento su GPU"
   ]
  },
  {
   "cell_type": "code",
   "execution_count": 215,
   "id": "d0bf5a4c",
   "metadata": {},
   "outputs": [
    {
     "data": {
      "text/plain": [
       "False"
      ]
     },
     "execution_count": 215,
     "metadata": {},
     "output_type": "execute_result"
    }
   ],
   "source": [
    "torch.cuda.is_available()"
   ]
  },
  {
   "cell_type": "code",
   "execution_count": 216,
   "id": "8aa6bc51",
   "metadata": {},
   "outputs": [
    {
     "name": "stdout",
     "output_type": "stream",
     "text": [
      "Using device: mps\n"
     ]
    }
   ],
   "source": [
    "import torch\n",
    "\n",
    "if torch.backends.mps.is_available():\n",
    "    device = \"mps\"  # Apple GPU via Metal\n",
    "elif torch.cuda.is_available():\n",
    "    device = \"cuda\"  # NVIDIA GPU (non disponibile su Mac)\n",
    "else:\n",
    "    device = \"cpu\"   # Fallback\n",
    "\n",
    "print(f\"Using device: {device}\")\n"
   ]
  },
  {
   "cell_type": "code",
   "execution_count": 217,
   "id": "a9567cbb",
   "metadata": {},
   "outputs": [],
   "source": [
    "device = \"mps\" if torch.backends.mps.is_available() else \"cpu\""
   ]
  },
  {
   "cell_type": "code",
   "execution_count": 218,
   "id": "debbe0ad",
   "metadata": {},
   "outputs": [
    {
     "data": {
      "text/plain": [
       "SoftMaxRegressor(\n",
       "  (linear): Linear(in_features=4, out_features=3, bias=True)\n",
       ")"
      ]
     },
     "execution_count": 218,
     "metadata": {},
     "output_type": "execute_result"
    }
   ],
   "source": [
    "model.to(device)"
   ]
  },
  {
   "cell_type": "code",
   "execution_count": 219,
   "id": "63c64677",
   "metadata": {},
   "outputs": [
    {
     "data": {
      "text/plain": [
       "tensor([[-0.8943, -1.2295, -0.4128, -0.1262],\n",
       "        [ 0.4487, -0.5708,  0.6062,  0.7799],\n",
       "        [-1.0163,  0.9660, -1.3753, -1.1617],\n",
       "        [ 0.5707, -0.5708,  0.7761,  0.3915],\n",
       "        [ 1.0591, -0.1317,  0.7195,  0.6504],\n",
       "        [-1.2605,  0.7465, -1.0356, -1.2911],\n",
       "        [-1.7488, -0.3513, -1.3187, -1.2911],\n",
       "        [-0.5280,  0.7465, -1.1488, -1.2911],\n",
       "        [-1.5047,  1.1856, -1.5451, -1.2911],\n",
       "        [-1.0163, -1.6686, -0.2430, -0.2556],\n",
       "        [-0.4059,  0.9660, -1.3753, -1.2911],\n",
       "        [ 0.4487, -1.8881,  0.4364,  0.3915],\n",
       "        [-0.7722,  2.2833, -1.2620, -1.4206],\n",
       "        [ 1.3032,  0.0878,  0.7761,  1.4270],\n",
       "        [ 1.6695,  0.3074,  1.2856,  0.7799],\n",
       "        [-1.1384,  0.0878, -1.2620, -1.4206],\n",
       "        [-0.0397, -0.5708,  0.7761,  1.5565],\n",
       "        [ 1.0591, -0.1317,  0.8327,  1.4270],\n",
       "        [ 2.2799, -0.1317,  1.3422,  1.4270],\n",
       "        [ 1.0591,  0.0878,  1.0592,  1.5565],\n",
       "        [-1.1384, -0.1317, -1.3187, -1.2911],\n",
       "        [ 0.8149, -0.1317,  0.8327,  1.0387],\n",
       "        [ 2.1578, -0.1317,  1.6253,  1.1682],\n",
       "        [ 0.4487, -0.3513,  0.3232,  0.1327],\n",
       "        [-1.1384, -1.4490, -0.2430, -0.2556],\n",
       "        [-0.2838, -0.3513, -0.0731,  0.1327],\n",
       "        [-0.2838, -0.1317,  0.4364,  0.3915],\n",
       "        [ 1.3032,  0.0878,  0.6629,  0.3915],\n",
       "        [ 0.9370, -0.3513,  0.4930,  0.1327],\n",
       "        [-0.8943,  0.9660, -1.3187, -1.1617],\n",
       "        [-0.8943,  0.7465, -1.2620, -1.2911],\n",
       "        [ 1.9136, -0.5708,  1.3422,  0.9093],\n",
       "        [-0.1618, -1.2295,  0.7195,  1.0387],\n",
       "        [ 0.8149,  0.3074,  0.7761,  1.0387],\n",
       "        [-0.8943,  1.4051, -1.2620, -1.0323],\n",
       "        [-0.4059,  2.5029, -1.3187, -1.2911],\n",
       "        [-0.8943,  0.9660, -1.3187, -1.2911],\n",
       "        [ 0.5707, -1.2295,  0.7195,  0.9093],\n",
       "        [ 0.2045, -1.8881,  0.1533, -0.2556],\n",
       "        [ 0.3266, -1.0099,  1.0592,  0.2621],\n",
       "        [ 1.0591,  0.5269,  1.1158,  1.6859],\n",
       "        [-0.1618, -0.5708,  0.4364,  0.1327],\n",
       "        [-1.0163,  1.1856, -1.3187, -1.2911],\n",
       "        [ 0.6928, -0.7904,  0.8893,  0.9093],\n",
       "        [-0.5280,  1.4051, -1.2620, -1.2911],\n",
       "        [ 2.5241,  1.6247,  1.5121,  1.0387],\n",
       "        [-0.1618,  2.9420, -1.2620, -1.0323],\n",
       "        [ 0.2045, -0.3513,  0.4364,  0.3915],\n",
       "        [-0.2838, -0.1317,  0.2099,  0.1327],\n",
       "        [-0.5280,  1.8442, -1.1488, -1.0323],\n",
       "        [-0.0397, -0.7904,  0.2099, -0.2556],\n",
       "        [-1.0163,  0.7465, -1.2620, -1.2911],\n",
       "        [ 0.4487,  0.7465,  0.9459,  1.4270],\n",
       "        [ 0.6928, -0.5708,  1.0592,  1.2976],\n",
       "        [ 0.2045, -0.1317,  0.6062,  0.7799],\n",
       "        [ 0.2045,  0.7465,  0.4364,  0.5210],\n",
       "        [-0.1618,  1.6247, -1.1488, -1.1617],\n",
       "        [-1.0163,  0.5269, -1.3187, -1.2911],\n",
       "        [ 0.0824, -0.1317,  0.7761,  0.7799],\n",
       "        [ 0.2045, -0.7904,  0.7761,  0.5210],\n",
       "        [-0.4059, -1.0099,  0.3798,  0.0032],\n",
       "        [-0.8943,  1.6247, -1.0356, -1.0323],\n",
       "        [ 1.0591,  0.0878,  0.5496,  0.3915],\n",
       "        [ 0.8149, -0.1317,  1.1724,  1.2976],\n",
       "        [ 0.0824,  0.3074,  0.6062,  0.7799],\n",
       "        [ 0.5707,  0.5269,  0.5496,  0.5210],\n",
       "        [ 0.5707, -1.2295,  0.6629,  0.3915],\n",
       "        [-1.6268, -1.6686, -1.3753, -1.1617],\n",
       "        [-0.5280,  1.8442, -1.3753, -1.0323],\n",
       "        [-1.2605, -0.1317, -1.3187, -1.1617],\n",
       "        [-0.5280, -0.1317,  0.4364,  0.3915],\n",
       "        [-0.4059, -1.2295,  0.1533,  0.1327],\n",
       "        [-0.5280,  0.7465, -1.2620, -1.0323],\n",
       "        [-0.0397, -0.7904,  0.7761,  0.9093],\n",
       "        [-0.1618, -0.1317,  0.2666,  0.0032],\n",
       "        [ 0.6928,  0.0878,  1.0026,  0.7799],\n",
       "        [-0.0397, -0.7904,  0.7761,  0.9093],\n",
       "        [-0.1618, -0.3513,  0.2666,  0.1327],\n",
       "        [-1.8709, -0.1317, -1.4885, -1.4206],\n",
       "        [ 0.5707, -1.6686,  0.3798,  0.1327],\n",
       "        [ 0.2045, -1.8881,  0.7195,  0.3915],\n",
       "        [-0.7722,  0.7465, -1.3187, -1.2911],\n",
       "        [-0.8943,  1.6247, -1.2054, -1.2911],\n",
       "        [ 1.3032,  0.0878,  0.9459,  1.1682],\n",
       "        [-1.1384, -1.2295,  0.4364,  0.6504],\n",
       "        [-1.0163, -2.3272, -0.1297, -0.2556],\n",
       "        [ 0.3266, -0.5708,  0.1533,  0.1327],\n",
       "        [-0.2838, -0.5708,  0.6629,  1.0387],\n",
       "        [-0.0397,  2.0638, -1.4319, -1.2911],\n",
       "        [-0.4059, -1.4490, -0.0165, -0.2556],\n",
       "        [ 1.7916, -0.3513,  1.4555,  0.7799],\n",
       "        [ 0.6928,  0.3074,  0.8893,  1.4270],\n",
       "        [ 1.6695, -0.1317,  1.1724,  0.5210],\n",
       "        [ 1.0591,  0.0878,  0.3798,  0.2621],\n",
       "        [-1.2605, -0.1317, -1.3187, -1.4206],\n",
       "        [-0.8943,  1.6247, -1.2620, -1.1617],\n",
       "        [-1.3826,  0.3074, -1.3753, -1.2911],\n",
       "        [-1.5047,  0.0878, -1.2620, -1.2911],\n",
       "        [ 0.5707,  0.7465,  1.0592,  1.5565],\n",
       "        [ 0.9370, -0.1317,  0.3798,  0.2621],\n",
       "        [ 0.6928, -0.5708,  1.0592,  1.1682],\n",
       "        [-1.1384,  0.0878, -1.2620, -1.2911],\n",
       "        [-1.1384,  1.1856, -1.3187, -1.4206],\n",
       "        [ 1.1812, -0.5708,  0.6062,  0.2621],\n",
       "        [ 1.4253,  0.3074,  0.5496,  0.2621],\n",
       "        [ 0.3266, -0.1317,  0.6629,  0.7799],\n",
       "        [-0.4059, -1.4490,  0.0401, -0.1262],\n",
       "        [-0.2838, -1.2295,  0.0967, -0.1262],\n",
       "        [ 1.1812, -0.1317,  1.0026,  1.1682],\n",
       "        [ 1.3032,  0.3074,  1.1158,  1.4270],\n",
       "        [ 2.2799, -1.0099,  1.7952,  1.4270],\n",
       "        [-1.0163,  0.7465, -1.2054, -1.0323],\n",
       "        [ 1.0591,  0.5269,  1.1158,  1.1682],\n",
       "        [-1.2605,  0.0878, -1.2054, -1.2911],\n",
       "        [-0.8943,  0.5269, -1.1488, -0.9028],\n",
       "        [ 1.1812,  0.3074,  1.2290,  1.4270],\n",
       "        [ 0.8149, -0.1317,  1.0026,  0.7799],\n",
       "        [-0.4059, -1.6686,  0.1533,  0.1327],\n",
       "        [-1.7488, -0.1317, -1.3753, -1.2911],\n",
       "        [-1.5047,  0.3074, -1.3187, -1.2911]], device='mps:0')"
      ]
     },
     "execution_count": 219,
     "metadata": {},
     "output_type": "execute_result"
    }
   ],
   "source": [
    "X_training_norm.to(device)"
   ]
  },
  {
   "cell_type": "markdown",
   "id": "b8f216be",
   "metadata": {},
   "source": [
    "# 2.5 Log di loss e accuracy e SGD\n",
    "\n",
    "Quando si effettua un allenamento mediante stochastic gradient descent, risulta un po' meno immediato effettuare il log di loss e accuracy. In genere, abbiamo conservato i valori di loss e accuracy calcolati su training set e test set alla fine di ogni epoca. Tuttavia, noi calcoleremo esplicitamente loss e accuracy sui singoli batch.\n",
    "\n",
    "Per ottenere delle stime valide per ogni epoca, accumuleremo i valori di loss e accuracy batch per batch e calcoleremo la media di questi valori pesata sulla base del numero di elementi contenuti in quel batch.  \n",
    "Supponiamo di avere 3 batch nel dataset, la loss totale va calcolata come segue:\n",
    "\n",
    "$$\n",
    "L = \\frac{l_0 \\cdot n_0 + l_1 \\cdot n_1 + l_2 \\cdot n_2}{n_0 + n_1 + n_2} \\tag{13}\n",
    "$$\n",
    "\n",
    "dove $ l_i $ è la loss calcolata al batch i-esimo e $ n_i $ è il numero di elementi contenuti nel batch i-esimo.  \n",
    "È inoltre possibile calcolare la loss \"parziale\" ad un batch diverso dal batch finale come segue:\n",
    "\n",
    "$$\n",
    "L_1 = \\frac{l_0 \\cdot n_0 + l_1 \\cdot n_1}{n_0 + n_1} \\tag{14}\n",
    "$$\n",
    "\n",
    "dove $ L_1 $ è la loss parziale calcolata fino al batch 1. Questi calcoli possono essere automatizzati mediante un oggetto chiamato Meter. Scriviamone uno molto semplice:"
   ]
  },
  {
   "cell_type": "code",
   "execution_count": 220,
   "id": "9c7f26ab",
   "metadata": {},
   "outputs": [],
   "source": [
    "class AverageValueMeter():\n",
    "    def __init__(self):\n",
    "        self.reset()\n",
    "        \n",
    "    def reset(self):\n",
    "        self.num=0\n",
    "        self.sum=0\n",
    "        \n",
    "        \n",
    "    def add(self,value,num):\n",
    "        self.sum += value * num\n",
    "        self.num +=num\n",
    "        \n",
    "    def value(self):\n",
    "        try:\n",
    "            return self.sum/self.num\n",
    "        \n",
    "        except:\n",
    "            return None"
   ]
  },
  {
   "cell_type": "code",
   "execution_count": 221,
   "id": "76b89f9d",
   "metadata": {},
   "outputs": [
    {
     "name": "stdout",
     "output_type": "stream",
     "text": [
      "Media pesata calcolata manualmente: 4.3\n",
      "Media pesata calcolata mediante meter: 4.3\n"
     ]
    }
   ],
   "source": [
    "meter = AverageValueMeter()\n",
    "\n",
    "meter.add(10,3) #inseriamo il valore 10 , calcolato da un batch di 3 elementi\n",
    "meter.add(3,5) #inseriamo il valore 3 , calcolato da un batch di 5 elementi\n",
    "meter.add(-1,2) #inseriamo il valore -1 , calcolato da un batch di 2 elementi\n",
    "\n",
    "\n",
    "#media pesata calcolata manualmente:\n",
    "print('Media pesata calcolata manualmente:' , (10*3+3*5-1*2)/(3+5+2))\n",
    "print('Media pesata calcolata mediante meter:' ,meter.value())"
   ]
  },
  {
   "cell_type": "code",
   "execution_count": 222,
   "id": "d04995cb",
   "metadata": {},
   "outputs": [
    {
     "name": "stdout",
     "output_type": "stream",
     "text": [
      "None\n"
     ]
    }
   ],
   "source": [
    "meter.reset()\n",
    "print(meter.value())"
   ]
  },
  {
   "cell_type": "markdown",
   "id": "f807ead4",
   "metadata": {},
   "source": [
    "# 2.5 Allenamento mediante SGD"
   ]
  },
  {
   "cell_type": "code",
   "execution_count": 223,
   "id": "46ae7530",
   "metadata": {},
   "outputs": [],
   "source": [
    "from os.path import join\n",
    "\n",
    "def train_classifier(model, train_loader, test_loader, exp_name=\"experiment\", lr=0.001, epochs=10, momentum=0.9, logdir=\"logs\"):\n",
    "    criterion = nn.CrossEntropyLoss()\n",
    "    optimizer = SGD(model.parameters(), lr, momentum=momentum)\n",
    "    \n",
    "    # meters\n",
    "    loss_meter = AverageValueMeter()\n",
    "    acc_meter = AverageValueMeter()\n",
    "\n",
    "    # writer\n",
    "    writer = SummaryWriter(join(logdir, exp_name))\n",
    "\n",
    "    # device\n",
    "    device = \"mps\" if torch.backends.mps.is_available() else \"cpu\"\n",
    "    model.to(device)\n",
    "\n",
    "    # definiamo un dizionario contenente i loader di training e test\n",
    "    loader = {\"train\": train_loader, \"test\": test_loader}\n",
    "\n",
    "    # inizializziamo il global step\n",
    "    global_step = 0\n",
    "\n",
    "    for e in range(epochs):\n",
    "        print(f\"Epoch {e+1} of {epochs}\")\n",
    "        # iteriamo tra due modalità: train e test\n",
    "        for mode in [\"train\", \"test\"]:\n",
    "            loss_meter.reset()\n",
    "            acc_meter.reset()\n",
    "\n",
    "            model.train() if mode == \"train\" else model.eval()\n",
    "\n",
    "            # abilitiamo i gradienti solo in training\n",
    "            with torch.set_grad_enabled(mode == \"train\"):\n",
    "                for i, batch in enumerate(loader[mode]):\n",
    "                    x = batch[0].to(device)  # \"portiamoli sul device corretto\"\n",
    "                    y = batch[1].to(device)\n",
    "\n",
    "                    output = model(x)\n",
    "\n",
    "                    # aggiorniamo il global_step\n",
    "                    # contiene il numero di campioni visti durante il training\n",
    "                    n = x.shape[0]  # numero di elementi nel batch\n",
    "                    global_step += n\n",
    "                    l = criterion(output, y)\n",
    "\n",
    "                    if mode == \"train\":\n",
    "                        l.backward()\n",
    "                        optimizer.step()\n",
    "                        optimizer.zero_grad()\n",
    "\n",
    "                    acc = accuracy_score(y.to(\"cpu\"), output.to(\"cpu\").max(1)[1])\n",
    "                    loss_meter.add(l.item(), n)\n",
    "                    acc_meter.add(acc, n)\n",
    "\n",
    "            # logghiamo i risultati iterazione per iterazione solo durante il training\n",
    "            if mode == \"train\":\n",
    "                writer.add_scalar(\"loss/train\", loss_meter.value(), global_step=global_step)\n",
    "                writer.add_scalar(\"accuracy/train\", acc_meter.value(), global_step=global_step)\n",
    "\n",
    "            # una volta finita l'epoca (sia nel caso di training che test),\n",
    "            # logghiamo le stime finali\n",
    "            writer.add_scalar(\"loss/\" + mode, loss_meter.value(), global_step=global_step)\n",
    "            writer.add_scalar(\"accuracy/\" + mode, acc_meter.value(), global_step=global_step)\n",
    "\n",
    "        # conserviamo i pesi del modello alla fine di un ciclo di training e test\n",
    "        torch.save(model.state_dict(), \"weights/%s-%d.pth\" % (exp_name, e + 1))\n",
    "\n",
    "    return model"
   ]
  },
  {
   "cell_type": "code",
   "execution_count": 224,
   "id": "2870568c",
   "metadata": {},
   "outputs": [
    {
     "name": "stdout",
     "output_type": "stream",
     "text": [
      "Epoch 1 of 10\n",
      "Epoch 2 of 10\n",
      "Epoch 3 of 10\n",
      "Epoch 4 of 10\n",
      "Epoch 5 of 10\n",
      "Epoch 6 of 10\n",
      "Epoch 7 of 10\n",
      "Epoch 8 of 10\n",
      "Epoch 9 of 10\n",
      "Epoch 10 of 10\n"
     ]
    }
   ],
   "source": [
    "lr = 0.01\n",
    "epochs = 10 \n",
    "momentum = 0.9\n",
    "\n",
    "transform = transforms.Compose([transforms.ToTensor(), \n",
    "                                transforms.Normalize((m,), (s,)), \n",
    "                                transforms.Lambda(custom_transf)])\n",
    "mnist_train = MNIST(root=\"data\", train=True, download=True, transform=transform)\n",
    "mnist_test = MNIST(root=\"data\", train=False, download=True, transform=transform)\n",
    "\n",
    "mnist_train_loader = DataLoader(mnist_train, batch_size=256, num_workers=0, shuffle=True)\n",
    "\n",
    "mnist_test_loader = DataLoader(mnist_test,batch_size=256,num_workers=0)\n",
    "\n",
    "model = SoftMaxRegressor(784,10)\n",
    "\n",
    "model= train_classifier(model,mnist_train_loader,mnist_test_loader,'SGD-softmax-regressor',lr=lr,epochs=epochs,momentum=momentum)"
   ]
  },
  {
   "cell_type": "markdown",
   "id": "498a823e",
   "metadata": {},
   "source": [
    "# Domanda 7\n",
    "\n",
    "Guardando i grafici ottenuti, sembra possibile migliorare l'accuracy di test allenando il modello per un numero maggiore di epoche? Perché?"
   ]
  },
  {
   "cell_type": "code",
   "execution_count": 225,
   "id": "105d0a66",
   "metadata": {},
   "outputs": [],
   "source": [
    "def test_classifier(model, loader):\n",
    "    device = \"mps\" if torch.backends.mps.is_available() else \"cpu\"\n",
    "    model.to(device)\n",
    "    predictions,labels = [],[]\n",
    "    for batch in loader:\n",
    "        x = batch[0].to(device)\n",
    "        y = batch[1].to(device)\n",
    "        output = model(x)\n",
    "        preds = output.to('cpu').max(1)[1].numpy()\n",
    "        labs = y.to('cpu').numpy()\n",
    "        predictions.extend(list(preds))\n",
    "        labels.extend(list(labs))\n",
    "    return np.array(predictions),np.array(labels)"
   ]
  },
  {
   "cell_type": "code",
   "execution_count": 226,
   "id": "502da961",
   "metadata": {},
   "outputs": [
    {
     "name": "stdout",
     "output_type": "stream",
     "text": [
      "Accuracy di training: 0.9277\n",
      "Accuracy di test: 0.9225\n"
     ]
    }
   ],
   "source": [
    "predictions_train, labels_train = test_classifier(model,mnist_train_loader)\n",
    "predictions_test, labels_test = test_classifier(model,mnist_test_loader)\n",
    "print(\"Accuracy di training: %0.4f\"% accuracy_score(labels_train,predictions_train))\n",
    "print(\"Accuracy di test: %0.4f\"% accuracy_score(labels_test,predictions_test))"
   ]
  },
  {
   "cell_type": "markdown",
   "id": "fd099596",
   "metadata": {},
   "source": [
    "# Multilayer Perceptron (MLP)"
   ]
  },
  {
   "cell_type": "markdown",
   "id": "5630dc4c",
   "metadata": {},
   "source": [
    "Finora abbiamo considerato modelli lineari semplici per la classificazione e la regressione. Tali modelli possono essere estesi in maniera relativamente semplice a modelli più \"profondi\", come il Multilayer Perceptron (MLP), utilizzando PyTorch.\n",
    "\n",
    "Un MLP è composto da tre livelli principali:\n",
    "\n",
    "1. Input Layer (Livello di ingresso): dove vengono presentati i dati in ingresso.\n",
    "\n",
    "\n",
    "2. Hidden Layer (Livello nascosto): contiene rappresentazioni \"latenti\" dei dati.\n",
    "\n",
    "\n",
    "3. Output Layer (Livello di uscita): fornisce l'output finale (le etichette predette o i valori da regredire).\n",
    "\n",
    "\n",
    "\n",
    "Il livello nascosto è detto tale perché, durante il training, non viene esercitato un controllo diretto sui suoi valori: la funzione di perdita (loss) è applicata solo al livello di output. Per questo motivo, si dice che il livello nascosto apprende una rappresentazione latente.\n",
    "\n",
    "Tra questi tre livelli, solo il livello nascosto e il livello di output contengono parametri che possono essere appresi durante l’allenamento. Per questo motivo, spesso si dice che un MLP ha effettivamente due layer (quelli con parametri ottimizzabili).\n",
    "\n",
    "Tipi di output:\n",
    "\n",
    "Regressione: l'ultimo livello contiene i valori da regredire.\n",
    "\n",
    "Classificazione (Softmax Regressor): l'ultimo livello contiene un numero di nodi pari al numero di classi. I valori prodotti (logit) possono essere trasformati in probabilità tramite una funzione softmax.\n",
    "\n",
    "\n",
    "Concetti chiave:\n",
    "\n",
    "Learned representation: rappresentazione appresa nel livello nascosto.\n",
    "\n",
    "Activation function: funzione non lineare (es. ReLU, Sigmoid) applicata tra i layer per introdurre non-linearità nel modello.\n"
   ]
  },
  {
   "cell_type": "markdown",
   "id": "eaafed8a",
   "metadata": {},
   "source": [
    "# 3.1 Fashion-MNIST\n",
    "Vedremo degli esempi di classificatori MLP su un'altro dataset simile a MNIST in dimensioni ma più complesso in termini di contenuto visuale: Fashion-MNIST.\n",
    "\n",
    "Fashion-MNIST è un dataset introdotto da Zalando nel 2017. Il dataset è progettato per essere compatto in maniera simile a MNIST-DIGITS, in modo da poter essere utilizzato in maniera agevole per effettuare esperimenti veloci (utili quando si vuole appurare la bontà di un'idea). Allo stesso tempo, il problema di classificazione proposto con il dataset è molto più complesso di quello relativo a MNIST-DIGITS. In maniera del tutto simile a MNIST-DIGITS, il dataset contiene 60, 000 immagini di training e 10, 000 immagini di testing grandi 28 X 28 pixels. Le immagini sono suddivise in 10 classi relative al mondo della\n",
    "\n",
    "moda, come riassunto di seguito."
   ]
  },
  {
   "cell_type": "code",
   "execution_count": 227,
   "id": "c999273a",
   "metadata": {},
   "outputs": [
    {
     "data": {
      "image/png": "[encoded data removed]",
      "text/plain": [
       "<Figure size 1400x500 with 14 Axes>"
      ]
     },
     "metadata": {},
     "output_type": "display_data"
    }
   ],
   "source": [
    "from torchvision.datasets import FashionMNIST\n",
    "from matplotlib import pyplot as plt\n",
    "from torchvision import transforms\n",
    "\n",
    "fashion_train = FashionMNIST(root='fashion',train=True , download=True , transform=transforms.ToTensor())\n",
    "fashion_test = FashionMNIST(root='fashion',train=False , download=True , transform=transforms.ToTensor())\n",
    "\n",
    "\n",
    "\n",
    "plt.figure(figsize=(14,5))\n",
    "for i in range (14):\n",
    "    plt.subplot(2,7,i+1)\n",
    "    plt.title(\"Class %d\" % fashion_train[i][1])\n",
    "    plt.imshow(fashion_train[i][0].squeeze().numpy(),cmap=\"gray\")\n",
    "    \n",
    "plt.show()"
   ]
  },
  {
   "cell_type": "markdown",
   "id": "0986bd96",
   "metadata": {},
   "source": [
    "# Domanda 8\n",
    "\n",
    "Cosa rende MNIST-Fashion più \"complesso\" di MNIST-DIGITS ? Fare un esempio considerando qualcuno dei campioni visualizzati."
   ]
  },
  {
   "cell_type": "code",
   "execution_count": 228,
   "id": "4fb6559d",
   "metadata": {},
   "outputs": [],
   "source": [
    "transform = transforms.Compose([transforms.ToTensor(),   #conversione in tensore \n",
    "                               transforms.Normalize((0.2860,),(0.3530,)),\n",
    "                               transforms.Lambda(custom_transf)\n",
    "                                ])\n",
    "\n",
    "\n",
    "#Ridefiniamo i dataset specificando le trasformazioni\n",
    "fashion_train = FashionMNIST(root='data',train=True , download=True , transform=transform)\n",
    "fashion_test = FashionMNIST(root='data',train=False , download=True , transform=transform)\n",
    "\n",
    "\n",
    "#definiamo i dataLoaders\n",
    "fashion_train_loader = DataLoader(fashion_train,batch_size=256,num_workers=0,shuffle=True)\n",
    "#shuffle permette di accedere ai dati in maniera casuale\n",
    "fashion_test_loader = DataLoader(fashion_test,batch_size=256,num_workers=0)"
   ]
  },
  {
   "cell_type": "markdown",
   "id": "a401304d",
   "metadata": {},
   "source": [
    "Esploriamo il dataset allenando un regressore SoftMax con il codice di training scritto in precedenza :"
   ]
  },
  {
   "cell_type": "code",
   "execution_count": 229,
   "id": "f5bc8e18",
   "metadata": {},
   "outputs": [
    {
     "name": "stdout",
     "output_type": "stream",
     "text": [
      "Epoch 1 of 10\n",
      "Epoch 2 of 10\n",
      "Epoch 3 of 10\n",
      "Epoch 4 of 10\n",
      "Epoch 5 of 10\n",
      "Epoch 6 of 10\n",
      "Epoch 7 of 10\n",
      "Epoch 8 of 10\n",
      "Epoch 9 of 10\n",
      "Epoch 10 of 10\n"
     ]
    }
   ],
   "source": [
    "fashion_softmax_regressor = SoftMaxRegressor(784,10)\n",
    "fashion_softmax_regressor = train_classifier(fashion_softmax_regressor,fashion_train_loader,fashion_test_loader,'fashion_softmax_regressor',lr=0.01 , epochs=10)\n"
   ]
  },
  {
   "cell_type": "code",
   "execution_count": 230,
   "id": "d16d8603",
   "metadata": {},
   "outputs": [
    {
     "name": "stdout",
     "output_type": "stream",
     "text": [
      "Fashion Softmax Regressor - Accuracy di Training: 0.8637\n",
      "Fashion Softmax Regressor - Accuracy di Test: 0.8402\n"
     ]
    }
   ],
   "source": [
    "predictions_train_fashion_softmax_regressor, labels_train_fashion = test_classifier(fashion_softmax_regressor, fashion_train_loader)\n",
    "predictions_test_fashion_softmax_regressor, labels_test_fashion = test_classifier(fashion_softmax_regressor, fashion_test_loader)\n",
    "\n",
    "print(\"Fashion Softmax Regressor - Accuracy di Training: %0.4f\"%accuracy_score(labels_train_fashion,predictions_train_fashion_softmax_regressor))\n",
    "print(\"Fashion Softmax Regressor - Accuracy di Test: %0.4f\"%accuracy_score(labels_test_fashion,predictions_test_fashion_softmax_regressor))\n"
   ]
  },
  {
   "cell_type": "markdown",
   "id": "91ee85fa",
   "metadata": {},
   "source": [
    "# 3.1 Classificatore MLP"
   ]
  },
  {
   "cell_type": "code",
   "execution_count": 231,
   "id": "f24c03bb",
   "metadata": {},
   "outputs": [],
   "source": [
    "class MLPClassifier(nn.Module):\n",
    "    def __init__(self,in_features,hidden_units,out_classes):\n",
    "        super(MLPClassifier,self).__init__()\n",
    "        self.hidden_layer = nn.Linear(in_features,hidden_units)\n",
    "        self.activation=nn.ReLU()\n",
    "        self.output_layer = nn.Linear(hidden_units,out_classes)\n",
    "        \n",
    "    def forward(self,x):\n",
    "        hidden_representation = self.hidden_layer(x)\n",
    "        hidden_representation = self.activation(hidden_representation)\n",
    "        scores = self.output_layer(hidden_representation)\n",
    "        return scores"
   ]
  },
  {
   "cell_type": "code",
   "execution_count": 232,
   "id": "63b2ac38",
   "metadata": {},
   "outputs": [
    {
     "name": "stdout",
     "output_type": "stream",
     "text": [
      "Epoch 1 of 10\n",
      "Epoch 2 of 10\n",
      "Epoch 3 of 10\n",
      "Epoch 4 of 10\n",
      "Epoch 5 of 10\n",
      "Epoch 6 of 10\n",
      "Epoch 7 of 10\n",
      "Epoch 8 of 10\n",
      "Epoch 9 of 10\n",
      "Epoch 10 of 10\n"
     ]
    }
   ],
   "source": [
    "fashion_mlp_classifier = MLPClassifier(784,512,10)\n",
    "fashion_mlp_classifier = train_classifier(fashion_mlp_classifier,fashion_train_loader, fashion_test_loader, 'fashion_mlp_classifier', lr=0.01, epochs=10)\n"
   ]
  },
  {
   "cell_type": "code",
   "execution_count": 233,
   "id": "42ccf735",
   "metadata": {},
   "outputs": [
    {
     "name": "stdout",
     "output_type": "stream",
     "text": [
      "Fashion MLP Classifier - Accuracy di Training 0.9082\n",
      "Fashion MLP Classifier - Accuracy di Test 0.8777\n"
     ]
    }
   ],
   "source": [
    "predictions_train_fashion_mlp_classifier, labels_train = test_classifier(\n",
    "    fashion_mlp_classifier, fashion_train_loader\n",
    ")\n",
    "predictions_test_fashion_mlp_classifier, labels_test = test_classifier(\n",
    "    fashion_mlp_classifier, fashion_test_loader\n",
    ")\n",
    "print(\"Fashion MLP Classifier - Accuracy di Training %0.4f\" %accuracy_score(labels_train, predictions_train_fashion_mlp_classifier))\n",
    "print(\"Fashion MLP Classifier - Accuracy di Test %0.4f\"%accuracy_score(labels_test, predictions_test_fashion_mlp_classifier))"
   ]
  },
  {
   "cell_type": "markdown",
   "id": "777866bf",
   "metadata": {},
   "source": [
    "# 3.2 Classificatore MLP \"Profondo\" (Deep MLP)"
   ]
  },
  {
   "cell_type": "markdown",
   "id": "b367bea9",
   "metadata": {},
   "source": [
    "È possibile costruire un classificatore MLP con un numero arbitrario di livelli. In genere, quando il MLP ha più di 3 livelli, esso viene detto \"profondo\" (deep). Ad esempio un MLP con due livelli nascosti (4 livelli in tutto) può essere rappresentato come segue:\n",
    "\n",
    "![MLP Profondo](MLP_Profondo.jpg)\n",
    "\n",
    "- activation functions\n",
    "- learned hierarchical representations\n",
    "\n",
    "Si noti che ad ogni livello nascosto segue la funzione di attivazione.\n",
    "\n",
    "---\n",
    "\n",
    "# Domanda 12  \n",
    "Perché è necessario inserire le funzioni di attivazione dopo ciascun livello nascosto? Potremmo farne a meno?\n",
    "\n",
    "Implementiamo il classificatore MLP profondo. Dato che in un MLP l'output di un livello è sempre l'input del livello successivo, possiamo implementare in maniera compatta il modello utilizzando il modulo nn.Sequential che permette di connettere moduli in cascata. Ad esempio, il seguente codice:\n",
    "y = modulo1(x)\n",
    "z = modulo2(y)\n",
    "h = modulo3(z)\n",
    "\n",
    "\n",
    "è implementato come segue con `nn.Sequential`:\n",
    "\n",
    "seq = nn.Sequential(modulo1, modulo2, modulo3)\n",
    "\n",
    "h = seq(x)\n",
    "\n",
    "Definiamo la classe DeepMLPClassifier:"
   ]
  },
  {
   "cell_type": "code",
   "execution_count": 234,
   "id": "87e044e8",
   "metadata": {},
   "outputs": [],
   "source": [
    "class DeepMLPClassifier(nn.Module):\n",
    "    def __init__(self, in_features, hidden_units,out_classes):\n",
    "        super(DeepMLPClassifier,self).__init__()\n",
    "    \n",
    "        self.model=nn.Sequential(nn.Linear(in_features,hidden_units), \n",
    "                             nn.ReLU(),\n",
    "                             nn.Linear(hidden_units,hidden_units),\n",
    "                             nn.ReLU(),\n",
    "                             nn.Linear(hidden_units,out_classes))\n",
    "    \n",
    "    def forward(self,x):\n",
    "        return self.model(x)"
   ]
  },
  {
   "cell_type": "code",
   "execution_count": 235,
   "id": "1bd5be3f",
   "metadata": {},
   "outputs": [
    {
     "name": "stdout",
     "output_type": "stream",
     "text": [
      "Epoch 1 of 10\n",
      "Epoch 2 of 10\n",
      "Epoch 3 of 10\n",
      "Epoch 4 of 10\n",
      "Epoch 5 of 10\n",
      "Epoch 6 of 10\n",
      "Epoch 7 of 10\n",
      "Epoch 8 of 10\n",
      "Epoch 9 of 10\n",
      "Epoch 10 of 10\n"
     ]
    }
   ],
   "source": [
    "# Adesso alleniamo il modello su Fashion-MNIST\n",
    "\n",
    "fashion_deep_mlp_classifier = DeepMLPClassifier(784,512,10)\n",
    "fashion_deep_mlp_classifier = train_classifier(fashion_deep_mlp_classifier,fashion_train_loader,fashion_test_loader,'fashion_deep_mlp_classifier',lr=0.01,epochs=10)"
   ]
  },
  {
   "cell_type": "code",
   "execution_count": 236,
   "id": "4cd8b5fb",
   "metadata": {},
   "outputs": [
    {
     "name": "stdout",
     "output_type": "stream",
     "text": [
      "Fashion Deep MLP Classifier - Accuracy Training : 0.9098\n",
      "Fashion Deep MLP Classifier - Accuracy di Test : 0.8768\n"
     ]
    }
   ],
   "source": [
    "# Calcoliamo adesso accuracy di training e test\n",
    "\n",
    "predictions_train_fashion_deep_mlp_classifier, labels_train = test_classifier(fashion_deep_mlp_classifier,fashion_train_loader)\n",
    "predictions_test_fashion_deep_mlp_classifier,labels_test=test_classifier(fashion_deep_mlp_classifier,fashion_test_loader)\n",
    "print('Fashion Deep MLP Classifier - Accuracy Training : %0.4f'%accuracy_score(labels_train,predictions_train_fashion_deep_mlp_classifier))\n",
    "print('Fashion Deep MLP Classifier - Accuracy di Test : %0.4f'%accuracy_score(labels_test,predictions_test_fashion_deep_mlp_classifier))"
   ]
  },
  {
   "cell_type": "markdown",
   "id": "340f8513",
   "metadata": {},
   "source": [
    "### 4 Costruzione di un Oggetto Dataset Personalizzato\n",
    "\n",
    "Abbiamo visto che PyTorch mette a disposizione alcuni oggetti dataset (ad esempio MNIST) che permettono di caricare determinati set di dati. Se vogliamo allenare un algoritmo su un set di dati non incluso in PyTorch, dobbiamo costruire un oggetto Dataset che ci permetta di caricare i dati. Inizieremo considerando il dataset disponibile al seguente URL:  \n",
    "[http://people.csail.mit.edu/torralba/code/spatialenvelope/](http://people.csail.mit.edu/torralba/code/spatialenvelope/spatial_envelope_256x256_static_8outdoorcategories.zip)\n",
    "\n",
    "Si tratta di un dataset contenente 2688 immagini a colori di dimensioni 256 × 256, suddivise in 8 classi a seconda del tipo di scena ritratto:\n",
    "\n",
    "- coast  \n",
    "- forest  \n",
    "- highway  \n",
    "- insidecity  \n",
    "- mountain  \n",
    "- opencountry  \n",
    "- street  \n",
    "- tallbuilding\n",
    "\n",
    "Il dataset si può scaricare da:  \n",
    "[http://people.csail.mit.edu/torralba/code/spatialenvelope/spatial_envelope_256x256_static_8outdoorcategories.zip](http://people.csail.mit.edu/torralba/code/spatialenvelope/spatial_envelope_256x256_static_8outdoorcategories.zip)\n",
    "\n",
    "Scarichiamo il dataset ed estraiamo il file nella cartella 8scenes nella directory di lavoro. La cartella conterrà le 2688 immagini a colori. La classe di appartenenza di ogni immagine è inclusa nel nome del file (ad es. coast_bea9.jpg). Il dataset non è suddiviso in training e test set. Per lavorare sullo stesso training/testing split, scarichiamo l’archivio zip disponibile all'URL:  \n",
    "[http://iplab.dmi.unict.it/ragusa/downloads/8scenes_train_test_split.zip](http://iplab.dmi.unict.it/ragusa/downloads/8scenes_train_test_split.zip)\n",
    "\n",
    "Estraiamo il contenuto dell’archivio all’interno della cartella 8scenes. L’archivio contiene tre file:\n",
    "\n",
    "- train.txt: contiene i nomi di 2188 immagini di training con le relative etichette in formato numerico (0 — 7);  \n",
    "- test.txt: contiene i nomi delle rimanenti 500 immagini di testing con le relative etichette in formato numerico;  \n",
    "- classes.txt: contiene i nomi delle classi. In particolare, la riga i-esima conterrà il nome della classe i-esima (dunque il nome della classe indicata come 0 in train.txt e test.txt sarà contenuto nella prima riga del file).\n",
    "\n",
    "---\n",
    "\n",
    "Creiamo la seguente struttura nella cartella \"8 scenes\":\n",
    "\n",
    "- \"labels\": Contiene i file di testo relativi agli split e alle classi.  \n",
    "- \"imgs\": Qui vengono inserite tutte e 2688 immagini.\n",
    "\n",
    "Costruiremo adesso un oggetto Dataset che ci permetta di caricare le immagini di training e test. Ciò si può fare in maniera molto naturale in PyTorch ereditando dalla classe Dataset. Ogni oggetto Dataset deve contenere almeno i seguenti metodi:\n",
    "\n",
    "- Un costruttore;\n",
    "- Il metodo __len__, che restituisce il numero di elementi contenuti nel dataset;\n",
    "- Il metodo __getitem__, che prende in input un indice e restituisce l’elemento corrispondente."
   ]
  },
  {
   "cell_type": "code",
   "execution_count": 239,
   "id": "68ef458d",
   "metadata": {},
   "outputs": [],
   "source": [
    "from torch.utils.data.dataset import Dataset\n",
    "from PIL import Image\n",
    "from os import path\n",
    "import numpy as np\n",
    "from torchvision import transforms\n",
    "\n",
    "class ScenesDataset(Dataset):\n",
    "    \"\"\"Implementa l'oggetto ScenesDataset che ci permette di caricare \n",
    "    le immagini del dataset 8 Scenes\"\"\"\n",
    "\n",
    "    def __init__(self, imgs_path, txt_path, transform=None):\n",
    "        \"\"\"\n",
    "        Input:\n",
    "        imgs_path: il path alla cartella contenente le immagini\n",
    "        txt_path: il path al file di testo contenente la lista delle immagini\n",
    "                  con le relative etichette. Ad esempio train.txt o test.txt.\n",
    "        transform: implementeremo il dataset in modo che esso supporti le trasformazioni\n",
    "        \"\"\"\n",
    "        # conserviamo il path alla cartella contenente le immagini\n",
    "        self.imgs_path = imgs_path\n",
    "\n",
    "        # carichiamo la lista dei file\n",
    "        # sarà una matrice con n righe (numero di immagini) e 2 colonne (path, etichetta)\n",
    "        self.images = np.loadtxt(txt_path, dtype=str, delimiter=\",\")\n",
    "\n",
    "        # conserviamo il riferimento alla trasformazione da applicare\n",
    "        self.transform = transform\n",
    "\n",
    "    def __getitem__(self, index):\n",
    "        # recuperiamo il path dell'immagine di indice index e la relativa etichetta\n",
    "        f, c = self.images[index]\n",
    "\n",
    "        # carichiamo l'immagine utilizzando PIL\n",
    "        im = Image.open(path.join(self.imgs_path, f))\n",
    "\n",
    "        # se la trasformazione è definita, applichiamola all'immagine\n",
    "        if self.transform is not None:\n",
    "            im = self.transform(im)\n",
    "\n",
    "        # convertiamo l'etichetta in un intero\n",
    "        label = int(c)\n",
    "\n",
    "        # restituiamo un dizionario contenente immagine e etichetta\n",
    "        return {\"image\": im, \"label\": label}\n",
    "\n",
    "    def __len__(self):\n",
    "        # restituiamo il numero di immagini: la lunghezza della lista \"images\"\n",
    "        return len(self.images)"
   ]
  },
  {
   "cell_type": "code",
   "execution_count": null,
   "id": "84fd02aa",
   "metadata": {},
   "outputs": [
    {
     "name": "stdout",
     "output_type": "stream",
     "text": [
      "torch.Size([3, 256, 256])\n",
      "1\n"
     ]
    }
   ],
   "source": [
    "dataset = ScenesDataset(\n",
    "    \"8scenes/imgs\",\n",
    "    \"8scenes/labels/train.txt\",\n",
    "    transform=transforms.ToTensor()\n",
    ")\n",
    "\n",
    "sample = dataset[0]\n",
    "# L'immagine è 3 x 256 x 256 perché è una immagine a colori\n",
    "print(sample[\"image\"].shape)\n",
    "print(sample[\"label\"])"
   ]
  },
  {
   "cell_type": "code",
   "execution_count": 242,
   "id": "9eddafd1",
   "metadata": {},
   "outputs": [
    {
     "name": "stdout",
     "output_type": "stream",
     "text": [
      "torch.Size([3, 32, 32])\n",
      "1\n"
     ]
    }
   ],
   "source": [
    "transform = transforms.Compose ([transforms.Resize(32), transforms.ToTensor()]) \n",
    "dataset = ScenesDataset('8scenes/imgs', '8scenes/labels/train.txt',transform=transform) \n",
    "sample = dataset[0]\n",
    "\n",
    "print(sample['image'].shape)\n",
    "print(sample['label'])"
   ]
  },
  {
   "cell_type": "code",
   "execution_count": 243,
   "id": "8c41d8ef",
   "metadata": {},
   "outputs": [],
   "source": [
    "m = np.zeros (3)\n",
    "\n",
    "for sample in dataset:\n",
    "    m+= sample[\"image\"].sum(1).sum(1).numpy() # accumuliamo La somma dei pixel\n",
    "\n",
    "# dividiamo per il numero di immagini moltiplicato per il numero di pixel \n",
    " \n",
    "m = m / (len(dataset) * 32 * 32)\n",
    "\n",
    "# procedura simile per calcolare la deviazione standard\n",
    "\n",
    "s = np.zeros(3)\n",
    "\n",
    "for sample in dataset: \n",
    "    s += ((sample[\"image\"] - torch.Tensor(m).view(3, 1, 1)) ** 2).sum(1).sum(1).numpy()\n",
    "    \n",
    "s = np.sqrt(s / (len(dataset) * 32 * 32))"
   ]
  },
  {
   "cell_type": "code",
   "execution_count": 245,
   "id": "86aa7634",
   "metadata": {},
   "outputs": [
    {
     "name": "stdout",
     "output_type": "stream",
     "text": [
      "Medie [0.42492868 0.4518573  0.44880303]\n",
      "Dev.Std. [0.23024197 0.22116355 0.25595557]\n"
     ]
    }
   ],
   "source": [
    "print(\"Medie\", m) \n",
    "print(\"Dev.Std.\", s)"
   ]
  },
  {
   "cell_type": "code",
   "execution_count": 244,
   "id": "b2f9a65c",
   "metadata": {},
   "outputs": [
    {
     "name": "stdout",
     "output_type": "stream",
     "text": [
      "torch.Size([3072])\n",
      "1\n"
     ]
    }
   ],
   "source": [
    "transform = transforms.Compose ([transforms. Resize (32),transforms. ToTensor(),transforms.Normalize(m,s),transforms.Lambda(lambda x: x.view(-1))])\n",
    "\n",
    "dataset = ScenesDataset('8scenes/imgs','8scenes/labels/train.txt',transform=transform)\n",
    "\n",
    "print(dataset [0]['image'].shape)\n",
    "\n",
    "print(dataset[0]['label'])"
   ]
  },
  {
   "cell_type": "code",
   "execution_count": null,
   "id": "17e5f135",
   "metadata": {},
   "outputs": [],
   "source": []
  }
 ],
 "metadata": {
  "kernelspec": {
   "display_name": "ML_def",
   "language": "python",
   "name": "python3"
  },
  "language_info": {
   "codemirror_mode": {
    "name": "ipython",
    "version": 3
   },
   "file_extension": ".py",
   "mimetype": "text/x-python",
   "name": "python",
   "nbconvert_exporter": "python",
   "pygments_lexer": "ipython3",
   "version": "3.8.20"
  }
 },
 "nbformat": 4,
 "nbformat_minor": 5
}
