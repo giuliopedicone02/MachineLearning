{
 "cells": [
  {
   "cell_type": "code",
   "execution_count": null,
   "metadata": {},
   "outputs": [
    {
     "name": "stderr",
     "output_type": "stream",
     "text": [
      "/Users/vincenzovillanova/miniconda3/envs/ML_def/lib/python3.8/site-packages/sklearn/datasets/_openml.py:1002: FutureWarning: The default value of `parser` will change from `'liac-arff'` to `'auto'` in 1.4. You can set `parser='auto'` to silence this warning. Therefore, an `ImportError` will be raised from 1.4 if the dataset is dense and pandas is not installed. Note that the pandas parser may return different data types. See the Notes Section in fetch_openml's API doc for details.\n",
      "  warn(\n"
     ]
    }
   ],
   "source": [
    "from sklearn.datasets import fetch_openml\n",
    "boston = fetch_openml(name='boston', version=1) # Serve per ottenere dei datasets da openml\n",
    "print(boston.DESCR)"
   ]
  },
  {
   "cell_type": "code",
   "execution_count": null,
   "metadata": {},
   "outputs": [
    {
     "name": "stdout",
     "output_type": "stream",
     "text": [
      "(506, 13)\n",
      "(506,)\n"
     ]
    }
   ],
   "source": [
    "X = boston.data.to_numpy().astype(float) # Convertiamo un dataframe in un array in modo tale da poter fare la shape\n",
    "Y = boston.target.to_numpy().astype(float) # stessa cosa\n",
    "\n",
    "print(X.shape)\n",
    "print(Y.shape)"
   ]
  },
  {
   "cell_type": "code",
   "execution_count": null,
   "metadata": {},
   "outputs": [],
   "source": [
    "import numpy as np\n",
    "import torch\n",
    "np.random.seed(123)\n",
    "torch.random.manual_seed(123)\n",
    "idx = np.random.permutation(len(X))"
   ]
  },
  {
   "cell_type": "code",
   "execution_count": null,
   "metadata": {},
   "outputs": [],
   "source": [
    "X = X[idx]\n",
    "Y = Y[idx]"
   ]
  },
  {
   "cell_type": "code",
   "execution_count": null,
   "metadata": {},
   "outputs": [],
   "source": [
    "X_training = torch.Tensor(X[50:])\n",
    "Y_training = torch.Tensor(Y[50:])\n",
    "\n",
    "X_testing = torch.Tensor(X[:50])\n",
    "Y_testing = torch.Tensor(Y[:50])"
   ]
  },
  {
   "cell_type": "markdown",
   "metadata": {},
   "source": [
    "# Perché abbiamo effettuato una permutazione casuale dei dati prima di suddividerli in training e testing set?\n",
    "Per evitare bias dovuto a eventuale ordinamento iniziale dei dati (es. per prezzo), rendendo la divisione più rappresentativa e il modello più affidabile."
   ]
  },
  {
   "cell_type": "code",
   "execution_count": null,
   "metadata": {},
   "outputs": [
    {
     "name": "stdout",
     "output_type": "stream",
     "text": [
      "tensor([-0.0111,  0.0120, -0.0370, -0.0240, -0.1197,  0.0209, -0.0972, -0.0755,\n",
      "         0.0324, -0.0109,  0.0210, -0.0391,  0.0235], requires_grad=True)\n",
      "tensor([0.0665], requires_grad=True)\n"
     ]
    }
   ],
   "source": [
    "theta = torch.Tensor(13) # Creiamo un tensore di 13 unità\n",
    "theta_0= torch.Tensor(1) # Tensore di una unità (bias)\n",
    "\n",
    "#impostiamo required_grad\n",
    "theta.requires_grad_(True)\n",
    "theta_0.requires_grad_(True)\n",
    "\n",
    "theta.data.normal_(0,0.1) # Inizializziamo il tensore con numeri casuali tratti da una distribuzione normale di media 0 e varianza 0.1\n",
    "theta_0.data.normal_(0,0.1)\n",
    "\n",
    "print(theta)\n",
    "print(theta_0)"
   ]
  },
  {
   "cell_type": "code",
   "execution_count": null,
   "metadata": {},
   "outputs": [],
   "source": [
    "def linear_regression(input,theta,theta_0):\n",
    "    return input.mul(theta).sum(1)+theta_0\n",
    "    #.mul(theta) fa un prodotto elemento per elemento tra ogni riga dell'input e theta\n",
    "    #.sum(1) Dopo il prodotto elemento per elemento, sommi lungo l’asse 1 (cioè per riga) \n",
    "    # + theta_0 Aggiungi il bias a ciascuna predizione."
   ]
  },
  {
   "cell_type": "markdown",
   "metadata": {},
   "source": [
    "\n",
    "### 📐 Funzione di regressione lineare:\n",
    "\n",
    "$$\n",
    "\\hat{y}^{(i)} = \\sum_{j=1}^{13} x^{(i)}_j \\cdot \\theta_j + \\theta_0\n",
    "$$\n",
    "\n",
    "Oppure, in forma più compatta con notazione vettoriale:\n",
    "\n",
    "$$\n",
    "\\hat{y} = X \\cdot \\theta + \\theta_0\n",
    "$$\n",
    "\n",
    "Dove:\n",
    "- $X$ è la **matrice degli input** (dimensione $N \\times 13$)\n",
    "- $\\theta$ è il **vettore dei pesi** (dimensione $13$)\n",
    "- $\\theta_0$ è lo **scalare di bias**\n",
    "- $\\hat{y}$ è il **vettore delle predizioni**\n"
   ]
  },
  {
   "cell_type": "code",
   "execution_count": null,
   "metadata": {},
   "outputs": [
    {
     "name": "stdout",
     "output_type": "stream",
     "text": [
      "tensor([[-6.2912e-04,  4.8145e-01, -2.3694e-01,  ...,  3.7018e-01,\n",
      "         -1.5513e+01,  8.2946e-02],\n",
      "        [-6.7404e-04,  0.0000e+00, -9.0930e-02,  ...,  3.7439e-01,\n",
      "         -1.5130e+01,  3.0899e-01],\n",
      "        [-7.0198e-03,  0.0000e+00, -3.0088e-01,  ...,  4.4170e-01,\n",
      "         -1.5513e+01,  1.9409e-01],\n",
      "        ...,\n",
      "        [-3.9141e-03,  0.0000e+00, -2.7279e-01,  ...,  4.1225e-01,\n",
      "         -1.5513e+01,  1.8093e-01],\n",
      "        [-1.0241e-01,  0.0000e+00, -6.6904e-01,  ...,  4.2487e-01,\n",
      "         -1.5513e+01,  5.5454e-01],\n",
      "        [-5.0783e-02,  0.0000e+00, -6.6904e-01,  ...,  4.2487e-01,\n",
      "         -1.3863e+01,  1.6730e-01]], grad_fn=<MulBackward0>) torch.Size([456, 13])\n"
     ]
    }
   ],
   "source": [
    "res = X_training.mul(theta)\n",
    "print (res,res.shape)"
   ]
  },
  {
   "cell_type": "code",
   "execution_count": null,
   "metadata": {},
   "outputs": [
    {
     "name": "stdout",
     "output_type": "stream",
     "text": [
      "torch.Size([456])\n"
     ]
    }
   ],
   "source": [
    "res=res.sum(1)\n",
    "print (res.shape)"
   ]
  },
  {
   "cell_type": "code",
   "execution_count": null,
   "metadata": {},
   "outputs": [
    {
     "name": "stdout",
     "output_type": "stream",
     "text": [
      "torch.Size([456])\n"
     ]
    }
   ],
   "source": [
    "res = res+theta_0\n",
    "print (res.shape)"
   ]
  },
  {
   "cell_type": "code",
   "execution_count": null,
   "metadata": {},
   "outputs": [
    {
     "name": "stdout",
     "output_type": "stream",
     "text": [
      "torch.Size([456])\n"
     ]
    }
   ],
   "source": [
    "res = X_training.mul(theta).sum(1)+theta_0\n",
    "print (res.shape)"
   ]
  },
  {
   "cell_type": "code",
   "execution_count": null,
   "metadata": {},
   "outputs": [
    {
     "name": "stdout",
     "output_type": "stream",
     "text": [
      "tensor([-20.8190, -23.3360, -24.6247, -31.4600, -27.4998, -28.1950, -27.1047,\n",
      "        -26.2724, -18.8539, -31.4594], grad_fn=<SliceBackward0>)\n"
     ]
    }
   ],
   "source": [
    "y = linear_regression(X_training,theta, theta_0)\n",
    "print(y[:10])"
   ]
  },
  {
   "cell_type": "code",
   "execution_count": null,
   "metadata": {},
   "outputs": [
    {
     "name": "stdout",
     "output_type": "stream",
     "text": [
      "tensor([32.4000, 29.6000, 20.4000, 12.3000, 19.1000, 14.9000, 17.8000,  8.8000,\n",
      "        35.4000, 11.5000])\n"
     ]
    }
   ],
   "source": [
    "print(Y_training[:10])"
   ]
  },
  {
   "cell_type": "code",
   "execution_count": null,
   "metadata": {},
   "outputs": [],
   "source": [
    "def loss(input, target):\n",
    "        return ((input-target)**2).mean()"
   ]
  },
  {
   "cell_type": "code",
   "execution_count": null,
   "metadata": {},
   "outputs": [
    {
     "name": "stdout",
     "output_type": "stream",
     "text": [
      "tensor(2274.0801, grad_fn=<MeanBackward0>)\n"
     ]
    }
   ],
   "source": [
    "print(loss(y,Y_training))"
   ]
  },
  {
   "cell_type": "markdown",
   "metadata": {},
   "source": [
    "# È importante che la funzione di loss sia differenziabile rispetto ai parametri del modello? Perché?\n",
    "Sì, è **fondamentale** che la funzione di **loss sia differenziabile** rispetto ai parametri del modello, perché:\n",
    "\n",
    "- I modelli si allenano usando **algoritmi di ottimizzazione basati sul gradiente**, come la **discesa del gradiente**.\n",
    "- Questi algoritmi richiedono di calcolare il **gradiente della loss rispetto ai parametri** (es. $\\frac{\\partial \\text{Loss}}{\\partial \\theta}$).\n",
    "- Se la funzione di loss **non è differenziabile**, il gradiente **non può essere calcolato** e il modello **non può aggiornare i suoi parametri** per imparare.\n",
    "- Librerie come PyTorch utilizzano **autograd**, che funziona solo su operazioni differenziabili per costruire il grafo computazionale e calcolare i gradienti automaticamente.\n",
    "\n",
    "In sintesi:  \n",
    "👉 **Senza una loss differenziabile, l’addestramento del modello non è possibile.**"
   ]
  },
  {
   "cell_type": "code",
   "execution_count": null,
   "metadata": {},
   "outputs": [
    {
     "name": "stdout",
     "output_type": "stream",
     "text": [
      "tensor([3.5481e+00, 1.1293e+01, 1.1224e+01, 6.1404e-02, 5.5591e-01, 6.2701e+00,\n",
      "        6.8338e+01, 3.7963e+00, 9.5658e+00, 4.0893e+02, 1.8468e+01, 3.5775e+02,\n",
      "        1.2820e+01]) tensor([8.4949e+00, 2.3287e+01, 6.9195e+00, 2.4033e-01, 1.1805e-01, 6.9616e-01,\n",
      "        2.8338e+01, 2.1295e+00, 8.7019e+00, 1.6880e+02, 2.1430e+00, 9.0201e+01,\n",
      "        7.1928e+00])\n"
     ]
    }
   ],
   "source": [
    "means = X_training.mean(0)\n",
    "stds = X_training.std(0)\n",
    "print(means,stds)"
   ]
  },
  {
   "cell_type": "code",
   "execution_count": null,
   "metadata": {},
   "outputs": [],
   "source": [
    "X_training_norm = (X_training-means)/stds"
   ]
  },
  {
   "cell_type": "code",
   "execution_count": null,
   "metadata": {},
   "outputs": [
    {
     "name": "stdout",
     "output_type": "stream",
     "text": [
      "tensor([ 0.0000e+00,  7.3199e-09,  1.2914e-07,  2.0914e-09,  3.1685e-07,\n",
      "        -4.2664e-07,  9.5158e-08,  1.2444e-07,  1.7777e-08,  2.1437e-08,\n",
      "        -2.1332e-07, -1.1503e-07,  1.6731e-07])\n",
      "tensor([1.0000, 1.0000, 1.0000, 1.0000, 1.0000, 1.0000, 1.0000, 1.0000, 1.0000,\n",
      "        1.0000, 1.0000, 1.0000, 1.0000])\n"
     ]
    }
   ],
   "source": [
    "print(X_training_norm.mean(0))\n",
    "print(X_training_norm.std(0))"
   ]
  },
  {
   "cell_type": "code",
   "execution_count": null,
   "metadata": {},
   "outputs": [],
   "source": [
    "X_testing_norm = (X_testing-means)/stds"
   ]
  },
  {
   "cell_type": "markdown",
   "metadata": {},
   "source": [
    "# Perché è importante normalizzare i dati ? Cosa può succedere se non lo facciamo?\n",
    "È importante normalizzare i dati perché molti algoritmi di machine learning (come k-NN, SVM, e regressione logistica) sono sensibili alla scala delle variabili. Se non lo facciamo, le feature con valori più grandi possono dominare quelle più piccole, influenzando negativamente l'apprendimento e le prestazioni del modello. Normalizzare aiuta anche a velocizzare la convergenza negli algoritmi basati su gradienti."
   ]
  },
  {
   "cell_type": "code",
   "execution_count": null,
   "metadata": {},
   "outputs": [
    {
     "name": "stdout",
     "output_type": "stream",
     "text": [
      "Epoch: 0, loss: 576.30\n",
      "Epoch: 1, loss: 356.67\n",
      "Epoch: 2, loss: 234.86\n",
      "Epoch: 3, loss: 158.02\n",
      "Epoch: 4, loss: 108.95\n",
      "Epoch: 5, loss: 77.55\n",
      "Epoch: 6, loss: 57.44\n",
      "Epoch: 7, loss: 44.54\n",
      "Epoch: 8, loss: 36.25\n",
      "Epoch: 9, loss: 30.91\n"
     ]
    }
   ],
   "source": [
    "lr = 0.1  # Tasso di apprendimento\n",
    "epochs = 10  # Numero di epoche per l’allenamento\n",
    "\n",
    "# Passo 1: Normalizziamo i dati \n",
    "\n",
    "means = X_training.mean(0)  # Calcola la media di ciascuna feature nel dataset di training\n",
    "stds = X_training.std(0)    # Calcola la deviazione standard di ciascuna feature\n",
    "\n",
    "X_training_norm = (X_training - means) / stds  # Normalizzazione dei dati di training\n",
    "X_testing_norm = (X_testing - means) / stds    # Normalizzazione dei dati di test con le stesse statistiche\n",
    "\n",
    "# Passo 2: Inizializziamo i pesi come abbiamo visto in precedenza\n",
    "\n",
    "theta = torch.Tensor(13)  # Inizializza un tensore di 13 pesi (una per ciascuna feature)\n",
    "theta_0 = torch.Tensor(1)  # Inizializza il bias (intercetta)\n",
    "\n",
    "theta.normal_(0, 0.01)  # Inizializzazione dei pesi con distribuzione normale (media=0, std=0.01)\n",
    "theta_0.normal_(0, 0.01)  # Inizializzazione del bias allo stesso modo\n",
    "\n",
    "theta.requires_grad_(True)  # Abilita il calcolo automatico del gradiente per theta\n",
    "theta_0.requires_grad_(True)  # Idem per theta_0\n",
    "\n",
    "for e in range(epochs):\n",
    "    # Passo 3: Calcoliamo le predizioni \n",
    "    y = linear_regression(X_training_norm, theta, theta_0)  # Predizione del modello\n",
    "\n",
    "    # Passo 4: calcoliamo il valore della loss\n",
    "    l = loss(y, Y_training)  # Calcolo della funzione di perdita (es. MSE)\n",
    "\n",
    "    # Passo 5: calcoliamo il gradiente della Loss rispetto a tutti i parametri\n",
    "    l.backward()  # Backpropagation: calcola i gradienti rispetto ai parametri\n",
    "\n",
    "    # stampiamo il valore della loss\n",
    "    print(\"Epoch: {}, loss: {:0.2f}\".format(e, l.item()))  # Visualizzazione della loss per monitoraggio\n",
    "\n",
    "    # Passo 6: Aggiorniamo i pesi\n",
    "    theta.data.sub_(lr * theta.grad.data)  # Aggiorna i pesi con discesa del gradiente\n",
    "    theta_0.data.sub_(lr * theta_0.grad.data)  # Aggiorna il bias\n",
    "\n",
    "    # Azzeriamo i gradienti per evitare di accumularli\n",
    "    theta.grad.data.zero_()  # Reset dei gradienti per theta\n",
    "    theta_0.grad.data.zero_()  # Reset dei gradienti per theta_0"
   ]
  },
  {
   "cell_type": "markdown",
   "metadata": {},
   "source": [
    "# Dai valori assunti dalla loss durante il training, possiamo dire che la rete è arrivata a convergenza? Ha senso provare ad allenare il modello per un numero maggiore di epoche?\n",
    "Se la loss decresce all’inizio e poi si stabilizza su un valore costante, allora sì, la rete è probabilmente arrivata a convergenza.\n",
    "\n",
    "Se la loss continua a scendere in modo significativo anche dopo 10 epoche, non ha senso fermarsi: allenare per più epoche potrebbe migliorare le prestazioni.\n",
    "\n",
    "Se invece la loss non cambia più dopo alcune epoche, aumentare le epoche è inutile: il modello ha già appreso quanto può."
   ]
  },
  {
   "cell_type": "code",
   "execution_count": null,
   "metadata": {},
   "outputs": [],
   "source": [
    "lr = 0.1  # Tasso di apprendimento\n",
    "epochs = 50  # Numero di epoche per l’allenamento\n",
    "\n",
    "# Passo 1: Normalizziamo i dati \n",
    "\n",
    "means = X_training.mean(0)  # Calcola la media di ciascuna feature nel dataset di training\n",
    "stds = X_training.std(0)    # Calcola la deviazione standard di ciascuna feature\n",
    "\n",
    "X_training_norm = (X_training - means) / stds  # Normalizzazione dei dati di training\n",
    "X_testing_norm = (X_testing - means) / stds    # Normalizzazione dei dati di test con le stesse statistiche\n",
    "\n",
    "# Passo 2: Inizializziamo i pesi come abbiamo visto in precedenza\n",
    "\n",
    "theta = torch.Tensor(13)  # Inizializza un tensore di 13 pesi (una per ciascuna feature)\n",
    "theta_0 = torch.Tensor(1)  # Inizializza il bias (intercetta)\n",
    "\n",
    "theta.normal_(0, 0.01)  # Inizializzazione dei pesi con distribuzione normale (media=0, std=0.01)\n",
    "theta_0.normal_(0, 0.01)  # Inizializzazione del bias allo stesso modo\n",
    "\n",
    "theta.requires_grad_(True)  # Abilita il calcolo automatico del gradiente per theta\n",
    "theta_0.requires_grad_(True)  # Idem per theta_0\n",
    "\n",
    "losses = []\n",
    "\n",
    "for e in range(epochs):\n",
    "    # Passo 3: Calcoliamo le predizioni \n",
    "    y = linear_regression(X_training_norm, theta, theta_0)  # Predizione del modello\n",
    "\n",
    "    # Passo 4: calcoliamo il valore della loss\n",
    "    l = loss(y, Y_training)  # Calcolo della funzione di perdita (es. MSE)\n",
    "\n",
    "    # Passo 5: calcoliamo il gradiente della Loss rispetto a tutti i parametri\n",
    "    l.backward()  # Backpropagation: calcola i gradienti rispetto ai parametri\n",
    "\n",
    "    # stampiamo il valore della loss\n",
    "    losses.append(l.item())\n",
    "\n",
    "    # Passo 6: Aggiorniamo i pesi\n",
    "    theta.data.sub_(lr * theta.grad.data)  # Aggiorna i pesi con discesa del gradiente\n",
    "    theta_0.data.sub_(lr * theta_0.grad.data)  # Aggiorna il bias\n",
    "\n",
    "    # Azzeriamo i gradienti per evitare di accumularli\n",
    "    theta.grad.data.zero_()  # Reset dei gradienti per theta\n",
    "    theta_0.grad.data.zero_()  # Reset dei gradienti per theta_0"
   ]
  },
  {
   "cell_type": "code",
   "execution_count": null,
   "metadata": {},
   "outputs": [
    {
     "data": {
      "image/png": "[encoded data removed]",
      "text/plain": [
       "<Figure size 1200x800 with 1 Axes>"
      ]
     },
     "metadata": {},
     "output_type": "display_data"
    }
   ],
   "source": [
    "%matplotlib inline\n",
    "from matplotlib import pyplot as plt\n",
    "plt.figure(figsize=(12,8))\n",
    "plt.plot(losses)\n",
    "plt.xlabel('epochs')\n",
    "plt.ylabel('loss')\n",
    "plt.grid()\n",
    "plt.show()"
   ]
  },
  {
   "cell_type": "code",
   "execution_count": null,
   "metadata": {},
   "outputs": [
    {
     "name": "stdout",
     "output_type": "stream",
     "text": [
      "tensor(42.8920, grad_fn=<MeanBackward0>)\n"
     ]
    }
   ],
   "source": [
    "# Iniziamo calcolando le predizioni del modello dati i pesi allenati\n",
    "\n",
    "yt =linear_regression(X_testing_norm,theta,theta_0)\n",
    "\n",
    "# Calcoliamo il valore della loss\n",
    "\n",
    "print(loss(yt,Y_testing))"
   ]
  },
  {
   "cell_type": "code",
   "execution_count": null,
   "metadata": {},
   "outputs": [],
   "source": [
    "lr = 0.1  # Tasso di apprendimento\n",
    "epochs = 50  # Numero di epoche per l’allenamento\n",
    "\n",
    "# Passo 1: Normalizziamo i dati \n",
    "\n",
    "means = X_training.mean(0)  # Calcola la media di ciascuna feature nel dataset di training\n",
    "stds = X_training.std(0)    # Calcola la deviazione standard di ciascuna feature\n",
    "\n",
    "X_training_norm = (X_training - means) / stds  # Normalizzazione dei dati di training\n",
    "X_testing_norm = (X_testing - means) / stds    # Normalizzazione dei dati di test con le stesse statistiche\n",
    "\n",
    "# Passo 2: Inizializziamo i pesi come abbiamo visto in precedenza\n",
    "\n",
    "theta = torch.Tensor(13)  # Inizializza un tensore di 13 pesi (una per ciascuna feature)\n",
    "theta_0 = torch.Tensor(1)  # Inizializza il bias (intercetta)\n",
    "\n",
    "theta.normal_(0, 0.01)  # Inizializzazione dei pesi con distribuzione normale (media=0, std=0.01)\n",
    "theta_0.normal_(0, 0.01)  # Inizializzazione del bias allo stesso modo\n",
    "\n",
    "theta.requires_grad_(True)  # Abilita il calcolo automatico del gradiente per theta\n",
    "theta_0.requires_grad_(True)  # Idem per theta_0\n",
    "\n",
    "losses_train = []\n",
    "losses_test = []\n",
    "\n",
    "for e in range(epochs):\n",
    "    # Passo 3: Calcoliamo le predizioni \n",
    "    y = linear_regression(X_training_norm, theta, theta_0)  # Predizione del modello\n",
    "\n",
    "    # Passo 4: calcoliamo il valore della loss\n",
    "    l = loss(y, Y_training)  # Calcolo della funzione di perdita (es. MSE)\n",
    "\n",
    "    losses_train.append(l.item())\n",
    "\n",
    "    # Passo 5: calcoliamo il gradiente della Loss rispetto a tutti i parametri\n",
    "    l.backward()  # Backpropagation: calcola i gradienti rispetto ai parametri\n",
    "\n",
    "\n",
    "    # Passo 6: Aggiorniamo i pesi\n",
    "    theta.data.sub_(lr * theta.grad.data)  # Aggiorna i pesi con discesa del gradiente\n",
    "    theta_0.data.sub_(lr * theta_0.grad.data)  # Aggiorna il bias\n",
    "\n",
    "    # Azzeriamo i gradienti per evitare di accumularli\n",
    "    theta.grad.data.zero_()  # Reset dei gradienti per theta\n",
    "    theta_0.grad.data.zero_()  # Reset dei gradienti per theta_0\n",
    "\n",
    "\n",
    "    #calcololiamo la loss sul test set\n",
    "    #dato che non dobbiamo calcolare i gradienti li disabilitiamo per risparmiare memoria\n",
    "    with torch.set_grad_enabled(False):\n",
    "        y_test = linear_regression(X_testing_norm, theta, theta_0)\n",
    "        loss_test=loss(y_test,Y_testing)\n",
    "        losses_test.append(loss_test.item())"
   ]
  },
  {
   "cell_type": "code",
   "execution_count": null,
   "metadata": {},
   "outputs": [
    {
     "data": {
      "image/png": "[encoded data removed]",
      "text/plain": [
       "<Figure size 1200x800 with 1 Axes>"
      ]
     },
     "metadata": {},
     "output_type": "display_data"
    }
   ],
   "source": [
    "from matplotlib import pyplot as plt\n",
    "plt.figure(figsize=(12,8))\n",
    "plt.plot(losses_train)\n",
    "plt.plot(losses_test)\n",
    "plt.xlabel('epochs')\n",
    "plt.ylabel('loss')\n",
    "plt.grid()\n",
    "plt.legend(['Training','Testing'])\n",
    "plt.show()"
   ]
  },
  {
   "cell_type": "markdown",
   "metadata": {},
   "source": [
    "# Continuare ad allenare il modello per più epoche potrebbe verosimilmente diminuire la loss di test? Perché? \n",
    "\n",
    "Sì, se la loss di test converge e continua a diminuire insieme a quella di training, allenare per più epoche potrebbe effettivamente migliorare ulteriormente le prestazioni del modello. Bisogna però monitorare che la loss di test non inizi a peggiorare, altrimenti si rischia l’overfitting."
   ]
  },
  {
   "cell_type": "markdown",
   "metadata": {},
   "source": [
    "# API ad Oggetti di PyTorch\n",
    "\n",
    "La **Domanda 6** chiede:\n",
    "\n",
    "> Si consideri la trasformazione lineare $ y = A x^T + b $. Perché è necessario trasporre la matrice $ x $?\n",
    "\n",
    "### Risposta:\n",
    "\n",
    "La trasposizione della matrice $ x $ è necessaria per far sì che le **dimensioni delle matrici siano compatibili** per la moltiplicazione con la matrice dei pesi $ A $.\n",
    "\n",
    "Nel dettaglio:\n",
    "\n",
    "- $ x $ ha dimensioni $ N \\times n $, dove $ N $ è il numero di campioni e $ n $ è la dimensionalità di ciascun campione.\n",
    "- $ A $ ha dimensioni $ m \\times n $, dove $ m $ è la dimensione dell’output.\n",
    "\n",
    "Per poter eseguire la moltiplicazione $ A x^T $, bisogna trasporre $ x $, che diventa $ n \\times N $, così che la moltiplicazione $ A (n \\times N) $ risulti in una matrice di dimensione $ m \\times N $, coerente con l’output $ y $.\n",
    "\n",
    "In sintesi:\n",
    "👉 **La trasposizione serve a garantire la compatibilità delle dimensioni tra la matrice dei pesi $ A $ e la matrice degli input $ x $** per poter eseguire correttamente la trasformazione lineare."
   ]
  },
  {
   "cell_type": "code",
   "execution_count": null,
   "metadata": {},
   "outputs": [],
   "source": [
    "from torch import nn \n",
    "\n",
    "linear = nn.Linear(20,10)"
   ]
  },
  {
   "cell_type": "code",
   "execution_count": null,
   "metadata": {},
   "outputs": [
    {
     "name": "stdout",
     "output_type": "stream",
     "text": [
      "torch.Size([10, 20])\n",
      "torch.Size([10])\n"
     ]
    }
   ],
   "source": [
    "par = list(linear.parameters())\n",
    "print(par[0].shape)\n",
    "print(par[1].shape)"
   ]
  },
  {
   "cell_type": "code",
   "execution_count": null,
   "metadata": {},
   "outputs": [
    {
     "name": "stdout",
     "output_type": "stream",
     "text": [
      "torch.Size([150, 10])\n"
     ]
    }
   ],
   "source": [
    "# Costruiamo una matrice di 150 elementi a 20 dimensioni\n",
    "sample_input= torch.rand((150,20))\n",
    "# Otteniamo una matrice di 150 elementi a 10 dimensioni\n",
    "\n",
    "sample_output = linear(sample_input)\n",
    "print(sample_output.shape)"
   ]
  },
  {
   "cell_type": "code",
   "execution_count": null,
   "metadata": {},
   "outputs": [
    {
     "name": "stdout",
     "output_type": "stream",
     "text": [
      "torch.Size([456, 1])\n"
     ]
    }
   ],
   "source": [
    "linreg = nn.Linear(13,1)\n",
    "z = linreg (X_training_norm)\n",
    "print(z.shape)"
   ]
  },
  {
   "cell_type": "markdown",
   "metadata": {},
   "source": [
    "# Funzione di Loss"
   ]
  },
  {
   "cell_type": "code",
   "execution_count": null,
   "metadata": {},
   "outputs": [],
   "source": [
    "mse = nn.MSELoss()"
   ]
  },
  {
   "cell_type": "code",
   "execution_count": null,
   "metadata": {},
   "outputs": [
    {
     "name": "stdout",
     "output_type": "stream",
     "text": [
      "Loss di PyTorch: tensor(583.5792, grad_fn=<MseLossBackward0>)\n",
      "Loss implementata a mano: tensor(583.5792, grad_fn=<MeanBackward0>)\n"
     ]
    }
   ],
   "source": [
    "print(\"Loss di PyTorch:\",mse(z,Y_training.view(-1,1))) # Alterativa .view(456,1)\n",
    "print(\"Loss implementata a mano:\",loss(z,Y_training.view(-1,1))) # Alterativa .view(456,1)"
   ]
  },
  {
   "cell_type": "markdown",
   "metadata": {},
   "source": [
    "# Definizione di Moduli"
   ]
  },
  {
   "cell_type": "code",
   "execution_count": null,
   "metadata": {},
   "outputs": [],
   "source": [
    "class LinearRegressor(nn.Module):\n",
    "    def __init__(self, in_size, out_size):\n",
    "        \"\"\"Costruisce un regressore logistico.\n",
    "        Input:\n",
    "            in_size: numero di feature in input (es. 13)\n",
    "            out_size: numero di elementi in output (es. 1)\"\"\"\n",
    "        super(LinearRegressor, self).__init__() #Richiamo del costruttore della superclasse\n",
    "        # Questo passo è necessario per abilitare alcuni meccanismi automatici dei moduli di Pytorch\n",
    "        self.linear = nn.Linear(in_size,out_size)\n",
    "\n",
    "    def forward(self,x):\n",
    "        \"\"\"Definisce come processare l'input x\"\"\"\n",
    "        result = self.linear(x)\n",
    "\n",
    "        return result"
   ]
  },
  {
   "cell_type": "code",
   "execution_count": null,
   "metadata": {},
   "outputs": [
    {
     "name": "stdout",
     "output_type": "stream",
     "text": [
      "[Parameter containing:\n",
      "tensor([[ 0.1109, -0.2135, -0.2508, -0.2333,  0.0270, -0.0753, -0.0312,  0.2009,\n",
      "          0.1694, -0.1469, -0.0047, -0.2152, -0.1842]], requires_grad=True), Parameter containing:\n",
      "tensor([-0.2486], requires_grad=True)]\n"
     ]
    }
   ],
   "source": [
    "reg = LinearRegressor(13,1)\n",
    "print(list(reg.parameters()))"
   ]
  },
  {
   "cell_type": "markdown",
   "metadata": {},
   "source": [
    "# Optimizers"
   ]
  },
  {
   "cell_type": "code",
   "execution_count": null,
   "metadata": {},
   "outputs": [],
   "source": [
    "lr = 0.1\n",
    "epochs = 100\n",
    "\n",
    "means = X_training.mean(0)\n",
    "stds = X_training.std(0)\n",
    "\n",
    "X_training_norm = (X_training-means)/stds\n",
    "X_testing_norm = (X_testing-means)/stds\n",
    "\n",
    "reg = LinearRegressor(13,1)\n",
    "criterion = nn.MSELoss()\n",
    "\n",
    "optimizer = torch.optim.SGD(reg.parameters(),lr=lr)\n",
    "\n",
    "losses_train = []\n",
    "losses_test = []\n",
    "\n",
    "for e in range(epochs):\n",
    "    reg.train()\n",
    "    output = reg(X_training_norm)\n",
    "    l = criterion(output.view(-1), Y_training)\n",
    "    losses_train.append(l.item())\n",
    "\n",
    "    l.backward()\n",
    "\n",
    "    optimizer.step()\n",
    "    optimizer.zero_grad()\n",
    "\n",
    "    reg.eval()\n",
    "\n",
    "    with torch.set_grad_enabled(False):\n",
    "        y_test = reg(X_testing_norm)\n",
    "        l = criterion(y_test.view(-1), Y_testing)\n",
    "        losses_test.append(l.item())"
   ]
  },
  {
   "cell_type": "markdown",
   "metadata": {},
   "source": [
    "# Domanda 7 - Si confronti il codice scritto sopra con il codice scritto in precedenza. Quali sono i vantaggi della nuova versione?\n",
    "\n",
    "1. ✅ **Versione \"moderna\"**: usa `nn.Module`, `nn.Linear`, `optimizer` e `MSELoss` di PyTorch.\n",
    "2. 🛠️ **Versione \"manuale\"**: costruzione artigianale del modello e dell’ottimizzazione con tensori `theta` e `theta_0`.\n",
    "\n",
    "---\n",
    "\n",
    "## ⚖️ Confronto tra i due approcci:\n",
    "\n",
    "| Aspetto | Versione `nn.Module` | Versione manuale |\n",
    "|--------|-----------------------|------------------|\n",
    "| **Modularità** | ✅ Più modulare e riusabile (`LinearRegressor` si può salvare, caricare, combinare) | 🔧 Più difficile da riusare, tutto è hardcoded |\n",
    "| **Ottimizzazione** | ✅ Usa `torch.optim.SGD` → gestisce bene update, momentum, etc. | 🧮 Gradienti e aggiornamento gestiti a mano |\n",
    "| **Leggibilità** | ✅ Più compatta e leggibile, soprattutto per chi conosce PyTorch | 👀 Più dettagliata, utile per imparare i meccanismi |\n",
    "| **Errori comuni evitati** | ✅ `zero_grad()` e `step()` ben strutturati | ⚠️ Rischio di dimenticare azzeramento gradiente |\n",
    "| **Debug e tracciabilità** | ✅ Facile da ispezionare con `.parameters()` e `state_dict()` | ⚠️ Più macchinosa, difficile da estendere |\n",
    "| **Performance su larga scala** | ✅ Ottimizzata internamente da PyTorch | ❌ Più lenta, non sfrutta tutte le ottimizzazioni |\n",
    "| **Flessibilità didattica** | 👎 Più astratta | ✅ Ottima per imparare *come funziona* il deep learning sotto al cofano |\n",
    "\n",
    "---\n",
    "\n",
    "## 💬 Quindi... **Quali sono i vantaggi della nuova versione (`nn.Module`)**?\n",
    "\n",
    "1. **Più compatibile con PyTorch moderno**: puoi salvare il modello, usare GPU, integrare con `DataLoader`, ecc.\n",
    "2. **Più pulita e concisa**: meno righe di codice, meno possibilità di errori.\n",
    "3. **Più estendibile**: puoi facilmente aggiungere altri layer, attivazioni, dropout, ecc.\n",
    "4. **Ottimizzatori avanzati**: puoi cambiare da `SGD` a `Adam` in una riga.\n",
    "5. **Supporto per tracking e salvataggio**: `model.state_dict()` ti permette di salvare e ricaricare il modello facilmente.\n",
    "\n",
    "---"
   ]
  },
  {
   "cell_type": "code",
   "execution_count": null,
   "metadata": {},
   "outputs": [
    {
     "data": {
      "image/png": "[encoded data removed]",
      "text/plain": [
       "<Figure size 1200x800 with 1 Axes>"
      ]
     },
     "metadata": {},
     "output_type": "display_data"
    }
   ],
   "source": [
    "from matplotlib import pyplot as plt \n",
    "plt.figure(figsize=(12,8))\n",
    "plt.plot(losses_train)\n",
    "plt.plot(losses_test)\n",
    "plt.xlabel('epochs')\n",
    "plt.ylabel('loss')\n",
    "plt.grid()\n",
    "plt.legend(['Training','Testing'])\n",
    "plt.show()"
   ]
  },
  {
   "cell_type": "markdown",
   "metadata": {},
   "source": []
  },
  {
   "cell_type": "markdown",
   "metadata": {},
   "source": [
    "# Monitoraggio della procedura di training"
   ]
  },
  {
   "cell_type": "code",
   "execution_count": null,
   "metadata": {},
   "outputs": [],
   "source": [
    "from  torch.utils.tensorboard import SummaryWriter\n",
    "writer = SummaryWriter('logs/test0')"
   ]
  },
  {
   "cell_type": "code",
   "execution_count": null,
   "metadata": {},
   "outputs": [
    {
     "ename": "NameError",
     "evalue": "name 'writer' is not defined",
     "output_type": "error",
     "traceback": [
      "\u001b[0;31m---------------------------------------------------------------------------\u001b[0m",
      "\u001b[0;31mNameError\u001b[0m                                 Traceback (most recent call last)",
      "Cell \u001b[0;32mIn[1], line 2\u001b[0m\n\u001b[1;32m      1\u001b[0m \u001b[38;5;28;01mfor\u001b[39;00m global_step \u001b[38;5;129;01min\u001b[39;00m \u001b[38;5;28mrange\u001b[39m(\u001b[38;5;241m10\u001b[39m):\n\u001b[0;32m----> 2\u001b[0m   \u001b[43mwriter\u001b[49m\u001b[38;5;241m.\u001b[39madd_scalar(\u001b[38;5;124m'\u001b[39m\u001b[38;5;124mloss/train\u001b[39m\u001b[38;5;124m'\u001b[39m,np\u001b[38;5;241m.\u001b[39msin(global_step\u001b[38;5;241m/\u001b[39m\u001b[38;5;241m5\u001b[39m\u001b[38;5;241m*\u001b[39m\u001b[38;5;241m3.14\u001b[39m),global_step\u001b[38;5;241m=\u001b[39mglobal_step)\n\u001b[1;32m      4\u001b[0m writer\u001b[38;5;241m.\u001b[39madd_scalar(\u001b[38;5;124m'\u001b[39m\u001b[38;5;124mloss/test\u001b[39m\u001b[38;5;124m'\u001b[39m,\u001b[38;5;241m1\u001b[39m,global_step\u001b[38;5;241m=\u001b[39mglobal_step)\n\u001b[1;32m      6\u001b[0m \u001b[38;5;28;01mfor\u001b[39;00m global_step \u001b[38;5;129;01min\u001b[39;00m \u001b[38;5;28mrange\u001b[39m(\u001b[38;5;241m10\u001b[39m,\u001b[38;5;241m20\u001b[39m):\n",
      "\u001b[0;31mNameError\u001b[0m: name 'writer' is not defined"
     ]
    }
   ],
   "source": [
    "for global_step in range(10):\n",
    "  writer.add_scalar('loss/train',np.sin(global_step/5*3.14),global_step=global_step)\n",
    "\n",
    "writer.add_scalar('loss/test',1,global_step=global_step)\n",
    "\n",
    "for global_step in range(10,20):\n",
    "  writer.add_scalar('loss/train',np.sin(global_step/5*3.14),global_step=global_step)\n",
    "\n",
    "writer.add_scalar('loss/test',0.5,global_step=global_step)"
   ]
  },
  {
   "cell_type": "code",
   "execution_count": null,
   "metadata": {},
   "outputs": [],
   "source": []
  }
 ],
 "metadata": {
  "kernelspec": {
   "display_name": "ML_def",
   "language": "python",
   "name": "python3"
  },
  "language_info": {
   "codemirror_mode": {
    "name": "ipython",
    "version": 3
   },
   "file_extension": ".py",
   "mimetype": "text/x-python",
   "name": "python",
   "nbconvert_exporter": "python",
   "pygments_lexer": "ipython3",
   "version": "3.8.20"
  }
 },
 "nbformat": 4,
 "nbformat_minor": 2
}
